{
 "cells": [
  {
   "cell_type": "markdown",
   "metadata": {},
   "source": [
    "# Copyright : fast.ai - Jeremy Howard & Sylvain Gugger - 2020 (GPLv3)"
   ]
  },
  {
   "cell_type": "markdown",
   "metadata": {},
   "source": [
    "Cellules de code et plan du notebook adaptées du livre :\n",
    "\n",
    "[Deep Learning for Coders with fastai & PyTorch](https://github.com/fastai/fastbook) de Jeremy Howard et Sylvain Gugger.\n",
    "\n",
    "The code in the original notebooks (and thus the code in this notebook) is covered by the GPL v3 license; see the [LICENSE file](https://github.com/fastai/fastbook/blob/master/LICENSE) for details."
   ]
  },
  {
   "cell_type": "code",
   "execution_count": 1,
   "metadata": {},
   "outputs": [],
   "source": [
    "from fastai2.vision.all import *\n",
    "\n",
    "# Configuration spécifique pour show_image() sur ce dataset : images en niveaux de gris\n",
    "matplotlib.rc('image', cmap='Greys')"
   ]
  },
  {
   "cell_type": "code",
   "execution_count": 2,
   "metadata": {},
   "outputs": [],
   "source": [
    "# Utilitaire\n",
    "def plot_function(f, tx=None, ty=None, title=None, min=-2, max=2, figsize=(6,4)):\n",
    "    x = torch.linspace(min,max)\n",
    "    fig,ax = plt.subplots(figsize=figsize)\n",
    "    ax.plot(x,f(x))\n",
    "    if tx is not None: ax.set_xlabel(tx)\n",
    "    if ty is not None: ax.set_ylabel(ty)\n",
    "    if title is not None: ax.set_title(title)"
   ]
  },
  {
   "cell_type": "markdown",
   "metadata": {},
   "source": [
    "# Les fondamentaux - Entrainer un classifier de chiffres manuscrits"
   ]
  },
  {
   "cell_type": "markdown",
   "metadata": {},
   "source": [
    "Le jeu de données MNIST : le \"Hello World\" du deep learning\n",
    "- [images](https://www.google.com/search?q=mnist+dataset&tbm=isch)\n",
    "- [historique](https://en.wikipedia.org/wiki/MNIST_database)"
   ]
  },
  {
   "cell_type": "markdown",
   "metadata": {},
   "source": [
    "## Pixels: comment un ordinateur représente des images"
   ]
  },
  {
   "cell_type": "code",
   "execution_count": 3,
   "metadata": {},
   "outputs": [
    {
     "data": {
      "text/plain": [
       "Path('/home/jupyter/.fastai/data/mnist_sample')"
      ]
     },
     "execution_count": 3,
     "metadata": {},
     "output_type": "execute_result"
    }
   ],
   "source": [
    "path = untar_data(URLs.MNIST_SAMPLE)\n",
    "path"
   ]
  },
  {
   "cell_type": "code",
   "execution_count": 4,
   "metadata": {},
   "outputs": [
    {
     "data": {
      "text/plain": [
       "(#3) [Path('/home/jupyter/.fastai/data/mnist_sample/valid'),Path('/home/jupyter/.fastai/data/mnist_sample/train'),Path('/home/jupyter/.fastai/data/mnist_sample/labels.csv')]"
      ]
     },
     "execution_count": 4,
     "metadata": {},
     "output_type": "execute_result"
    }
   ],
   "source": [
    "path.ls()"
   ]
  },
  {
   "cell_type": "code",
   "execution_count": 5,
   "metadata": {},
   "outputs": [
    {
     "data": {
      "text/plain": [
       "(#2) [Path('/home/jupyter/.fastai/data/mnist_sample/train/7'),Path('/home/jupyter/.fastai/data/mnist_sample/train/3')]"
      ]
     },
     "execution_count": 5,
     "metadata": {},
     "output_type": "execute_result"
    }
   ],
   "source": [
    "(path/'train').ls()"
   ]
  },
  {
   "cell_type": "code",
   "execution_count": 6,
   "metadata": {},
   "outputs": [
    {
     "data": {
      "text/plain": [
       "(#6131) [Path('/home/jupyter/.fastai/data/mnist_sample/train/3/10.png'),Path('/home/jupyter/.fastai/data/mnist_sample/train/3/10000.png'),Path('/home/jupyter/.fastai/data/mnist_sample/train/3/10011.png'),Path('/home/jupyter/.fastai/data/mnist_sample/train/3/10031.png'),Path('/home/jupyter/.fastai/data/mnist_sample/train/3/10034.png'),Path('/home/jupyter/.fastai/data/mnist_sample/train/3/10042.png'),Path('/home/jupyter/.fastai/data/mnist_sample/train/3/10052.png'),Path('/home/jupyter/.fastai/data/mnist_sample/train/3/1007.png'),Path('/home/jupyter/.fastai/data/mnist_sample/train/3/10074.png'),Path('/home/jupyter/.fastai/data/mnist_sample/train/3/10091.png')...]"
      ]
     },
     "execution_count": 6,
     "metadata": {},
     "output_type": "execute_result"
    }
   ],
   "source": [
    "threes = (path/'train'/'3').ls().sorted()\n",
    "sevens = (path/'train'/'7').ls().sorted()\n",
    "threes"
   ]
  },
  {
   "cell_type": "code",
   "execution_count": 7,
   "metadata": {},
   "outputs": [
    {
     "data": {
      "image/png": "[encoded data removed]",
      "text/plain": [
       "<PIL.PngImagePlugin.PngImageFile image mode=L size=28x28 at 0x7FF01132BA90>"
      ]
     },
     "execution_count": 7,
     "metadata": {},
     "output_type": "execute_result"
    }
   ],
   "source": [
    "im3_path = threes[1]\n",
    "im3 = Image.open(im3_path)\n",
    "im3"
   ]
  },
  {
   "cell_type": "code",
   "execution_count": 8,
   "metadata": {},
   "outputs": [
    {
     "data": {
      "text/plain": [
       "array([[  0,   0,   0,   0,   0,   0],\n",
       "       [  0,   0,   0,   0,   0,  29],\n",
       "       [  0,   0,   0,  48, 166, 224],\n",
       "       [  0,  93, 244, 249, 253, 187],\n",
       "       [  0, 107, 253, 253, 230,  48],\n",
       "       [  0,   3,  20,  20,  15,   0]], dtype=uint8)"
      ]
     },
     "execution_count": 8,
     "metadata": {},
     "output_type": "execute_result"
    }
   ],
   "source": [
    "array(im3)[4:10,4:10]"
   ]
  },
  {
   "cell_type": "code",
   "execution_count": 9,
   "metadata": {},
   "outputs": [
    {
     "data": {
      "text/plain": [
       "tensor([[  0,   0,   0,   0,   0,   0],\n",
       "        [  0,   0,   0,   0,   0,  29],\n",
       "        [  0,   0,   0,  48, 166, 224],\n",
       "        [  0,  93, 244, 249, 253, 187],\n",
       "        [  0, 107, 253, 253, 230,  48],\n",
       "        [  0,   3,  20,  20,  15,   0]], dtype=torch.uint8)"
      ]
     },
     "execution_count": 9,
     "metadata": {},
     "output_type": "execute_result"
    }
   ],
   "source": [
    "im3_t = tensor(im3)\n",
    "im3_t[4:10,4:10]"
   ]
  },
  {
   "cell_type": "code",
   "execution_count": 10,
   "metadata": {},
   "outputs": [
    {
     "data": {
      "text/html": [
       "<style  type=\"text/css\" >\n",
       "    #T_8f925df2_881e_11ea_bb7e_42010aa40004row0_col0 {\n",
       "            font-size:  6pt;\n",
       "            background-color:  #ffffff;\n",
       "            color:  #000000;\n",
       "        }    #T_8f925df2_881e_11ea_bb7e_42010aa40004row0_col1 {\n",
       "            font-size:  6pt;\n",
       "            background-color:  #ffffff;\n",
       "            color:  #000000;\n",
       "        }    #T_8f925df2_881e_11ea_bb7e_42010aa40004row0_col2 {\n",
       "            font-size:  6pt;\n",
       "            background-color:  #ffffff;\n",
       "            color:  #000000;\n",
       "        }    #T_8f925df2_881e_11ea_bb7e_42010aa40004row0_col3 {\n",
       "            font-size:  6pt;\n",
       "            background-color:  #ffffff;\n",
       "            color:  #000000;\n",
       "        }    #T_8f925df2_881e_11ea_bb7e_42010aa40004row0_col4 {\n",
       "            font-size:  6pt;\n",
       "            background-color:  #ffffff;\n",
       "            color:  #000000;\n",
       "        }    #T_8f925df2_881e_11ea_bb7e_42010aa40004row0_col5 {\n",
       "            font-size:  6pt;\n",
       "            background-color:  #ffffff;\n",
       "            color:  #000000;\n",
       "        }    #T_8f925df2_881e_11ea_bb7e_42010aa40004row0_col6 {\n",
       "            font-size:  6pt;\n",
       "            background-color:  #ffffff;\n",
       "            color:  #000000;\n",
       "        }    #T_8f925df2_881e_11ea_bb7e_42010aa40004row0_col7 {\n",
       "            font-size:  6pt;\n",
       "            background-color:  #ffffff;\n",
       "            color:  #000000;\n",
       "        }    #T_8f925df2_881e_11ea_bb7e_42010aa40004row0_col8 {\n",
       "            font-size:  6pt;\n",
       "            background-color:  #ffffff;\n",
       "            color:  #000000;\n",
       "        }    #T_8f925df2_881e_11ea_bb7e_42010aa40004row0_col9 {\n",
       "            font-size:  6pt;\n",
       "            background-color:  #ffffff;\n",
       "            color:  #000000;\n",
       "        }    #T_8f925df2_881e_11ea_bb7e_42010aa40004row0_col10 {\n",
       "            font-size:  6pt;\n",
       "            background-color:  #ffffff;\n",
       "            color:  #000000;\n",
       "        }    #T_8f925df2_881e_11ea_bb7e_42010aa40004row0_col11 {\n",
       "            font-size:  6pt;\n",
       "            background-color:  #ffffff;\n",
       "            color:  #000000;\n",
       "        }    #T_8f925df2_881e_11ea_bb7e_42010aa40004row0_col12 {\n",
       "            font-size:  6pt;\n",
       "            background-color:  #ffffff;\n",
       "            color:  #000000;\n",
       "        }    #T_8f925df2_881e_11ea_bb7e_42010aa40004row0_col13 {\n",
       "            font-size:  6pt;\n",
       "            background-color:  #ffffff;\n",
       "            color:  #000000;\n",
       "        }    #T_8f925df2_881e_11ea_bb7e_42010aa40004row0_col14 {\n",
       "            font-size:  6pt;\n",
       "            background-color:  #ffffff;\n",
       "            color:  #000000;\n",
       "        }    #T_8f925df2_881e_11ea_bb7e_42010aa40004row0_col15 {\n",
       "            font-size:  6pt;\n",
       "            background-color:  #ffffff;\n",
       "            color:  #000000;\n",
       "        }    #T_8f925df2_881e_11ea_bb7e_42010aa40004row0_col16 {\n",
       "            font-size:  6pt;\n",
       "            background-color:  #ffffff;\n",
       "            color:  #000000;\n",
       "        }    #T_8f925df2_881e_11ea_bb7e_42010aa40004row0_col17 {\n",
       "            font-size:  6pt;\n",
       "            background-color:  #ffffff;\n",
       "            color:  #000000;\n",
       "        }    #T_8f925df2_881e_11ea_bb7e_42010aa40004row1_col0 {\n",
       "            font-size:  6pt;\n",
       "            background-color:  #ffffff;\n",
       "            color:  #000000;\n",
       "        }    #T_8f925df2_881e_11ea_bb7e_42010aa40004row1_col1 {\n",
       "            font-size:  6pt;\n",
       "            background-color:  #ffffff;\n",
       "            color:  #000000;\n",
       "        }    #T_8f925df2_881e_11ea_bb7e_42010aa40004row1_col2 {\n",
       "            font-size:  6pt;\n",
       "            background-color:  #ffffff;\n",
       "            color:  #000000;\n",
       "        }    #T_8f925df2_881e_11ea_bb7e_42010aa40004row1_col3 {\n",
       "            font-size:  6pt;\n",
       "            background-color:  #ffffff;\n",
       "            color:  #000000;\n",
       "        }    #T_8f925df2_881e_11ea_bb7e_42010aa40004row1_col4 {\n",
       "            font-size:  6pt;\n",
       "            background-color:  #ffffff;\n",
       "            color:  #000000;\n",
       "        }    #T_8f925df2_881e_11ea_bb7e_42010aa40004row1_col5 {\n",
       "            font-size:  6pt;\n",
       "            background-color:  #efefef;\n",
       "            color:  #000000;\n",
       "        }    #T_8f925df2_881e_11ea_bb7e_42010aa40004row1_col6 {\n",
       "            font-size:  6pt;\n",
       "            background-color:  #7c7c7c;\n",
       "            color:  #000000;\n",
       "        }    #T_8f925df2_881e_11ea_bb7e_42010aa40004row1_col7 {\n",
       "            font-size:  6pt;\n",
       "            background-color:  #4a4a4a;\n",
       "            color:  #f1f1f1;\n",
       "        }    #T_8f925df2_881e_11ea_bb7e_42010aa40004row1_col8 {\n",
       "            font-size:  6pt;\n",
       "            background-color:  #000000;\n",
       "            color:  #f1f1f1;\n",
       "        }    #T_8f925df2_881e_11ea_bb7e_42010aa40004row1_col9 {\n",
       "            font-size:  6pt;\n",
       "            background-color:  #000000;\n",
       "            color:  #f1f1f1;\n",
       "        }    #T_8f925df2_881e_11ea_bb7e_42010aa40004row1_col10 {\n",
       "            font-size:  6pt;\n",
       "            background-color:  #000000;\n",
       "            color:  #f1f1f1;\n",
       "        }    #T_8f925df2_881e_11ea_bb7e_42010aa40004row1_col11 {\n",
       "            font-size:  6pt;\n",
       "            background-color:  #606060;\n",
       "            color:  #f1f1f1;\n",
       "        }    #T_8f925df2_881e_11ea_bb7e_42010aa40004row1_col12 {\n",
       "            font-size:  6pt;\n",
       "            background-color:  #4d4d4d;\n",
       "            color:  #f1f1f1;\n",
       "        }    #T_8f925df2_881e_11ea_bb7e_42010aa40004row1_col13 {\n",
       "            font-size:  6pt;\n",
       "            background-color:  #7c7c7c;\n",
       "            color:  #000000;\n",
       "        }    #T_8f925df2_881e_11ea_bb7e_42010aa40004row1_col14 {\n",
       "            font-size:  6pt;\n",
       "            background-color:  #bbbbbb;\n",
       "            color:  #000000;\n",
       "        }    #T_8f925df2_881e_11ea_bb7e_42010aa40004row1_col15 {\n",
       "            font-size:  6pt;\n",
       "            background-color:  #ffffff;\n",
       "            color:  #000000;\n",
       "        }    #T_8f925df2_881e_11ea_bb7e_42010aa40004row1_col16 {\n",
       "            font-size:  6pt;\n",
       "            background-color:  #ffffff;\n",
       "            color:  #000000;\n",
       "        }    #T_8f925df2_881e_11ea_bb7e_42010aa40004row1_col17 {\n",
       "            font-size:  6pt;\n",
       "            background-color:  #ffffff;\n",
       "            color:  #000000;\n",
       "        }    #T_8f925df2_881e_11ea_bb7e_42010aa40004row2_col0 {\n",
       "            font-size:  6pt;\n",
       "            background-color:  #ffffff;\n",
       "            color:  #000000;\n",
       "        }    #T_8f925df2_881e_11ea_bb7e_42010aa40004row2_col1 {\n",
       "            font-size:  6pt;\n",
       "            background-color:  #ffffff;\n",
       "            color:  #000000;\n",
       "        }    #T_8f925df2_881e_11ea_bb7e_42010aa40004row2_col2 {\n",
       "            font-size:  6pt;\n",
       "            background-color:  #ffffff;\n",
       "            color:  #000000;\n",
       "        }    #T_8f925df2_881e_11ea_bb7e_42010aa40004row2_col3 {\n",
       "            font-size:  6pt;\n",
       "            background-color:  #e4e4e4;\n",
       "            color:  #000000;\n",
       "        }    #T_8f925df2_881e_11ea_bb7e_42010aa40004row2_col4 {\n",
       "            font-size:  6pt;\n",
       "            background-color:  #6b6b6b;\n",
       "            color:  #000000;\n",
       "        }    #T_8f925df2_881e_11ea_bb7e_42010aa40004row2_col5 {\n",
       "            font-size:  6pt;\n",
       "            background-color:  #000000;\n",
       "            color:  #f1f1f1;\n",
       "        }    #T_8f925df2_881e_11ea_bb7e_42010aa40004row2_col6 {\n",
       "            font-size:  6pt;\n",
       "            background-color:  #000000;\n",
       "            color:  #f1f1f1;\n",
       "        }    #T_8f925df2_881e_11ea_bb7e_42010aa40004row2_col7 {\n",
       "            font-size:  6pt;\n",
       "            background-color:  #000000;\n",
       "            color:  #f1f1f1;\n",
       "        }    #T_8f925df2_881e_11ea_bb7e_42010aa40004row2_col8 {\n",
       "            font-size:  6pt;\n",
       "            background-color:  #171717;\n",
       "            color:  #f1f1f1;\n",
       "        }    #T_8f925df2_881e_11ea_bb7e_42010aa40004row2_col9 {\n",
       "            font-size:  6pt;\n",
       "            background-color:  #4b4b4b;\n",
       "            color:  #f1f1f1;\n",
       "        }    #T_8f925df2_881e_11ea_bb7e_42010aa40004row2_col10 {\n",
       "            font-size:  6pt;\n",
       "            background-color:  #010101;\n",
       "            color:  #f1f1f1;\n",
       "        }    #T_8f925df2_881e_11ea_bb7e_42010aa40004row2_col11 {\n",
       "            font-size:  6pt;\n",
       "            background-color:  #000000;\n",
       "            color:  #f1f1f1;\n",
       "        }    #T_8f925df2_881e_11ea_bb7e_42010aa40004row2_col12 {\n",
       "            font-size:  6pt;\n",
       "            background-color:  #000000;\n",
       "            color:  #f1f1f1;\n",
       "        }    #T_8f925df2_881e_11ea_bb7e_42010aa40004row2_col13 {\n",
       "            font-size:  6pt;\n",
       "            background-color:  #000000;\n",
       "            color:  #f1f1f1;\n",
       "        }    #T_8f925df2_881e_11ea_bb7e_42010aa40004row2_col14 {\n",
       "            font-size:  6pt;\n",
       "            background-color:  #171717;\n",
       "            color:  #f1f1f1;\n",
       "        }    #T_8f925df2_881e_11ea_bb7e_42010aa40004row2_col15 {\n",
       "            font-size:  6pt;\n",
       "            background-color:  #ffffff;\n",
       "            color:  #000000;\n",
       "        }    #T_8f925df2_881e_11ea_bb7e_42010aa40004row2_col16 {\n",
       "            font-size:  6pt;\n",
       "            background-color:  #ffffff;\n",
       "            color:  #000000;\n",
       "        }    #T_8f925df2_881e_11ea_bb7e_42010aa40004row2_col17 {\n",
       "            font-size:  6pt;\n",
       "            background-color:  #ffffff;\n",
       "            color:  #000000;\n",
       "        }    #T_8f925df2_881e_11ea_bb7e_42010aa40004row3_col0 {\n",
       "            font-size:  6pt;\n",
       "            background-color:  #ffffff;\n",
       "            color:  #000000;\n",
       "        }    #T_8f925df2_881e_11ea_bb7e_42010aa40004row3_col1 {\n",
       "            font-size:  6pt;\n",
       "            background-color:  #272727;\n",
       "            color:  #f1f1f1;\n",
       "        }    #T_8f925df2_881e_11ea_bb7e_42010aa40004row3_col2 {\n",
       "            font-size:  6pt;\n",
       "            background-color:  #0a0a0a;\n",
       "            color:  #f1f1f1;\n",
       "        }    #T_8f925df2_881e_11ea_bb7e_42010aa40004row3_col3 {\n",
       "            font-size:  6pt;\n",
       "            background-color:  #050505;\n",
       "            color:  #f1f1f1;\n",
       "        }    #T_8f925df2_881e_11ea_bb7e_42010aa40004row3_col4 {\n",
       "            font-size:  6pt;\n",
       "            background-color:  #000000;\n",
       "            color:  #f1f1f1;\n",
       "        }    #T_8f925df2_881e_11ea_bb7e_42010aa40004row3_col5 {\n",
       "            font-size:  6pt;\n",
       "            background-color:  #333333;\n",
       "            color:  #f1f1f1;\n",
       "        }    #T_8f925df2_881e_11ea_bb7e_42010aa40004row3_col6 {\n",
       "            font-size:  6pt;\n",
       "            background-color:  #e6e6e6;\n",
       "            color:  #000000;\n",
       "        }    #T_8f925df2_881e_11ea_bb7e_42010aa40004row3_col7 {\n",
       "            font-size:  6pt;\n",
       "            background-color:  #fafafa;\n",
       "            color:  #000000;\n",
       "        }    #T_8f925df2_881e_11ea_bb7e_42010aa40004row3_col8 {\n",
       "            font-size:  6pt;\n",
       "            background-color:  #fbfbfb;\n",
       "            color:  #000000;\n",
       "        }    #T_8f925df2_881e_11ea_bb7e_42010aa40004row3_col9 {\n",
       "            font-size:  6pt;\n",
       "            background-color:  #fdfdfd;\n",
       "            color:  #000000;\n",
       "        }    #T_8f925df2_881e_11ea_bb7e_42010aa40004row3_col10 {\n",
       "            font-size:  6pt;\n",
       "            background-color:  #fafafa;\n",
       "            color:  #000000;\n",
       "        }    #T_8f925df2_881e_11ea_bb7e_42010aa40004row3_col11 {\n",
       "            font-size:  6pt;\n",
       "            background-color:  #4b4b4b;\n",
       "            color:  #f1f1f1;\n",
       "        }    #T_8f925df2_881e_11ea_bb7e_42010aa40004row3_col12 {\n",
       "            font-size:  6pt;\n",
       "            background-color:  #000000;\n",
       "            color:  #f1f1f1;\n",
       "        }    #T_8f925df2_881e_11ea_bb7e_42010aa40004row3_col13 {\n",
       "            font-size:  6pt;\n",
       "            background-color:  #000000;\n",
       "            color:  #f1f1f1;\n",
       "        }    #T_8f925df2_881e_11ea_bb7e_42010aa40004row3_col14 {\n",
       "            font-size:  6pt;\n",
       "            background-color:  #171717;\n",
       "            color:  #f1f1f1;\n",
       "        }    #T_8f925df2_881e_11ea_bb7e_42010aa40004row3_col15 {\n",
       "            font-size:  6pt;\n",
       "            background-color:  #ffffff;\n",
       "            color:  #000000;\n",
       "        }    #T_8f925df2_881e_11ea_bb7e_42010aa40004row3_col16 {\n",
       "            font-size:  6pt;\n",
       "            background-color:  #ffffff;\n",
       "            color:  #000000;\n",
       "        }    #T_8f925df2_881e_11ea_bb7e_42010aa40004row3_col17 {\n",
       "            font-size:  6pt;\n",
       "            background-color:  #ffffff;\n",
       "            color:  #000000;\n",
       "        }    #T_8f925df2_881e_11ea_bb7e_42010aa40004row4_col0 {\n",
       "            font-size:  6pt;\n",
       "            background-color:  #ffffff;\n",
       "            color:  #000000;\n",
       "        }    #T_8f925df2_881e_11ea_bb7e_42010aa40004row4_col1 {\n",
       "            font-size:  6pt;\n",
       "            background-color:  #000000;\n",
       "            color:  #f1f1f1;\n",
       "        }    #T_8f925df2_881e_11ea_bb7e_42010aa40004row4_col2 {\n",
       "            font-size:  6pt;\n",
       "            background-color:  #000000;\n",
       "            color:  #f1f1f1;\n",
       "        }    #T_8f925df2_881e_11ea_bb7e_42010aa40004row4_col3 {\n",
       "            font-size:  6pt;\n",
       "            background-color:  #000000;\n",
       "            color:  #f1f1f1;\n",
       "        }    #T_8f925df2_881e_11ea_bb7e_42010aa40004row4_col4 {\n",
       "            font-size:  6pt;\n",
       "            background-color:  #1b1b1b;\n",
       "            color:  #f1f1f1;\n",
       "        }    #T_8f925df2_881e_11ea_bb7e_42010aa40004row4_col5 {\n",
       "            font-size:  6pt;\n",
       "            background-color:  #e0e0e0;\n",
       "            color:  #000000;\n",
       "        }    #T_8f925df2_881e_11ea_bb7e_42010aa40004row4_col6 {\n",
       "            font-size:  6pt;\n",
       "            background-color:  #ffffff;\n",
       "            color:  #000000;\n",
       "        }    #T_8f925df2_881e_11ea_bb7e_42010aa40004row4_col7 {\n",
       "            font-size:  6pt;\n",
       "            background-color:  #ffffff;\n",
       "            color:  #000000;\n",
       "        }    #T_8f925df2_881e_11ea_bb7e_42010aa40004row4_col8 {\n",
       "            font-size:  6pt;\n",
       "            background-color:  #ffffff;\n",
       "            color:  #000000;\n",
       "        }    #T_8f925df2_881e_11ea_bb7e_42010aa40004row4_col9 {\n",
       "            font-size:  6pt;\n",
       "            background-color:  #ffffff;\n",
       "            color:  #000000;\n",
       "        }    #T_8f925df2_881e_11ea_bb7e_42010aa40004row4_col10 {\n",
       "            font-size:  6pt;\n",
       "            background-color:  #ffffff;\n",
       "            color:  #000000;\n",
       "        }    #T_8f925df2_881e_11ea_bb7e_42010aa40004row4_col11 {\n",
       "            font-size:  6pt;\n",
       "            background-color:  #4e4e4e;\n",
       "            color:  #f1f1f1;\n",
       "        }    #T_8f925df2_881e_11ea_bb7e_42010aa40004row4_col12 {\n",
       "            font-size:  6pt;\n",
       "            background-color:  #000000;\n",
       "            color:  #f1f1f1;\n",
       "        }    #T_8f925df2_881e_11ea_bb7e_42010aa40004row4_col13 {\n",
       "            font-size:  6pt;\n",
       "            background-color:  #000000;\n",
       "            color:  #f1f1f1;\n",
       "        }    #T_8f925df2_881e_11ea_bb7e_42010aa40004row4_col14 {\n",
       "            font-size:  6pt;\n",
       "            background-color:  #767676;\n",
       "            color:  #000000;\n",
       "        }    #T_8f925df2_881e_11ea_bb7e_42010aa40004row4_col15 {\n",
       "            font-size:  6pt;\n",
       "            background-color:  #ffffff;\n",
       "            color:  #000000;\n",
       "        }    #T_8f925df2_881e_11ea_bb7e_42010aa40004row4_col16 {\n",
       "            font-size:  6pt;\n",
       "            background-color:  #ffffff;\n",
       "            color:  #000000;\n",
       "        }    #T_8f925df2_881e_11ea_bb7e_42010aa40004row4_col17 {\n",
       "            font-size:  6pt;\n",
       "            background-color:  #ffffff;\n",
       "            color:  #000000;\n",
       "        }    #T_8f925df2_881e_11ea_bb7e_42010aa40004row5_col0 {\n",
       "            font-size:  6pt;\n",
       "            background-color:  #ffffff;\n",
       "            color:  #000000;\n",
       "        }    #T_8f925df2_881e_11ea_bb7e_42010aa40004row5_col1 {\n",
       "            font-size:  6pt;\n",
       "            background-color:  #fcfcfc;\n",
       "            color:  #000000;\n",
       "        }    #T_8f925df2_881e_11ea_bb7e_42010aa40004row5_col2 {\n",
       "            font-size:  6pt;\n",
       "            background-color:  #f6f6f6;\n",
       "            color:  #000000;\n",
       "        }    #T_8f925df2_881e_11ea_bb7e_42010aa40004row5_col3 {\n",
       "            font-size:  6pt;\n",
       "            background-color:  #f6f6f6;\n",
       "            color:  #000000;\n",
       "        }    #T_8f925df2_881e_11ea_bb7e_42010aa40004row5_col4 {\n",
       "            font-size:  6pt;\n",
       "            background-color:  #f8f8f8;\n",
       "            color:  #000000;\n",
       "        }    #T_8f925df2_881e_11ea_bb7e_42010aa40004row5_col5 {\n",
       "            font-size:  6pt;\n",
       "            background-color:  #ffffff;\n",
       "            color:  #000000;\n",
       "        }    #T_8f925df2_881e_11ea_bb7e_42010aa40004row5_col6 {\n",
       "            font-size:  6pt;\n",
       "            background-color:  #ffffff;\n",
       "            color:  #000000;\n",
       "        }    #T_8f925df2_881e_11ea_bb7e_42010aa40004row5_col7 {\n",
       "            font-size:  6pt;\n",
       "            background-color:  #ffffff;\n",
       "            color:  #000000;\n",
       "        }    #T_8f925df2_881e_11ea_bb7e_42010aa40004row5_col8 {\n",
       "            font-size:  6pt;\n",
       "            background-color:  #ffffff;\n",
       "            color:  #000000;\n",
       "        }    #T_8f925df2_881e_11ea_bb7e_42010aa40004row5_col9 {\n",
       "            font-size:  6pt;\n",
       "            background-color:  #ffffff;\n",
       "            color:  #000000;\n",
       "        }    #T_8f925df2_881e_11ea_bb7e_42010aa40004row5_col10 {\n",
       "            font-size:  6pt;\n",
       "            background-color:  #e8e8e8;\n",
       "            color:  #000000;\n",
       "        }    #T_8f925df2_881e_11ea_bb7e_42010aa40004row5_col11 {\n",
       "            font-size:  6pt;\n",
       "            background-color:  #222222;\n",
       "            color:  #f1f1f1;\n",
       "        }    #T_8f925df2_881e_11ea_bb7e_42010aa40004row5_col12 {\n",
       "            font-size:  6pt;\n",
       "            background-color:  #000000;\n",
       "            color:  #f1f1f1;\n",
       "        }    #T_8f925df2_881e_11ea_bb7e_42010aa40004row5_col13 {\n",
       "            font-size:  6pt;\n",
       "            background-color:  #090909;\n",
       "            color:  #f1f1f1;\n",
       "        }    #T_8f925df2_881e_11ea_bb7e_42010aa40004row5_col14 {\n",
       "            font-size:  6pt;\n",
       "            background-color:  #d0d0d0;\n",
       "            color:  #000000;\n",
       "        }    #T_8f925df2_881e_11ea_bb7e_42010aa40004row5_col15 {\n",
       "            font-size:  6pt;\n",
       "            background-color:  #ffffff;\n",
       "            color:  #000000;\n",
       "        }    #T_8f925df2_881e_11ea_bb7e_42010aa40004row5_col16 {\n",
       "            font-size:  6pt;\n",
       "            background-color:  #ffffff;\n",
       "            color:  #000000;\n",
       "        }    #T_8f925df2_881e_11ea_bb7e_42010aa40004row5_col17 {\n",
       "            font-size:  6pt;\n",
       "            background-color:  #ffffff;\n",
       "            color:  #000000;\n",
       "        }    #T_8f925df2_881e_11ea_bb7e_42010aa40004row6_col0 {\n",
       "            font-size:  6pt;\n",
       "            background-color:  #ffffff;\n",
       "            color:  #000000;\n",
       "        }    #T_8f925df2_881e_11ea_bb7e_42010aa40004row6_col1 {\n",
       "            font-size:  6pt;\n",
       "            background-color:  #ffffff;\n",
       "            color:  #000000;\n",
       "        }    #T_8f925df2_881e_11ea_bb7e_42010aa40004row6_col2 {\n",
       "            font-size:  6pt;\n",
       "            background-color:  #ffffff;\n",
       "            color:  #000000;\n",
       "        }    #T_8f925df2_881e_11ea_bb7e_42010aa40004row6_col3 {\n",
       "            font-size:  6pt;\n",
       "            background-color:  #ffffff;\n",
       "            color:  #000000;\n",
       "        }    #T_8f925df2_881e_11ea_bb7e_42010aa40004row6_col4 {\n",
       "            font-size:  6pt;\n",
       "            background-color:  #ffffff;\n",
       "            color:  #000000;\n",
       "        }    #T_8f925df2_881e_11ea_bb7e_42010aa40004row6_col5 {\n",
       "            font-size:  6pt;\n",
       "            background-color:  #ffffff;\n",
       "            color:  #000000;\n",
       "        }    #T_8f925df2_881e_11ea_bb7e_42010aa40004row6_col6 {\n",
       "            font-size:  6pt;\n",
       "            background-color:  #ffffff;\n",
       "            color:  #000000;\n",
       "        }    #T_8f925df2_881e_11ea_bb7e_42010aa40004row6_col7 {\n",
       "            font-size:  6pt;\n",
       "            background-color:  #ffffff;\n",
       "            color:  #000000;\n",
       "        }    #T_8f925df2_881e_11ea_bb7e_42010aa40004row6_col8 {\n",
       "            font-size:  6pt;\n",
       "            background-color:  #ffffff;\n",
       "            color:  #000000;\n",
       "        }    #T_8f925df2_881e_11ea_bb7e_42010aa40004row6_col9 {\n",
       "            font-size:  6pt;\n",
       "            background-color:  #ffffff;\n",
       "            color:  #000000;\n",
       "        }    #T_8f925df2_881e_11ea_bb7e_42010aa40004row6_col10 {\n",
       "            font-size:  6pt;\n",
       "            background-color:  #060606;\n",
       "            color:  #f1f1f1;\n",
       "        }    #T_8f925df2_881e_11ea_bb7e_42010aa40004row6_col11 {\n",
       "            font-size:  6pt;\n",
       "            background-color:  #000000;\n",
       "            color:  #f1f1f1;\n",
       "        }    #T_8f925df2_881e_11ea_bb7e_42010aa40004row6_col12 {\n",
       "            font-size:  6pt;\n",
       "            background-color:  #090909;\n",
       "            color:  #f1f1f1;\n",
       "        }    #T_8f925df2_881e_11ea_bb7e_42010aa40004row6_col13 {\n",
       "            font-size:  6pt;\n",
       "            background-color:  #979797;\n",
       "            color:  #000000;\n",
       "        }    #T_8f925df2_881e_11ea_bb7e_42010aa40004row6_col14 {\n",
       "            font-size:  6pt;\n",
       "            background-color:  #ffffff;\n",
       "            color:  #000000;\n",
       "        }    #T_8f925df2_881e_11ea_bb7e_42010aa40004row6_col15 {\n",
       "            font-size:  6pt;\n",
       "            background-color:  #ffffff;\n",
       "            color:  #000000;\n",
       "        }    #T_8f925df2_881e_11ea_bb7e_42010aa40004row6_col16 {\n",
       "            font-size:  6pt;\n",
       "            background-color:  #ffffff;\n",
       "            color:  #000000;\n",
       "        }    #T_8f925df2_881e_11ea_bb7e_42010aa40004row6_col17 {\n",
       "            font-size:  6pt;\n",
       "            background-color:  #ffffff;\n",
       "            color:  #000000;\n",
       "        }    #T_8f925df2_881e_11ea_bb7e_42010aa40004row7_col0 {\n",
       "            font-size:  6pt;\n",
       "            background-color:  #ffffff;\n",
       "            color:  #000000;\n",
       "        }    #T_8f925df2_881e_11ea_bb7e_42010aa40004row7_col1 {\n",
       "            font-size:  6pt;\n",
       "            background-color:  #ffffff;\n",
       "            color:  #000000;\n",
       "        }    #T_8f925df2_881e_11ea_bb7e_42010aa40004row7_col2 {\n",
       "            font-size:  6pt;\n",
       "            background-color:  #ffffff;\n",
       "            color:  #000000;\n",
       "        }    #T_8f925df2_881e_11ea_bb7e_42010aa40004row7_col3 {\n",
       "            font-size:  6pt;\n",
       "            background-color:  #ffffff;\n",
       "            color:  #000000;\n",
       "        }    #T_8f925df2_881e_11ea_bb7e_42010aa40004row7_col4 {\n",
       "            font-size:  6pt;\n",
       "            background-color:  #ffffff;\n",
       "            color:  #000000;\n",
       "        }    #T_8f925df2_881e_11ea_bb7e_42010aa40004row7_col5 {\n",
       "            font-size:  6pt;\n",
       "            background-color:  #ffffff;\n",
       "            color:  #000000;\n",
       "        }    #T_8f925df2_881e_11ea_bb7e_42010aa40004row7_col6 {\n",
       "            font-size:  6pt;\n",
       "            background-color:  #ffffff;\n",
       "            color:  #000000;\n",
       "        }    #T_8f925df2_881e_11ea_bb7e_42010aa40004row7_col7 {\n",
       "            font-size:  6pt;\n",
       "            background-color:  #f8f8f8;\n",
       "            color:  #000000;\n",
       "        }    #T_8f925df2_881e_11ea_bb7e_42010aa40004row7_col8 {\n",
       "            font-size:  6pt;\n",
       "            background-color:  #b6b6b6;\n",
       "            color:  #000000;\n",
       "        }    #T_8f925df2_881e_11ea_bb7e_42010aa40004row7_col9 {\n",
       "            font-size:  6pt;\n",
       "            background-color:  #252525;\n",
       "            color:  #f1f1f1;\n",
       "        }    #T_8f925df2_881e_11ea_bb7e_42010aa40004row7_col10 {\n",
       "            font-size:  6pt;\n",
       "            background-color:  #010101;\n",
       "            color:  #f1f1f1;\n",
       "        }    #T_8f925df2_881e_11ea_bb7e_42010aa40004row7_col11 {\n",
       "            font-size:  6pt;\n",
       "            background-color:  #060606;\n",
       "            color:  #f1f1f1;\n",
       "        }    #T_8f925df2_881e_11ea_bb7e_42010aa40004row7_col12 {\n",
       "            font-size:  6pt;\n",
       "            background-color:  #999999;\n",
       "            color:  #000000;\n",
       "        }    #T_8f925df2_881e_11ea_bb7e_42010aa40004row7_col13 {\n",
       "            font-size:  6pt;\n",
       "            background-color:  #ffffff;\n",
       "            color:  #000000;\n",
       "        }    #T_8f925df2_881e_11ea_bb7e_42010aa40004row7_col14 {\n",
       "            font-size:  6pt;\n",
       "            background-color:  #ffffff;\n",
       "            color:  #000000;\n",
       "        }    #T_8f925df2_881e_11ea_bb7e_42010aa40004row7_col15 {\n",
       "            font-size:  6pt;\n",
       "            background-color:  #ffffff;\n",
       "            color:  #000000;\n",
       "        }    #T_8f925df2_881e_11ea_bb7e_42010aa40004row7_col16 {\n",
       "            font-size:  6pt;\n",
       "            background-color:  #ffffff;\n",
       "            color:  #000000;\n",
       "        }    #T_8f925df2_881e_11ea_bb7e_42010aa40004row7_col17 {\n",
       "            font-size:  6pt;\n",
       "            background-color:  #ffffff;\n",
       "            color:  #000000;\n",
       "        }    #T_8f925df2_881e_11ea_bb7e_42010aa40004row8_col0 {\n",
       "            font-size:  6pt;\n",
       "            background-color:  #ffffff;\n",
       "            color:  #000000;\n",
       "        }    #T_8f925df2_881e_11ea_bb7e_42010aa40004row8_col1 {\n",
       "            font-size:  6pt;\n",
       "            background-color:  #ffffff;\n",
       "            color:  #000000;\n",
       "        }    #T_8f925df2_881e_11ea_bb7e_42010aa40004row8_col2 {\n",
       "            font-size:  6pt;\n",
       "            background-color:  #ffffff;\n",
       "            color:  #000000;\n",
       "        }    #T_8f925df2_881e_11ea_bb7e_42010aa40004row8_col3 {\n",
       "            font-size:  6pt;\n",
       "            background-color:  #ffffff;\n",
       "            color:  #000000;\n",
       "        }    #T_8f925df2_881e_11ea_bb7e_42010aa40004row8_col4 {\n",
       "            font-size:  6pt;\n",
       "            background-color:  #ffffff;\n",
       "            color:  #000000;\n",
       "        }    #T_8f925df2_881e_11ea_bb7e_42010aa40004row8_col5 {\n",
       "            font-size:  6pt;\n",
       "            background-color:  #f9f9f9;\n",
       "            color:  #000000;\n",
       "        }    #T_8f925df2_881e_11ea_bb7e_42010aa40004row8_col6 {\n",
       "            font-size:  6pt;\n",
       "            background-color:  #6b6b6b;\n",
       "            color:  #000000;\n",
       "        }    #T_8f925df2_881e_11ea_bb7e_42010aa40004row8_col7 {\n",
       "            font-size:  6pt;\n",
       "            background-color:  #101010;\n",
       "            color:  #f1f1f1;\n",
       "        }    #T_8f925df2_881e_11ea_bb7e_42010aa40004row8_col8 {\n",
       "            font-size:  6pt;\n",
       "            background-color:  #010101;\n",
       "            color:  #f1f1f1;\n",
       "        }    #T_8f925df2_881e_11ea_bb7e_42010aa40004row8_col9 {\n",
       "            font-size:  6pt;\n",
       "            background-color:  #020202;\n",
       "            color:  #f1f1f1;\n",
       "        }    #T_8f925df2_881e_11ea_bb7e_42010aa40004row8_col10 {\n",
       "            font-size:  6pt;\n",
       "            background-color:  #010101;\n",
       "            color:  #f1f1f1;\n",
       "        }    #T_8f925df2_881e_11ea_bb7e_42010aa40004row8_col11 {\n",
       "            font-size:  6pt;\n",
       "            background-color:  #545454;\n",
       "            color:  #f1f1f1;\n",
       "        }    #T_8f925df2_881e_11ea_bb7e_42010aa40004row8_col12 {\n",
       "            font-size:  6pt;\n",
       "            background-color:  #f1f1f1;\n",
       "            color:  #000000;\n",
       "        }    #T_8f925df2_881e_11ea_bb7e_42010aa40004row8_col13 {\n",
       "            font-size:  6pt;\n",
       "            background-color:  #ffffff;\n",
       "            color:  #000000;\n",
       "        }    #T_8f925df2_881e_11ea_bb7e_42010aa40004row8_col14 {\n",
       "            font-size:  6pt;\n",
       "            background-color:  #ffffff;\n",
       "            color:  #000000;\n",
       "        }    #T_8f925df2_881e_11ea_bb7e_42010aa40004row8_col15 {\n",
       "            font-size:  6pt;\n",
       "            background-color:  #ffffff;\n",
       "            color:  #000000;\n",
       "        }    #T_8f925df2_881e_11ea_bb7e_42010aa40004row8_col16 {\n",
       "            font-size:  6pt;\n",
       "            background-color:  #ffffff;\n",
       "            color:  #000000;\n",
       "        }    #T_8f925df2_881e_11ea_bb7e_42010aa40004row8_col17 {\n",
       "            font-size:  6pt;\n",
       "            background-color:  #ffffff;\n",
       "            color:  #000000;\n",
       "        }    #T_8f925df2_881e_11ea_bb7e_42010aa40004row9_col0 {\n",
       "            font-size:  6pt;\n",
       "            background-color:  #ffffff;\n",
       "            color:  #000000;\n",
       "        }    #T_8f925df2_881e_11ea_bb7e_42010aa40004row9_col1 {\n",
       "            font-size:  6pt;\n",
       "            background-color:  #ffffff;\n",
       "            color:  #000000;\n",
       "        }    #T_8f925df2_881e_11ea_bb7e_42010aa40004row9_col2 {\n",
       "            font-size:  6pt;\n",
       "            background-color:  #ffffff;\n",
       "            color:  #000000;\n",
       "        }    #T_8f925df2_881e_11ea_bb7e_42010aa40004row9_col3 {\n",
       "            font-size:  6pt;\n",
       "            background-color:  #ffffff;\n",
       "            color:  #000000;\n",
       "        }    #T_8f925df2_881e_11ea_bb7e_42010aa40004row9_col4 {\n",
       "            font-size:  6pt;\n",
       "            background-color:  #ffffff;\n",
       "            color:  #000000;\n",
       "        }    #T_8f925df2_881e_11ea_bb7e_42010aa40004row9_col5 {\n",
       "            font-size:  6pt;\n",
       "            background-color:  #f7f7f7;\n",
       "            color:  #000000;\n",
       "        }    #T_8f925df2_881e_11ea_bb7e_42010aa40004row9_col6 {\n",
       "            font-size:  6pt;\n",
       "            background-color:  #060606;\n",
       "            color:  #f1f1f1;\n",
       "        }    #T_8f925df2_881e_11ea_bb7e_42010aa40004row9_col7 {\n",
       "            font-size:  6pt;\n",
       "            background-color:  #030303;\n",
       "            color:  #f1f1f1;\n",
       "        }    #T_8f925df2_881e_11ea_bb7e_42010aa40004row9_col8 {\n",
       "            font-size:  6pt;\n",
       "            background-color:  #010101;\n",
       "            color:  #f1f1f1;\n",
       "        }    #T_8f925df2_881e_11ea_bb7e_42010aa40004row9_col9 {\n",
       "            font-size:  6pt;\n",
       "            background-color:  #020202;\n",
       "            color:  #f1f1f1;\n",
       "        }    #T_8f925df2_881e_11ea_bb7e_42010aa40004row9_col10 {\n",
       "            font-size:  6pt;\n",
       "            background-color:  #010101;\n",
       "            color:  #f1f1f1;\n",
       "        }    #T_8f925df2_881e_11ea_bb7e_42010aa40004row9_col11 {\n",
       "            font-size:  6pt;\n",
       "            background-color:  #000000;\n",
       "            color:  #f1f1f1;\n",
       "        }    #T_8f925df2_881e_11ea_bb7e_42010aa40004row9_col12 {\n",
       "            font-size:  6pt;\n",
       "            background-color:  #181818;\n",
       "            color:  #f1f1f1;\n",
       "        }    #T_8f925df2_881e_11ea_bb7e_42010aa40004row9_col13 {\n",
       "            font-size:  6pt;\n",
       "            background-color:  #303030;\n",
       "            color:  #f1f1f1;\n",
       "        }    #T_8f925df2_881e_11ea_bb7e_42010aa40004row9_col14 {\n",
       "            font-size:  6pt;\n",
       "            background-color:  #a9a9a9;\n",
       "            color:  #000000;\n",
       "        }    #T_8f925df2_881e_11ea_bb7e_42010aa40004row9_col15 {\n",
       "            font-size:  6pt;\n",
       "            background-color:  #fefefe;\n",
       "            color:  #000000;\n",
       "        }    #T_8f925df2_881e_11ea_bb7e_42010aa40004row9_col16 {\n",
       "            font-size:  6pt;\n",
       "            background-color:  #ffffff;\n",
       "            color:  #000000;\n",
       "        }    #T_8f925df2_881e_11ea_bb7e_42010aa40004row9_col17 {\n",
       "            font-size:  6pt;\n",
       "            background-color:  #ffffff;\n",
       "            color:  #000000;\n",
       "        }    #T_8f925df2_881e_11ea_bb7e_42010aa40004row10_col0 {\n",
       "            font-size:  6pt;\n",
       "            background-color:  #ffffff;\n",
       "            color:  #000000;\n",
       "        }    #T_8f925df2_881e_11ea_bb7e_42010aa40004row10_col1 {\n",
       "            font-size:  6pt;\n",
       "            background-color:  #ffffff;\n",
       "            color:  #000000;\n",
       "        }    #T_8f925df2_881e_11ea_bb7e_42010aa40004row10_col2 {\n",
       "            font-size:  6pt;\n",
       "            background-color:  #ffffff;\n",
       "            color:  #000000;\n",
       "        }    #T_8f925df2_881e_11ea_bb7e_42010aa40004row10_col3 {\n",
       "            font-size:  6pt;\n",
       "            background-color:  #ffffff;\n",
       "            color:  #000000;\n",
       "        }    #T_8f925df2_881e_11ea_bb7e_42010aa40004row10_col4 {\n",
       "            font-size:  6pt;\n",
       "            background-color:  #ffffff;\n",
       "            color:  #000000;\n",
       "        }    #T_8f925df2_881e_11ea_bb7e_42010aa40004row10_col5 {\n",
       "            font-size:  6pt;\n",
       "            background-color:  #ffffff;\n",
       "            color:  #000000;\n",
       "        }    #T_8f925df2_881e_11ea_bb7e_42010aa40004row10_col6 {\n",
       "            font-size:  6pt;\n",
       "            background-color:  #ffffff;\n",
       "            color:  #000000;\n",
       "        }    #T_8f925df2_881e_11ea_bb7e_42010aa40004row10_col7 {\n",
       "            font-size:  6pt;\n",
       "            background-color:  #e8e8e8;\n",
       "            color:  #000000;\n",
       "        }    #T_8f925df2_881e_11ea_bb7e_42010aa40004row10_col8 {\n",
       "            font-size:  6pt;\n",
       "            background-color:  #bababa;\n",
       "            color:  #000000;\n",
       "        }    #T_8f925df2_881e_11ea_bb7e_42010aa40004row10_col9 {\n",
       "            font-size:  6pt;\n",
       "            background-color:  #bababa;\n",
       "            color:  #000000;\n",
       "        }    #T_8f925df2_881e_11ea_bb7e_42010aa40004row10_col10 {\n",
       "            font-size:  6pt;\n",
       "            background-color:  #393939;\n",
       "            color:  #f1f1f1;\n",
       "        }    #T_8f925df2_881e_11ea_bb7e_42010aa40004row10_col11 {\n",
       "            font-size:  6pt;\n",
       "            background-color:  #000000;\n",
       "            color:  #f1f1f1;\n",
       "        }    #T_8f925df2_881e_11ea_bb7e_42010aa40004row10_col12 {\n",
       "            font-size:  6pt;\n",
       "            background-color:  #000000;\n",
       "            color:  #f1f1f1;\n",
       "        }    #T_8f925df2_881e_11ea_bb7e_42010aa40004row10_col13 {\n",
       "            font-size:  6pt;\n",
       "            background-color:  #000000;\n",
       "            color:  #f1f1f1;\n",
       "        }    #T_8f925df2_881e_11ea_bb7e_42010aa40004row10_col14 {\n",
       "            font-size:  6pt;\n",
       "            background-color:  #000000;\n",
       "            color:  #f1f1f1;\n",
       "        }    #T_8f925df2_881e_11ea_bb7e_42010aa40004row10_col15 {\n",
       "            font-size:  6pt;\n",
       "            background-color:  #000000;\n",
       "            color:  #f1f1f1;\n",
       "        }    #T_8f925df2_881e_11ea_bb7e_42010aa40004row10_col16 {\n",
       "            font-size:  6pt;\n",
       "            background-color:  #000000;\n",
       "            color:  #f1f1f1;\n",
       "        }    #T_8f925df2_881e_11ea_bb7e_42010aa40004row10_col17 {\n",
       "            font-size:  6pt;\n",
       "            background-color:  #ffffff;\n",
       "            color:  #000000;\n",
       "        }</style><table id=\"T_8f925df2_881e_11ea_bb7e_42010aa40004\" ><thead>    <tr>        <th class=\"blank level0\" ></th>        <th class=\"col_heading level0 col0\" >0</th>        <th class=\"col_heading level0 col1\" >1</th>        <th class=\"col_heading level0 col2\" >2</th>        <th class=\"col_heading level0 col3\" >3</th>        <th class=\"col_heading level0 col4\" >4</th>        <th class=\"col_heading level0 col5\" >5</th>        <th class=\"col_heading level0 col6\" >6</th>        <th class=\"col_heading level0 col7\" >7</th>        <th class=\"col_heading level0 col8\" >8</th>        <th class=\"col_heading level0 col9\" >9</th>        <th class=\"col_heading level0 col10\" >10</th>        <th class=\"col_heading level0 col11\" >11</th>        <th class=\"col_heading level0 col12\" >12</th>        <th class=\"col_heading level0 col13\" >13</th>        <th class=\"col_heading level0 col14\" >14</th>        <th class=\"col_heading level0 col15\" >15</th>        <th class=\"col_heading level0 col16\" >16</th>        <th class=\"col_heading level0 col17\" >17</th>    </tr></thead><tbody>\n",
       "                <tr>\n",
       "                        <th id=\"T_8f925df2_881e_11ea_bb7e_42010aa40004level0_row0\" class=\"row_heading level0 row0\" >0</th>\n",
       "                        <td id=\"T_8f925df2_881e_11ea_bb7e_42010aa40004row0_col0\" class=\"data row0 col0\" >0</td>\n",
       "                        <td id=\"T_8f925df2_881e_11ea_bb7e_42010aa40004row0_col1\" class=\"data row0 col1\" >0</td>\n",
       "                        <td id=\"T_8f925df2_881e_11ea_bb7e_42010aa40004row0_col2\" class=\"data row0 col2\" >0</td>\n",
       "                        <td id=\"T_8f925df2_881e_11ea_bb7e_42010aa40004row0_col3\" class=\"data row0 col3\" >0</td>\n",
       "                        <td id=\"T_8f925df2_881e_11ea_bb7e_42010aa40004row0_col4\" class=\"data row0 col4\" >0</td>\n",
       "                        <td id=\"T_8f925df2_881e_11ea_bb7e_42010aa40004row0_col5\" class=\"data row0 col5\" >0</td>\n",
       "                        <td id=\"T_8f925df2_881e_11ea_bb7e_42010aa40004row0_col6\" class=\"data row0 col6\" >0</td>\n",
       "                        <td id=\"T_8f925df2_881e_11ea_bb7e_42010aa40004row0_col7\" class=\"data row0 col7\" >0</td>\n",
       "                        <td id=\"T_8f925df2_881e_11ea_bb7e_42010aa40004row0_col8\" class=\"data row0 col8\" >0</td>\n",
       "                        <td id=\"T_8f925df2_881e_11ea_bb7e_42010aa40004row0_col9\" class=\"data row0 col9\" >0</td>\n",
       "                        <td id=\"T_8f925df2_881e_11ea_bb7e_42010aa40004row0_col10\" class=\"data row0 col10\" >0</td>\n",
       "                        <td id=\"T_8f925df2_881e_11ea_bb7e_42010aa40004row0_col11\" class=\"data row0 col11\" >0</td>\n",
       "                        <td id=\"T_8f925df2_881e_11ea_bb7e_42010aa40004row0_col12\" class=\"data row0 col12\" >0</td>\n",
       "                        <td id=\"T_8f925df2_881e_11ea_bb7e_42010aa40004row0_col13\" class=\"data row0 col13\" >0</td>\n",
       "                        <td id=\"T_8f925df2_881e_11ea_bb7e_42010aa40004row0_col14\" class=\"data row0 col14\" >0</td>\n",
       "                        <td id=\"T_8f925df2_881e_11ea_bb7e_42010aa40004row0_col15\" class=\"data row0 col15\" >0</td>\n",
       "                        <td id=\"T_8f925df2_881e_11ea_bb7e_42010aa40004row0_col16\" class=\"data row0 col16\" >0</td>\n",
       "                        <td id=\"T_8f925df2_881e_11ea_bb7e_42010aa40004row0_col17\" class=\"data row0 col17\" >0</td>\n",
       "            </tr>\n",
       "            <tr>\n",
       "                        <th id=\"T_8f925df2_881e_11ea_bb7e_42010aa40004level0_row1\" class=\"row_heading level0 row1\" >1</th>\n",
       "                        <td id=\"T_8f925df2_881e_11ea_bb7e_42010aa40004row1_col0\" class=\"data row1 col0\" >0</td>\n",
       "                        <td id=\"T_8f925df2_881e_11ea_bb7e_42010aa40004row1_col1\" class=\"data row1 col1\" >0</td>\n",
       "                        <td id=\"T_8f925df2_881e_11ea_bb7e_42010aa40004row1_col2\" class=\"data row1 col2\" >0</td>\n",
       "                        <td id=\"T_8f925df2_881e_11ea_bb7e_42010aa40004row1_col3\" class=\"data row1 col3\" >0</td>\n",
       "                        <td id=\"T_8f925df2_881e_11ea_bb7e_42010aa40004row1_col4\" class=\"data row1 col4\" >0</td>\n",
       "                        <td id=\"T_8f925df2_881e_11ea_bb7e_42010aa40004row1_col5\" class=\"data row1 col5\" >29</td>\n",
       "                        <td id=\"T_8f925df2_881e_11ea_bb7e_42010aa40004row1_col6\" class=\"data row1 col6\" >150</td>\n",
       "                        <td id=\"T_8f925df2_881e_11ea_bb7e_42010aa40004row1_col7\" class=\"data row1 col7\" >195</td>\n",
       "                        <td id=\"T_8f925df2_881e_11ea_bb7e_42010aa40004row1_col8\" class=\"data row1 col8\" >254</td>\n",
       "                        <td id=\"T_8f925df2_881e_11ea_bb7e_42010aa40004row1_col9\" class=\"data row1 col9\" >255</td>\n",
       "                        <td id=\"T_8f925df2_881e_11ea_bb7e_42010aa40004row1_col10\" class=\"data row1 col10\" >254</td>\n",
       "                        <td id=\"T_8f925df2_881e_11ea_bb7e_42010aa40004row1_col11\" class=\"data row1 col11\" >176</td>\n",
       "                        <td id=\"T_8f925df2_881e_11ea_bb7e_42010aa40004row1_col12\" class=\"data row1 col12\" >193</td>\n",
       "                        <td id=\"T_8f925df2_881e_11ea_bb7e_42010aa40004row1_col13\" class=\"data row1 col13\" >150</td>\n",
       "                        <td id=\"T_8f925df2_881e_11ea_bb7e_42010aa40004row1_col14\" class=\"data row1 col14\" >96</td>\n",
       "                        <td id=\"T_8f925df2_881e_11ea_bb7e_42010aa40004row1_col15\" class=\"data row1 col15\" >0</td>\n",
       "                        <td id=\"T_8f925df2_881e_11ea_bb7e_42010aa40004row1_col16\" class=\"data row1 col16\" >0</td>\n",
       "                        <td id=\"T_8f925df2_881e_11ea_bb7e_42010aa40004row1_col17\" class=\"data row1 col17\" >0</td>\n",
       "            </tr>\n",
       "            <tr>\n",
       "                        <th id=\"T_8f925df2_881e_11ea_bb7e_42010aa40004level0_row2\" class=\"row_heading level0 row2\" >2</th>\n",
       "                        <td id=\"T_8f925df2_881e_11ea_bb7e_42010aa40004row2_col0\" class=\"data row2 col0\" >0</td>\n",
       "                        <td id=\"T_8f925df2_881e_11ea_bb7e_42010aa40004row2_col1\" class=\"data row2 col1\" >0</td>\n",
       "                        <td id=\"T_8f925df2_881e_11ea_bb7e_42010aa40004row2_col2\" class=\"data row2 col2\" >0</td>\n",
       "                        <td id=\"T_8f925df2_881e_11ea_bb7e_42010aa40004row2_col3\" class=\"data row2 col3\" >48</td>\n",
       "                        <td id=\"T_8f925df2_881e_11ea_bb7e_42010aa40004row2_col4\" class=\"data row2 col4\" >166</td>\n",
       "                        <td id=\"T_8f925df2_881e_11ea_bb7e_42010aa40004row2_col5\" class=\"data row2 col5\" >224</td>\n",
       "                        <td id=\"T_8f925df2_881e_11ea_bb7e_42010aa40004row2_col6\" class=\"data row2 col6\" >253</td>\n",
       "                        <td id=\"T_8f925df2_881e_11ea_bb7e_42010aa40004row2_col7\" class=\"data row2 col7\" >253</td>\n",
       "                        <td id=\"T_8f925df2_881e_11ea_bb7e_42010aa40004row2_col8\" class=\"data row2 col8\" >234</td>\n",
       "                        <td id=\"T_8f925df2_881e_11ea_bb7e_42010aa40004row2_col9\" class=\"data row2 col9\" >196</td>\n",
       "                        <td id=\"T_8f925df2_881e_11ea_bb7e_42010aa40004row2_col10\" class=\"data row2 col10\" >253</td>\n",
       "                        <td id=\"T_8f925df2_881e_11ea_bb7e_42010aa40004row2_col11\" class=\"data row2 col11\" >253</td>\n",
       "                        <td id=\"T_8f925df2_881e_11ea_bb7e_42010aa40004row2_col12\" class=\"data row2 col12\" >253</td>\n",
       "                        <td id=\"T_8f925df2_881e_11ea_bb7e_42010aa40004row2_col13\" class=\"data row2 col13\" >253</td>\n",
       "                        <td id=\"T_8f925df2_881e_11ea_bb7e_42010aa40004row2_col14\" class=\"data row2 col14\" >233</td>\n",
       "                        <td id=\"T_8f925df2_881e_11ea_bb7e_42010aa40004row2_col15\" class=\"data row2 col15\" >0</td>\n",
       "                        <td id=\"T_8f925df2_881e_11ea_bb7e_42010aa40004row2_col16\" class=\"data row2 col16\" >0</td>\n",
       "                        <td id=\"T_8f925df2_881e_11ea_bb7e_42010aa40004row2_col17\" class=\"data row2 col17\" >0</td>\n",
       "            </tr>\n",
       "            <tr>\n",
       "                        <th id=\"T_8f925df2_881e_11ea_bb7e_42010aa40004level0_row3\" class=\"row_heading level0 row3\" >3</th>\n",
       "                        <td id=\"T_8f925df2_881e_11ea_bb7e_42010aa40004row3_col0\" class=\"data row3 col0\" >0</td>\n",
       "                        <td id=\"T_8f925df2_881e_11ea_bb7e_42010aa40004row3_col1\" class=\"data row3 col1\" >93</td>\n",
       "                        <td id=\"T_8f925df2_881e_11ea_bb7e_42010aa40004row3_col2\" class=\"data row3 col2\" >244</td>\n",
       "                        <td id=\"T_8f925df2_881e_11ea_bb7e_42010aa40004row3_col3\" class=\"data row3 col3\" >249</td>\n",
       "                        <td id=\"T_8f925df2_881e_11ea_bb7e_42010aa40004row3_col4\" class=\"data row3 col4\" >253</td>\n",
       "                        <td id=\"T_8f925df2_881e_11ea_bb7e_42010aa40004row3_col5\" class=\"data row3 col5\" >187</td>\n",
       "                        <td id=\"T_8f925df2_881e_11ea_bb7e_42010aa40004row3_col6\" class=\"data row3 col6\" >46</td>\n",
       "                        <td id=\"T_8f925df2_881e_11ea_bb7e_42010aa40004row3_col7\" class=\"data row3 col7\" >10</td>\n",
       "                        <td id=\"T_8f925df2_881e_11ea_bb7e_42010aa40004row3_col8\" class=\"data row3 col8\" >8</td>\n",
       "                        <td id=\"T_8f925df2_881e_11ea_bb7e_42010aa40004row3_col9\" class=\"data row3 col9\" >4</td>\n",
       "                        <td id=\"T_8f925df2_881e_11ea_bb7e_42010aa40004row3_col10\" class=\"data row3 col10\" >10</td>\n",
       "                        <td id=\"T_8f925df2_881e_11ea_bb7e_42010aa40004row3_col11\" class=\"data row3 col11\" >194</td>\n",
       "                        <td id=\"T_8f925df2_881e_11ea_bb7e_42010aa40004row3_col12\" class=\"data row3 col12\" >253</td>\n",
       "                        <td id=\"T_8f925df2_881e_11ea_bb7e_42010aa40004row3_col13\" class=\"data row3 col13\" >253</td>\n",
       "                        <td id=\"T_8f925df2_881e_11ea_bb7e_42010aa40004row3_col14\" class=\"data row3 col14\" >233</td>\n",
       "                        <td id=\"T_8f925df2_881e_11ea_bb7e_42010aa40004row3_col15\" class=\"data row3 col15\" >0</td>\n",
       "                        <td id=\"T_8f925df2_881e_11ea_bb7e_42010aa40004row3_col16\" class=\"data row3 col16\" >0</td>\n",
       "                        <td id=\"T_8f925df2_881e_11ea_bb7e_42010aa40004row3_col17\" class=\"data row3 col17\" >0</td>\n",
       "            </tr>\n",
       "            <tr>\n",
       "                        <th id=\"T_8f925df2_881e_11ea_bb7e_42010aa40004level0_row4\" class=\"row_heading level0 row4\" >4</th>\n",
       "                        <td id=\"T_8f925df2_881e_11ea_bb7e_42010aa40004row4_col0\" class=\"data row4 col0\" >0</td>\n",
       "                        <td id=\"T_8f925df2_881e_11ea_bb7e_42010aa40004row4_col1\" class=\"data row4 col1\" >107</td>\n",
       "                        <td id=\"T_8f925df2_881e_11ea_bb7e_42010aa40004row4_col2\" class=\"data row4 col2\" >253</td>\n",
       "                        <td id=\"T_8f925df2_881e_11ea_bb7e_42010aa40004row4_col3\" class=\"data row4 col3\" >253</td>\n",
       "                        <td id=\"T_8f925df2_881e_11ea_bb7e_42010aa40004row4_col4\" class=\"data row4 col4\" >230</td>\n",
       "                        <td id=\"T_8f925df2_881e_11ea_bb7e_42010aa40004row4_col5\" class=\"data row4 col5\" >48</td>\n",
       "                        <td id=\"T_8f925df2_881e_11ea_bb7e_42010aa40004row4_col6\" class=\"data row4 col6\" >0</td>\n",
       "                        <td id=\"T_8f925df2_881e_11ea_bb7e_42010aa40004row4_col7\" class=\"data row4 col7\" >0</td>\n",
       "                        <td id=\"T_8f925df2_881e_11ea_bb7e_42010aa40004row4_col8\" class=\"data row4 col8\" >0</td>\n",
       "                        <td id=\"T_8f925df2_881e_11ea_bb7e_42010aa40004row4_col9\" class=\"data row4 col9\" >0</td>\n",
       "                        <td id=\"T_8f925df2_881e_11ea_bb7e_42010aa40004row4_col10\" class=\"data row4 col10\" >0</td>\n",
       "                        <td id=\"T_8f925df2_881e_11ea_bb7e_42010aa40004row4_col11\" class=\"data row4 col11\" >192</td>\n",
       "                        <td id=\"T_8f925df2_881e_11ea_bb7e_42010aa40004row4_col12\" class=\"data row4 col12\" >253</td>\n",
       "                        <td id=\"T_8f925df2_881e_11ea_bb7e_42010aa40004row4_col13\" class=\"data row4 col13\" >253</td>\n",
       "                        <td id=\"T_8f925df2_881e_11ea_bb7e_42010aa40004row4_col14\" class=\"data row4 col14\" >156</td>\n",
       "                        <td id=\"T_8f925df2_881e_11ea_bb7e_42010aa40004row4_col15\" class=\"data row4 col15\" >0</td>\n",
       "                        <td id=\"T_8f925df2_881e_11ea_bb7e_42010aa40004row4_col16\" class=\"data row4 col16\" >0</td>\n",
       "                        <td id=\"T_8f925df2_881e_11ea_bb7e_42010aa40004row4_col17\" class=\"data row4 col17\" >0</td>\n",
       "            </tr>\n",
       "            <tr>\n",
       "                        <th id=\"T_8f925df2_881e_11ea_bb7e_42010aa40004level0_row5\" class=\"row_heading level0 row5\" >5</th>\n",
       "                        <td id=\"T_8f925df2_881e_11ea_bb7e_42010aa40004row5_col0\" class=\"data row5 col0\" >0</td>\n",
       "                        <td id=\"T_8f925df2_881e_11ea_bb7e_42010aa40004row5_col1\" class=\"data row5 col1\" >3</td>\n",
       "                        <td id=\"T_8f925df2_881e_11ea_bb7e_42010aa40004row5_col2\" class=\"data row5 col2\" >20</td>\n",
       "                        <td id=\"T_8f925df2_881e_11ea_bb7e_42010aa40004row5_col3\" class=\"data row5 col3\" >20</td>\n",
       "                        <td id=\"T_8f925df2_881e_11ea_bb7e_42010aa40004row5_col4\" class=\"data row5 col4\" >15</td>\n",
       "                        <td id=\"T_8f925df2_881e_11ea_bb7e_42010aa40004row5_col5\" class=\"data row5 col5\" >0</td>\n",
       "                        <td id=\"T_8f925df2_881e_11ea_bb7e_42010aa40004row5_col6\" class=\"data row5 col6\" >0</td>\n",
       "                        <td id=\"T_8f925df2_881e_11ea_bb7e_42010aa40004row5_col7\" class=\"data row5 col7\" >0</td>\n",
       "                        <td id=\"T_8f925df2_881e_11ea_bb7e_42010aa40004row5_col8\" class=\"data row5 col8\" >0</td>\n",
       "                        <td id=\"T_8f925df2_881e_11ea_bb7e_42010aa40004row5_col9\" class=\"data row5 col9\" >0</td>\n",
       "                        <td id=\"T_8f925df2_881e_11ea_bb7e_42010aa40004row5_col10\" class=\"data row5 col10\" >43</td>\n",
       "                        <td id=\"T_8f925df2_881e_11ea_bb7e_42010aa40004row5_col11\" class=\"data row5 col11\" >224</td>\n",
       "                        <td id=\"T_8f925df2_881e_11ea_bb7e_42010aa40004row5_col12\" class=\"data row5 col12\" >253</td>\n",
       "                        <td id=\"T_8f925df2_881e_11ea_bb7e_42010aa40004row5_col13\" class=\"data row5 col13\" >245</td>\n",
       "                        <td id=\"T_8f925df2_881e_11ea_bb7e_42010aa40004row5_col14\" class=\"data row5 col14\" >74</td>\n",
       "                        <td id=\"T_8f925df2_881e_11ea_bb7e_42010aa40004row5_col15\" class=\"data row5 col15\" >0</td>\n",
       "                        <td id=\"T_8f925df2_881e_11ea_bb7e_42010aa40004row5_col16\" class=\"data row5 col16\" >0</td>\n",
       "                        <td id=\"T_8f925df2_881e_11ea_bb7e_42010aa40004row5_col17\" class=\"data row5 col17\" >0</td>\n",
       "            </tr>\n",
       "            <tr>\n",
       "                        <th id=\"T_8f925df2_881e_11ea_bb7e_42010aa40004level0_row6\" class=\"row_heading level0 row6\" >6</th>\n",
       "                        <td id=\"T_8f925df2_881e_11ea_bb7e_42010aa40004row6_col0\" class=\"data row6 col0\" >0</td>\n",
       "                        <td id=\"T_8f925df2_881e_11ea_bb7e_42010aa40004row6_col1\" class=\"data row6 col1\" >0</td>\n",
       "                        <td id=\"T_8f925df2_881e_11ea_bb7e_42010aa40004row6_col2\" class=\"data row6 col2\" >0</td>\n",
       "                        <td id=\"T_8f925df2_881e_11ea_bb7e_42010aa40004row6_col3\" class=\"data row6 col3\" >0</td>\n",
       "                        <td id=\"T_8f925df2_881e_11ea_bb7e_42010aa40004row6_col4\" class=\"data row6 col4\" >0</td>\n",
       "                        <td id=\"T_8f925df2_881e_11ea_bb7e_42010aa40004row6_col5\" class=\"data row6 col5\" >0</td>\n",
       "                        <td id=\"T_8f925df2_881e_11ea_bb7e_42010aa40004row6_col6\" class=\"data row6 col6\" >0</td>\n",
       "                        <td id=\"T_8f925df2_881e_11ea_bb7e_42010aa40004row6_col7\" class=\"data row6 col7\" >0</td>\n",
       "                        <td id=\"T_8f925df2_881e_11ea_bb7e_42010aa40004row6_col8\" class=\"data row6 col8\" >0</td>\n",
       "                        <td id=\"T_8f925df2_881e_11ea_bb7e_42010aa40004row6_col9\" class=\"data row6 col9\" >0</td>\n",
       "                        <td id=\"T_8f925df2_881e_11ea_bb7e_42010aa40004row6_col10\" class=\"data row6 col10\" >249</td>\n",
       "                        <td id=\"T_8f925df2_881e_11ea_bb7e_42010aa40004row6_col11\" class=\"data row6 col11\" >253</td>\n",
       "                        <td id=\"T_8f925df2_881e_11ea_bb7e_42010aa40004row6_col12\" class=\"data row6 col12\" >245</td>\n",
       "                        <td id=\"T_8f925df2_881e_11ea_bb7e_42010aa40004row6_col13\" class=\"data row6 col13\" >126</td>\n",
       "                        <td id=\"T_8f925df2_881e_11ea_bb7e_42010aa40004row6_col14\" class=\"data row6 col14\" >0</td>\n",
       "                        <td id=\"T_8f925df2_881e_11ea_bb7e_42010aa40004row6_col15\" class=\"data row6 col15\" >0</td>\n",
       "                        <td id=\"T_8f925df2_881e_11ea_bb7e_42010aa40004row6_col16\" class=\"data row6 col16\" >0</td>\n",
       "                        <td id=\"T_8f925df2_881e_11ea_bb7e_42010aa40004row6_col17\" class=\"data row6 col17\" >0</td>\n",
       "            </tr>\n",
       "            <tr>\n",
       "                        <th id=\"T_8f925df2_881e_11ea_bb7e_42010aa40004level0_row7\" class=\"row_heading level0 row7\" >7</th>\n",
       "                        <td id=\"T_8f925df2_881e_11ea_bb7e_42010aa40004row7_col0\" class=\"data row7 col0\" >0</td>\n",
       "                        <td id=\"T_8f925df2_881e_11ea_bb7e_42010aa40004row7_col1\" class=\"data row7 col1\" >0</td>\n",
       "                        <td id=\"T_8f925df2_881e_11ea_bb7e_42010aa40004row7_col2\" class=\"data row7 col2\" >0</td>\n",
       "                        <td id=\"T_8f925df2_881e_11ea_bb7e_42010aa40004row7_col3\" class=\"data row7 col3\" >0</td>\n",
       "                        <td id=\"T_8f925df2_881e_11ea_bb7e_42010aa40004row7_col4\" class=\"data row7 col4\" >0</td>\n",
       "                        <td id=\"T_8f925df2_881e_11ea_bb7e_42010aa40004row7_col5\" class=\"data row7 col5\" >0</td>\n",
       "                        <td id=\"T_8f925df2_881e_11ea_bb7e_42010aa40004row7_col6\" class=\"data row7 col6\" >0</td>\n",
       "                        <td id=\"T_8f925df2_881e_11ea_bb7e_42010aa40004row7_col7\" class=\"data row7 col7\" >14</td>\n",
       "                        <td id=\"T_8f925df2_881e_11ea_bb7e_42010aa40004row7_col8\" class=\"data row7 col8\" >101</td>\n",
       "                        <td id=\"T_8f925df2_881e_11ea_bb7e_42010aa40004row7_col9\" class=\"data row7 col9\" >223</td>\n",
       "                        <td id=\"T_8f925df2_881e_11ea_bb7e_42010aa40004row7_col10\" class=\"data row7 col10\" >253</td>\n",
       "                        <td id=\"T_8f925df2_881e_11ea_bb7e_42010aa40004row7_col11\" class=\"data row7 col11\" >248</td>\n",
       "                        <td id=\"T_8f925df2_881e_11ea_bb7e_42010aa40004row7_col12\" class=\"data row7 col12\" >124</td>\n",
       "                        <td id=\"T_8f925df2_881e_11ea_bb7e_42010aa40004row7_col13\" class=\"data row7 col13\" >0</td>\n",
       "                        <td id=\"T_8f925df2_881e_11ea_bb7e_42010aa40004row7_col14\" class=\"data row7 col14\" >0</td>\n",
       "                        <td id=\"T_8f925df2_881e_11ea_bb7e_42010aa40004row7_col15\" class=\"data row7 col15\" >0</td>\n",
       "                        <td id=\"T_8f925df2_881e_11ea_bb7e_42010aa40004row7_col16\" class=\"data row7 col16\" >0</td>\n",
       "                        <td id=\"T_8f925df2_881e_11ea_bb7e_42010aa40004row7_col17\" class=\"data row7 col17\" >0</td>\n",
       "            </tr>\n",
       "            <tr>\n",
       "                        <th id=\"T_8f925df2_881e_11ea_bb7e_42010aa40004level0_row8\" class=\"row_heading level0 row8\" >8</th>\n",
       "                        <td id=\"T_8f925df2_881e_11ea_bb7e_42010aa40004row8_col0\" class=\"data row8 col0\" >0</td>\n",
       "                        <td id=\"T_8f925df2_881e_11ea_bb7e_42010aa40004row8_col1\" class=\"data row8 col1\" >0</td>\n",
       "                        <td id=\"T_8f925df2_881e_11ea_bb7e_42010aa40004row8_col2\" class=\"data row8 col2\" >0</td>\n",
       "                        <td id=\"T_8f925df2_881e_11ea_bb7e_42010aa40004row8_col3\" class=\"data row8 col3\" >0</td>\n",
       "                        <td id=\"T_8f925df2_881e_11ea_bb7e_42010aa40004row8_col4\" class=\"data row8 col4\" >0</td>\n",
       "                        <td id=\"T_8f925df2_881e_11ea_bb7e_42010aa40004row8_col5\" class=\"data row8 col5\" >11</td>\n",
       "                        <td id=\"T_8f925df2_881e_11ea_bb7e_42010aa40004row8_col6\" class=\"data row8 col6\" >166</td>\n",
       "                        <td id=\"T_8f925df2_881e_11ea_bb7e_42010aa40004row8_col7\" class=\"data row8 col7\" >239</td>\n",
       "                        <td id=\"T_8f925df2_881e_11ea_bb7e_42010aa40004row8_col8\" class=\"data row8 col8\" >253</td>\n",
       "                        <td id=\"T_8f925df2_881e_11ea_bb7e_42010aa40004row8_col9\" class=\"data row8 col9\" >253</td>\n",
       "                        <td id=\"T_8f925df2_881e_11ea_bb7e_42010aa40004row8_col10\" class=\"data row8 col10\" >253</td>\n",
       "                        <td id=\"T_8f925df2_881e_11ea_bb7e_42010aa40004row8_col11\" class=\"data row8 col11\" >187</td>\n",
       "                        <td id=\"T_8f925df2_881e_11ea_bb7e_42010aa40004row8_col12\" class=\"data row8 col12\" >30</td>\n",
       "                        <td id=\"T_8f925df2_881e_11ea_bb7e_42010aa40004row8_col13\" class=\"data row8 col13\" >0</td>\n",
       "                        <td id=\"T_8f925df2_881e_11ea_bb7e_42010aa40004row8_col14\" class=\"data row8 col14\" >0</td>\n",
       "                        <td id=\"T_8f925df2_881e_11ea_bb7e_42010aa40004row8_col15\" class=\"data row8 col15\" >0</td>\n",
       "                        <td id=\"T_8f925df2_881e_11ea_bb7e_42010aa40004row8_col16\" class=\"data row8 col16\" >0</td>\n",
       "                        <td id=\"T_8f925df2_881e_11ea_bb7e_42010aa40004row8_col17\" class=\"data row8 col17\" >0</td>\n",
       "            </tr>\n",
       "            <tr>\n",
       "                        <th id=\"T_8f925df2_881e_11ea_bb7e_42010aa40004level0_row9\" class=\"row_heading level0 row9\" >9</th>\n",
       "                        <td id=\"T_8f925df2_881e_11ea_bb7e_42010aa40004row9_col0\" class=\"data row9 col0\" >0</td>\n",
       "                        <td id=\"T_8f925df2_881e_11ea_bb7e_42010aa40004row9_col1\" class=\"data row9 col1\" >0</td>\n",
       "                        <td id=\"T_8f925df2_881e_11ea_bb7e_42010aa40004row9_col2\" class=\"data row9 col2\" >0</td>\n",
       "                        <td id=\"T_8f925df2_881e_11ea_bb7e_42010aa40004row9_col3\" class=\"data row9 col3\" >0</td>\n",
       "                        <td id=\"T_8f925df2_881e_11ea_bb7e_42010aa40004row9_col4\" class=\"data row9 col4\" >0</td>\n",
       "                        <td id=\"T_8f925df2_881e_11ea_bb7e_42010aa40004row9_col5\" class=\"data row9 col5\" >16</td>\n",
       "                        <td id=\"T_8f925df2_881e_11ea_bb7e_42010aa40004row9_col6\" class=\"data row9 col6\" >248</td>\n",
       "                        <td id=\"T_8f925df2_881e_11ea_bb7e_42010aa40004row9_col7\" class=\"data row9 col7\" >250</td>\n",
       "                        <td id=\"T_8f925df2_881e_11ea_bb7e_42010aa40004row9_col8\" class=\"data row9 col8\" >253</td>\n",
       "                        <td id=\"T_8f925df2_881e_11ea_bb7e_42010aa40004row9_col9\" class=\"data row9 col9\" >253</td>\n",
       "                        <td id=\"T_8f925df2_881e_11ea_bb7e_42010aa40004row9_col10\" class=\"data row9 col10\" >253</td>\n",
       "                        <td id=\"T_8f925df2_881e_11ea_bb7e_42010aa40004row9_col11\" class=\"data row9 col11\" >253</td>\n",
       "                        <td id=\"T_8f925df2_881e_11ea_bb7e_42010aa40004row9_col12\" class=\"data row9 col12\" >232</td>\n",
       "                        <td id=\"T_8f925df2_881e_11ea_bb7e_42010aa40004row9_col13\" class=\"data row9 col13\" >213</td>\n",
       "                        <td id=\"T_8f925df2_881e_11ea_bb7e_42010aa40004row9_col14\" class=\"data row9 col14\" >111</td>\n",
       "                        <td id=\"T_8f925df2_881e_11ea_bb7e_42010aa40004row9_col15\" class=\"data row9 col15\" >2</td>\n",
       "                        <td id=\"T_8f925df2_881e_11ea_bb7e_42010aa40004row9_col16\" class=\"data row9 col16\" >0</td>\n",
       "                        <td id=\"T_8f925df2_881e_11ea_bb7e_42010aa40004row9_col17\" class=\"data row9 col17\" >0</td>\n",
       "            </tr>\n",
       "            <tr>\n",
       "                        <th id=\"T_8f925df2_881e_11ea_bb7e_42010aa40004level0_row10\" class=\"row_heading level0 row10\" >10</th>\n",
       "                        <td id=\"T_8f925df2_881e_11ea_bb7e_42010aa40004row10_col0\" class=\"data row10 col0\" >0</td>\n",
       "                        <td id=\"T_8f925df2_881e_11ea_bb7e_42010aa40004row10_col1\" class=\"data row10 col1\" >0</td>\n",
       "                        <td id=\"T_8f925df2_881e_11ea_bb7e_42010aa40004row10_col2\" class=\"data row10 col2\" >0</td>\n",
       "                        <td id=\"T_8f925df2_881e_11ea_bb7e_42010aa40004row10_col3\" class=\"data row10 col3\" >0</td>\n",
       "                        <td id=\"T_8f925df2_881e_11ea_bb7e_42010aa40004row10_col4\" class=\"data row10 col4\" >0</td>\n",
       "                        <td id=\"T_8f925df2_881e_11ea_bb7e_42010aa40004row10_col5\" class=\"data row10 col5\" >0</td>\n",
       "                        <td id=\"T_8f925df2_881e_11ea_bb7e_42010aa40004row10_col6\" class=\"data row10 col6\" >0</td>\n",
       "                        <td id=\"T_8f925df2_881e_11ea_bb7e_42010aa40004row10_col7\" class=\"data row10 col7\" >43</td>\n",
       "                        <td id=\"T_8f925df2_881e_11ea_bb7e_42010aa40004row10_col8\" class=\"data row10 col8\" >98</td>\n",
       "                        <td id=\"T_8f925df2_881e_11ea_bb7e_42010aa40004row10_col9\" class=\"data row10 col9\" >98</td>\n",
       "                        <td id=\"T_8f925df2_881e_11ea_bb7e_42010aa40004row10_col10\" class=\"data row10 col10\" >208</td>\n",
       "                        <td id=\"T_8f925df2_881e_11ea_bb7e_42010aa40004row10_col11\" class=\"data row10 col11\" >253</td>\n",
       "                        <td id=\"T_8f925df2_881e_11ea_bb7e_42010aa40004row10_col12\" class=\"data row10 col12\" >253</td>\n",
       "                        <td id=\"T_8f925df2_881e_11ea_bb7e_42010aa40004row10_col13\" class=\"data row10 col13\" >253</td>\n",
       "                        <td id=\"T_8f925df2_881e_11ea_bb7e_42010aa40004row10_col14\" class=\"data row10 col14\" >253</td>\n",
       "                        <td id=\"T_8f925df2_881e_11ea_bb7e_42010aa40004row10_col15\" class=\"data row10 col15\" >187</td>\n",
       "                        <td id=\"T_8f925df2_881e_11ea_bb7e_42010aa40004row10_col16\" class=\"data row10 col16\" >22</td>\n",
       "                        <td id=\"T_8f925df2_881e_11ea_bb7e_42010aa40004row10_col17\" class=\"data row10 col17\" >0</td>\n",
       "            </tr>\n",
       "    </tbody></table>"
      ],
      "text/plain": [
       "<pandas.io.formats.style.Styler at 0x7ff010e00bd0>"
      ]
     },
     "execution_count": 10,
     "metadata": {},
     "output_type": "execute_result"
    }
   ],
   "source": [
    "df = pd.DataFrame(im3_t[4:15,4:22])\n",
    "df.style.set_properties(**{'font-size':'6pt'}).background_gradient('Greys')"
   ]
  },
  {
   "cell_type": "markdown",
   "metadata": {},
   "source": [
    "## Première tentative: similarité des pixels"
   ]
  },
  {
   "cell_type": "code",
   "execution_count": 11,
   "metadata": {},
   "outputs": [
    {
     "data": {
      "text/plain": [
       "[10, 12, 14, 16, 18]"
      ]
     },
     "execution_count": 11,
     "metadata": {},
     "output_type": "execute_result"
    }
   ],
   "source": [
    "# Python syntax : list comprehensions\n",
    "[i*2 for i in range(10) if i > 4]"
   ]
  },
  {
   "cell_type": "code",
   "execution_count": 12,
   "metadata": {},
   "outputs": [
    {
     "data": {
      "text/plain": [
       "(6131, 6265)"
      ]
     },
     "execution_count": 12,
     "metadata": {},
     "output_type": "execute_result"
    }
   ],
   "source": [
    "# Ouverture de 1200 images, 15 à 30 secondes\n",
    "three_tensors = [tensor(Image.open(o)) for o in threes]\n",
    "seven_tensors = [tensor(Image.open(o)) for o in sevens]\n",
    "len(three_tensors),len(seven_tensors)"
   ]
  },
  {
   "cell_type": "code",
   "execution_count": 13,
   "metadata": {},
   "outputs": [
    {
     "data": {
      "text/plain": [
       "torch.Size([28, 28])"
      ]
     },
     "execution_count": 13,
     "metadata": {},
     "output_type": "execute_result"
    }
   ],
   "source": [
    "im3_t = three_tensors[1]\n",
    "im3_t.shape"
   ]
  },
  {
   "cell_type": "code",
   "execution_count": 14,
   "metadata": {},
   "outputs": [
    {
     "data": {
      "text/plain": [
       "<matplotlib.axes._subplots.AxesSubplot at 0x7ff01095a550>"
      ]
     },
     "execution_count": 14,
     "metadata": {},
     "output_type": "execute_result"
    },
    {
     "data": {
      "image/png": "[encoded data removed]",
      "text/plain": [
       "<Figure size 72x72 with 1 Axes>"
      ]
     },
     "metadata": {
      "needs_background": "light"
     },
     "output_type": "display_data"
    }
   ],
   "source": [
    "show_image(im3_t)"
   ]
  },
  {
   "cell_type": "markdown",
   "metadata": {},
   "source": [
    "[torch.stack(tensors, dim=0, out=None) → Tensor](https://pytorch.org/docs/stable/torch.html#torch.stack)\n",
    "\n",
    "Concatenates sequence of tensors **along a new dimension**.\n",
    "All tensors need to be of the same size."
   ]
  },
  {
   "cell_type": "code",
   "execution_count": 15,
   "metadata": {},
   "outputs": [
    {
     "data": {
      "text/plain": [
       "(list, torch.Tensor, torch.Size([28, 28]))"
      ]
     },
     "execution_count": 15,
     "metadata": {},
     "output_type": "execute_result"
    }
   ],
   "source": [
    "type(three_tensors),type(three_tensors[0]),three_tensors[0].shape"
   ]
  },
  {
   "cell_type": "code",
   "execution_count": 16,
   "metadata": {},
   "outputs": [
    {
     "data": {
      "text/plain": [
       "torch.Size([6131, 28, 28])"
      ]
     },
     "execution_count": 16,
     "metadata": {},
     "output_type": "execute_result"
    }
   ],
   "source": [
    "stacked_threes = torch.stack(three_tensors).float()/255\n",
    "stacked_sevens = torch.stack(seven_tensors).float()/255\n",
    "stacked_threes.shape"
   ]
  },
  {
   "cell_type": "code",
   "execution_count": 17,
   "metadata": {},
   "outputs": [
    {
     "data": {
      "text/plain": [
       "3"
      ]
     },
     "execution_count": 17,
     "metadata": {},
     "output_type": "execute_result"
    }
   ],
   "source": [
    "len(stacked_threes.shape)"
   ]
  },
  {
   "cell_type": "code",
   "execution_count": 18,
   "metadata": {},
   "outputs": [
    {
     "data": {
      "text/plain": [
       "3"
      ]
     },
     "execution_count": 18,
     "metadata": {},
     "output_type": "execute_result"
    }
   ],
   "source": [
    "stacked_threes.ndim"
   ]
  },
  {
   "cell_type": "code",
   "execution_count": 19,
   "metadata": {},
   "outputs": [
    {
     "data": {
      "text/plain": [
       "tensor([[0.0000, 0.0000, 0.0000, 0.0000, 0.0000, 0.0000],\n",
       "        [0.0000, 0.0000, 0.0000, 0.0000, 0.0000, 0.1137],\n",
       "        [0.0000, 0.0000, 0.0000, 0.1882, 0.6510, 0.8784],\n",
       "        [0.0000, 0.3647, 0.9569, 0.9765, 0.9922, 0.7333],\n",
       "        [0.0000, 0.4196, 0.9922, 0.9922, 0.9020, 0.1882],\n",
       "        [0.0000, 0.0118, 0.0784, 0.0784, 0.0588, 0.0000]])"
      ]
     },
     "execution_count": 19,
     "metadata": {},
     "output_type": "execute_result"
    }
   ],
   "source": [
    "stacked_threes[1,4:10,4:10]"
   ]
  },
  {
   "cell_type": "code",
   "execution_count": 20,
   "metadata": {},
   "outputs": [
    {
     "data": {
      "text/plain": [
       "torch.Size([28, 28])"
      ]
     },
     "execution_count": 20,
     "metadata": {},
     "output_type": "execute_result"
    }
   ],
   "source": [
    "mean3 = stacked_threes.mean(0)\n",
    "mean3.shape"
   ]
  },
  {
   "cell_type": "code",
   "execution_count": 21,
   "metadata": {},
   "outputs": [
    {
     "data": {
      "image/png": "[encoded data removed]",
      "text/plain": [
       "<Figure size 72x72 with 1 Axes>"
      ]
     },
     "metadata": {
      "needs_background": "light"
     },
     "output_type": "display_data"
    }
   ],
   "source": [
    "show_image(mean3);"
   ]
  },
  {
   "cell_type": "code",
   "execution_count": 22,
   "metadata": {},
   "outputs": [
    {
     "data": {
      "image/png": "[encoded data removed]",
      "text/plain": [
       "<Figure size 72x72 with 1 Axes>"
      ]
     },
     "metadata": {
      "needs_background": "light"
     },
     "output_type": "display_data"
    }
   ],
   "source": [
    "mean7 = stacked_sevens.mean(0)\n",
    "show_image(mean7);"
   ]
  },
  {
   "cell_type": "code",
   "execution_count": 23,
   "metadata": {},
   "outputs": [
    {
     "data": {
      "image/png": "[encoded data removed]",
      "text/plain": [
       "<Figure size 72x72 with 1 Axes>"
      ]
     },
     "metadata": {
      "needs_background": "light"
     },
     "output_type": "display_data"
    }
   ],
   "source": [
    "a_3 = stacked_threes[1]\n",
    "show_image(a_3);"
   ]
  },
  {
   "cell_type": "markdown",
   "metadata": {},
   "source": [
    "Comment calculer l'erreur ?\n",
    "- différence pixel par pixel\n",
    "- on ne peut pas juste sommer les différences positives et négatives ...\n",
    "- norme L1 : somme des valeurs absolues, norme L2 : somme des valeurs au carré"
   ]
  },
  {
   "cell_type": "code",
   "execution_count": 24,
   "metadata": {},
   "outputs": [
    {
     "data": {
      "text/plain": [
       "(tensor(0.1114), tensor(0.2021))"
      ]
     },
     "execution_count": 24,
     "metadata": {},
     "output_type": "execute_result"
    }
   ],
   "source": [
    "dist_3_abs = (a_3 - mean3).abs().mean()\n",
    "dist_3_sqr = ((a_3 - mean3)**2).mean().sqrt()\n",
    "dist_3_abs,dist_3_sqr"
   ]
  },
  {
   "cell_type": "markdown",
   "metadata": {},
   "source": [
    "Ci-dessous :\n",
    "- opérations élément par élément entre deux tensors\n",
    "- fonctions appliquées \"element-wise\" sur un tensor"
   ]
  },
  {
   "cell_type": "code",
   "execution_count": 25,
   "metadata": {},
   "outputs": [
    {
     "data": {
      "text/plain": [
       "(tensor(0.1586), tensor(0.3021))"
      ]
     },
     "execution_count": 25,
     "metadata": {},
     "output_type": "execute_result"
    }
   ],
   "source": [
    "dist_7_abs = (a_3 - mean7).abs().mean()\n",
    "dist_7_sqr = ((a_3 - mean7)**2).mean().sqrt()\n",
    "dist_7_abs,dist_7_sqr"
   ]
  },
  {
   "cell_type": "markdown",
   "metadata": {},
   "source": [
    "Ces fonctions de mesure de l'erreur (loss functions) font déjà définie par Pytorch dans le module :\n",
    "- import torch.nn.functional as F\n",
    "- norme L1 : F.l1_loss\n",
    "- norme L2 : F.mse_loss (mean squared error)"
   ]
  },
  {
   "cell_type": "code",
   "execution_count": 26,
   "metadata": {},
   "outputs": [
    {
     "data": {
      "text/plain": [
       "(tensor(0.1586), tensor(0.3021))"
      ]
     },
     "execution_count": 26,
     "metadata": {},
     "output_type": "execute_result"
    }
   ],
   "source": [
    "F.l1_loss(a_3.float(),mean7), F.mse_loss(a_3,mean7).sqrt()"
   ]
  },
  {
   "cell_type": "markdown",
   "metadata": {},
   "source": [
    "### NumPy arrays et PyTorch tensors"
   ]
  },
  {
   "cell_type": "code",
   "execution_count": 27,
   "metadata": {},
   "outputs": [],
   "source": [
    "data = [[1,2,3],\n",
    "        [4,5,6]]\n",
    "arr = array (data)\n",
    "tns = tensor(data)"
   ]
  },
  {
   "cell_type": "code",
   "execution_count": 28,
   "metadata": {},
   "outputs": [
    {
     "data": {
      "text/plain": [
       "array([[1, 2, 3],\n",
       "       [4, 5, 6]])"
      ]
     },
     "execution_count": 28,
     "metadata": {},
     "output_type": "execute_result"
    }
   ],
   "source": [
    "arr  # numpy"
   ]
  },
  {
   "cell_type": "markdown",
   "metadata": {},
   "source": [
    "Avantages des tableaux numpy par rapport aux listes Python\n",
    "- tableaux de tableaux de différentes tailles\n",
    "- CPU uniquement\n",
    "- exécution 10 000 x plus rapide que Python : algorithmes C optimisés, parallélisme"
   ]
  },
  {
   "cell_type": "code",
   "execution_count": 29,
   "metadata": {},
   "outputs": [
    {
     "data": {
      "text/plain": [
       "tensor([[1, 2, 3],\n",
       "        [4, 5, 6]])"
      ]
     },
     "execution_count": 29,
     "metadata": {},
     "output_type": "execute_result"
    }
   ],
   "source": [
    "tns  # pytorch"
   ]
  },
  {
   "cell_type": "markdown",
   "metadata": {},
   "source": [
    "Caractéristiques des tensors PyTorch\n",
    "- tableaux réguliers uniquement\n",
    "- CPU et GPU\n",
    "- exécution 1 000 000 x plus rapide que Python : algorithmes Cuda optimisés, parallélisme massif\n",
    "- calcul automatique des dérivées des fonctions appliquées (cf plus bas)"
   ]
  },
  {
   "cell_type": "markdown",
   "metadata": {},
   "source": [
    "Indexing & Slicing :"
   ]
  },
  {
   "cell_type": "code",
   "execution_count": 30,
   "metadata": {},
   "outputs": [
    {
     "data": {
      "text/plain": [
       "tensor([4, 5, 6])"
      ]
     },
     "execution_count": 30,
     "metadata": {},
     "output_type": "execute_result"
    }
   ],
   "source": [
    "# 1ère ligne\n",
    "tns[1]"
   ]
  },
  {
   "cell_type": "code",
   "execution_count": 31,
   "metadata": {},
   "outputs": [
    {
     "data": {
      "text/plain": [
       "tensor([2, 5])"
      ]
     },
     "execution_count": 31,
     "metadata": {},
     "output_type": "execute_result"
    }
   ],
   "source": [
    "# 1ère colonne\n",
    "tns[:,1]"
   ]
  },
  {
   "cell_type": "code",
   "execution_count": 32,
   "metadata": {},
   "outputs": [
    {
     "data": {
      "text/plain": [
       "tensor([5, 6])"
      ]
     },
     "execution_count": 32,
     "metadata": {},
     "output_type": "execute_result"
    }
   ],
   "source": [
    "# 1ère ligne, 2ème et 3ème colonnes\n",
    "tns[1,1:3]"
   ]
  },
  {
   "cell_type": "code",
   "execution_count": 33,
   "metadata": {},
   "outputs": [
    {
     "data": {
      "text/plain": [
       "tensor([[2, 3, 4],\n",
       "        [5, 6, 7]])"
      ]
     },
     "execution_count": 33,
     "metadata": {},
     "output_type": "execute_result"
    }
   ],
   "source": [
    "# Opérations element-wise\n",
    "tns+1"
   ]
  },
  {
   "cell_type": "code",
   "execution_count": 34,
   "metadata": {},
   "outputs": [
    {
     "data": {
      "text/plain": [
       "'torch.LongTensor'"
      ]
     },
     "execution_count": 34,
     "metadata": {},
     "output_type": "execute_result"
    }
   ],
   "source": [
    "tns.type()"
   ]
  },
  {
   "cell_type": "code",
   "execution_count": 35,
   "metadata": {},
   "outputs": [
    {
     "data": {
      "text/plain": [
       "tensor([[1.5000, 3.0000, 4.5000],\n",
       "        [6.0000, 7.5000, 9.0000]])"
      ]
     },
     "execution_count": 35,
     "metadata": {},
     "output_type": "execute_result"
    }
   ],
   "source": [
    "tns*1.5"
   ]
  },
  {
   "cell_type": "markdown",
   "metadata": {},
   "source": [
    "## Calculer des métriques efficacement en utilisant le broadcasting"
   ]
  },
  {
   "cell_type": "code",
   "execution_count": 36,
   "metadata": {},
   "outputs": [
    {
     "data": {
      "text/plain": [
       "(torch.Size([6131, 28, 28]), torch.Size([6265, 28, 28]))"
      ]
     },
     "execution_count": 36,
     "metadata": {},
     "output_type": "execute_result"
    }
   ],
   "source": [
    "# Images - training set\n",
    "train_3_tens=stacked_threes\n",
    "train_7_tens=stacked_sevens\n",
    "train_3_tens.shape,train_7_tens.shape"
   ]
  },
  {
   "cell_type": "code",
   "execution_count": 37,
   "metadata": {},
   "outputs": [
    {
     "data": {
      "text/plain": [
       "(torch.Size([1010, 28, 28]), torch.Size([1028, 28, 28]))"
      ]
     },
     "execution_count": 37,
     "metadata": {},
     "output_type": "execute_result"
    }
   ],
   "source": [
    "# Images - validation set\n",
    "valid_3_tens = torch.stack([tensor(Image.open(o)) for o in (path/'valid'/'3').ls()])\n",
    "valid_3_tens = valid_3_tens.float()/255\n",
    "valid_7_tens = torch.stack([tensor(Image.open(o)) for o in (path/'valid'/'7').ls()])\n",
    "valid_7_tens = valid_7_tens.float()/255\n",
    "valid_3_tens.shape,valid_7_tens.shape"
   ]
  },
  {
   "cell_type": "code",
   "execution_count": 38,
   "metadata": {},
   "outputs": [],
   "source": [
    "def mnist_distance(a,b): \n",
    "    return (a-b).abs().mean((-1,-2))"
   ]
  },
  {
   "cell_type": "code",
   "execution_count": 39,
   "metadata": {},
   "outputs": [
    {
     "data": {
      "text/plain": [
       "tensor(0.1114)"
      ]
     },
     "execution_count": 39,
     "metadata": {},
     "output_type": "execute_result"
    }
   ],
   "source": [
    "mnist_distance(a_3, mean3)"
   ]
  },
  {
   "cell_type": "code",
   "execution_count": 40,
   "metadata": {},
   "outputs": [
    {
     "data": {
      "text/plain": [
       "(torch.Size([28, 28]), torch.Size([28, 28]))"
      ]
     },
     "execution_count": 40,
     "metadata": {},
     "output_type": "execute_result"
    }
   ],
   "source": [
    "a_3.shape,mean3.shape"
   ]
  },
  {
   "cell_type": "code",
   "execution_count": 41,
   "metadata": {},
   "outputs": [],
   "source": [
    "valid_3_dist = mnist_distance(valid_3_tens, mean3)"
   ]
  },
  {
   "cell_type": "code",
   "execution_count": 42,
   "metadata": {},
   "outputs": [
    {
     "data": {
      "text/plain": [
       "(torch.Size([1010, 28, 28]), torch.Size([28, 28]))"
      ]
     },
     "execution_count": 42,
     "metadata": {},
     "output_type": "execute_result"
    }
   ],
   "source": [
    "valid_3_tens.shape, mean3.shape"
   ]
  },
  {
   "cell_type": "code",
   "execution_count": 43,
   "metadata": {},
   "outputs": [
    {
     "data": {
      "text/plain": [
       "(torch.Size([1010]),\n",
       " tensor([0.1407, 0.1252, 0.1095,  ..., 0.1375, 0.1334, 0.1229]))"
      ]
     },
     "execution_count": 43,
     "metadata": {},
     "output_type": "execute_result"
    }
   ],
   "source": [
    "valid_3_dist.shape, valid_3_dist"
   ]
  },
  {
   "cell_type": "code",
   "execution_count": 44,
   "metadata": {},
   "outputs": [
    {
     "data": {
      "text/plain": [
       "tensor([2, 3, 4])"
      ]
     },
     "execution_count": 44,
     "metadata": {},
     "output_type": "execute_result"
    }
   ],
   "source": [
    "tensor([1,2,3]) + tensor([1])"
   ]
  },
  {
   "cell_type": "code",
   "execution_count": 45,
   "metadata": {},
   "outputs": [
    {
     "data": {
      "text/plain": [
       "tensor([2, 3, 4])"
      ]
     },
     "execution_count": 45,
     "metadata": {},
     "output_type": "execute_result"
    }
   ],
   "source": [
    "tensor([1,2,3]) + tensor([1,1,1])"
   ]
  },
  {
   "cell_type": "code",
   "execution_count": 46,
   "metadata": {},
   "outputs": [
    {
     "data": {
      "text/plain": [
       "torch.Size([1010, 28, 28])"
      ]
     },
     "execution_count": 46,
     "metadata": {},
     "output_type": "execute_result"
    }
   ],
   "source": [
    "(valid_3_tens-mean3).shape"
   ]
  },
  {
   "cell_type": "markdown",
   "metadata": {},
   "source": [
    "**Règles du broadcasting** dans numpy et PyTorch :\n",
    "1. Si les tableaux n'ont pas le même rang, préfixer la forme du tableau de rang inférieur avec des 1 jusqu'à ce que les deux formes aient la même longueur.\n",
    "2. Les deux tableaux sont compatibles dans une dimension :\n",
    "   - s'ils ont la même taille dans la dimension\n",
    "   - ou si l'un des tableaux a la taille 1 dans cette dimension.\n",
    "3. Chaque tableau se comporte comme s'il avait une forme égale au maximum des formes des deux tableaux d'entrée. Dans toute dimension où un tableau a une taille de 1 et l'autre tableau a une taille supérieure à 1, le premier tableau se comporte comme s'il était copié dans cette dimension."
   ]
  },
  {
   "cell_type": "markdown",
   "metadata": {},
   "source": [
    "**Comparaison de performance**"
   ]
  },
  {
   "cell_type": "code",
   "execution_count": 47,
   "metadata": {},
   "outputs": [],
   "source": [
    "def mnist_distance_python():\n",
    "    distances = L()\n",
    "    for img_index in range(valid_3_tens.shape[0]):\n",
    "        img_tens = valid_3_tens[img_index]\n",
    "        differences = []\n",
    "        for x in range(img_tens.shape[0]):\n",
    "            for y in range(img_tens.shape[1]):\n",
    "                differences.append(img_tens[x,y]-mean3[x,y])\n",
    "        dist = 0\n",
    "        for diff in differences:\n",
    "            dist = dist + abs(diff)\n",
    "        mean = dist/len(differences)\n",
    "        distances.append(mean)\n",
    "    return distances"
   ]
  },
  {
   "cell_type": "code",
   "execution_count": 48,
   "metadata": {},
   "outputs": [
    {
     "name": "stdout",
     "output_type": "stream",
     "text": [
      "CPU times: user 13.7 s, sys: 0 ns, total: 13.7 s\n",
      "Wall time: 13.7 s\n"
     ]
    },
    {
     "data": {
      "text/plain": [
       "(#1010) [tensor(0.1407),tensor(0.1252),tensor(0.1095),tensor(0.1745),tensor(0.1587),tensor(0.1103),tensor(0.1169),tensor(0.1212),tensor(0.1233),tensor(0.1087)...]"
      ]
     },
     "execution_count": 48,
     "metadata": {},
     "output_type": "execute_result"
    }
   ],
   "source": [
    "%time mnist_distance_python()"
   ]
  },
  {
   "cell_type": "code",
   "execution_count": 49,
   "metadata": {},
   "outputs": [],
   "source": [
    "def mnist_distance(a,b): return (a-b).abs().mean((-1,-2))"
   ]
  },
  {
   "cell_type": "code",
   "execution_count": 50,
   "metadata": {},
   "outputs": [
    {
     "name": "stdout",
     "output_type": "stream",
     "text": [
      "CPU times: user 4 ms, sys: 0 ns, total: 4 ms\n",
      "Wall time: 750 µs\n"
     ]
    },
    {
     "data": {
      "text/plain": [
       "tensor([0.1407, 0.1252, 0.1095,  ..., 0.1375, 0.1334, 0.1229])"
      ]
     },
     "execution_count": 50,
     "metadata": {},
     "output_type": "execute_result"
    }
   ],
   "source": [
    "%time mnist_distance(valid_3_tens, mean3)"
   ]
  },
  {
   "cell_type": "markdown",
   "metadata": {},
   "source": [
    "Pytorch broadcasting :\n",
    "- 1 ligne de code flexible (forme des données passées) vs 13 lignes de code non adaptables\n",
    "- déjà **10 000 x plus rapide** sur CPU"
   ]
  },
  {
   "cell_type": "markdown",
   "metadata": {},
   "source": [
    "Prédiction du résultat :"
   ]
  },
  {
   "cell_type": "code",
   "execution_count": 51,
   "metadata": {},
   "outputs": [],
   "source": [
    "def is_3(x): return mnist_distance(x,mean3) < mnist_distance(x,mean7)"
   ]
  },
  {
   "cell_type": "code",
   "execution_count": 52,
   "metadata": {},
   "outputs": [
    {
     "data": {
      "text/plain": [
       "(tensor(True), tensor(1.))"
      ]
     },
     "execution_count": 52,
     "metadata": {},
     "output_type": "execute_result"
    }
   ],
   "source": [
    "is_3(a_3), is_3(a_3).float()"
   ]
  },
  {
   "cell_type": "code",
   "execution_count": 53,
   "metadata": {},
   "outputs": [
    {
     "name": "stdout",
     "output_type": "stream",
     "text": [
      "CPU times: user 8 ms, sys: 0 ns, total: 8 ms\n",
      "Wall time: 1.54 ms\n"
     ]
    },
    {
     "data": {
      "text/plain": [
       "tensor([False,  True,  True,  ...,  True,  True,  True])"
      ]
     },
     "execution_count": 53,
     "metadata": {},
     "output_type": "execute_result"
    }
   ],
   "source": [
    "%time is_3(valid_3_tens)"
   ]
  },
  {
   "cell_type": "markdown",
   "metadata": {},
   "source": [
    "Métrique **accuracy** : sur 100 prédictions, combien de fois la prédiction est-elle conforme au label attendu ?"
   ]
  },
  {
   "cell_type": "code",
   "execution_count": 54,
   "metadata": {},
   "outputs": [
    {
     "data": {
      "text/plain": [
       "(tensor(0.9168), tensor(0.9854), tensor(0.9511))"
      ]
     },
     "execution_count": 54,
     "metadata": {},
     "output_type": "execute_result"
    }
   ],
   "source": [
    "accuracy_3s =      is_3(valid_3_tens).float() .mean()\n",
    "accuracy_7s = (1 - is_3(valid_7_tens).float()).mean()\n",
    "\n",
    "accuracy_3s,accuracy_7s,(accuracy_3s+accuracy_7s)/2"
   ]
  },
  {
   "cell_type": "markdown",
   "metadata": {},
   "source": [
    "Importance d'une **baseline** simple : cette approche nous donne déjà un résultat correct dans 95% des cas.\n",
    "\n",
    "Attention, nous n'avions que deux chiffres bien différents à distinguer ..."
   ]
  },
  {
   "cell_type": "markdown",
   "metadata": {},
   "source": [
    "## Stochastic Gradient Descent (SGD)"
   ]
  },
  {
   "cell_type": "markdown",
   "metadata": {},
   "source": [
    "Appliquons le principe du machine learning sur un cas simple d'abord.\n",
    "\n",
    "L'objectif est de **modifier progressivement les paramètres du modèle** pour **réduire l'erreur de prédiction**.\n",
    "\n",
    "On représente ci-dessous une vision simplifiée dont l'erreur de prédiction peut varier en fonction d'un paramètre x à ajuster."
   ]
  },
  {
   "cell_type": "code",
   "execution_count": 55,
   "metadata": {},
   "outputs": [],
   "source": [
    "def loss_function(x): return x**2"
   ]
  },
  {
   "cell_type": "code",
   "execution_count": 56,
   "metadata": {},
   "outputs": [
    {
     "data": {
      "image/png": "[encoded data removed]",
      "text/plain": [
       "<Figure size 432x288 with 1 Axes>"
      ]
     },
     "metadata": {
      "needs_background": "light"
     },
     "output_type": "display_data"
    }
   ],
   "source": [
    "plot_function(loss_function, 'x', 'erreur')"
   ]
  },
  {
   "cell_type": "markdown",
   "metadata": {},
   "source": [
    "A la fin de l'itération précédente, le paramètre x vaut -1,5.\n",
    "- faut-il l'augmenter (point vert) ou le réduire (point rouge) pour faire diminuer l'erreur de prédiction à l'itération suivante ?\n",
    "- de combien faut-il l'augmenter ou le réduire pour se rapprocher du minimum ?\n",
    "\n",
    "Nous avons besoin de savoir comment varie l'erreur de prédiction si on modifie légèrement le paramètre autour de la valeur -1.5."
   ]
  },
  {
   "cell_type": "code",
   "execution_count": 57,
   "metadata": {},
   "outputs": [
    {
     "data": {
      "text/plain": [
       "2.25"
      ]
     },
     "execution_count": 57,
     "metadata": {},
     "output_type": "execute_result"
    }
   ],
   "source": [
    "x_val = -1.5\n",
    "error_val = loss_function(x_val)\n",
    "error_val"
   ]
  },
  {
   "cell_type": "code",
   "execution_count": 58,
   "metadata": {},
   "outputs": [
    {
     "data": {
      "text/plain": [
       "(-1.6, -1.5, -1.4)"
      ]
     },
     "execution_count": 58,
     "metadata": {},
     "output_type": "execute_result"
    }
   ],
   "source": [
    "epsilon = 0.1\n",
    "x_val_plus = x_val+epsilon\n",
    "x_val_minus = x_val-epsilon\n",
    "x_val_minus,x_val,x_val_plus"
   ]
  },
  {
   "cell_type": "code",
   "execution_count": 59,
   "metadata": {},
   "outputs": [
    {
     "data": {
      "text/plain": [
       "(2.5600000000000005, 2.25, 1.9599999999999997)"
      ]
     },
     "execution_count": 59,
     "metadata": {},
     "output_type": "execute_result"
    }
   ],
   "source": [
    "error_val_plus = loss_function(x_val_plus)\n",
    "error_val_minus = loss_function(x_val_minus)\n",
    "error_val_minus,error_val,error_val_plus"
   ]
  },
  {
   "cell_type": "code",
   "execution_count": 60,
   "metadata": {},
   "outputs": [
    {
     "data": {
      "image/png": "[encoded data removed]",
      "text/plain": [
       "<Figure size 432x288 with 1 Axes>"
      ]
     },
     "metadata": {
      "needs_background": "light"
     },
     "output_type": "display_data"
    }
   ],
   "source": [
    "plot_function(loss_function, 'x', 'erreur')\n",
    "plt.scatter(x_val, error_val, color='black');\n",
    "plt.scatter(x_val_minus, error_val_minus, color='red');\n",
    "plt.scatter(x_val_plus, error_val_plus, color='green');"
   ]
  },
  {
   "cell_type": "code",
   "execution_count": 61,
   "metadata": {},
   "outputs": [
    {
     "data": {
      "text/plain": [
       "-3.000000000000001"
      ]
     },
     "execution_count": 61,
     "metadata": {},
     "output_type": "execute_result"
    }
   ],
   "source": [
    "error_variation_when_x_changes = (error_val_plus - error_val_minus)/(x_val_plus - x_val_minus)\n",
    "error_variation_when_x_changes"
   ]
  },
  {
   "cell_type": "markdown",
   "metadata": {},
   "source": [
    "### Itérations (steps) pas à pas (learning rate)"
   ]
  },
  {
   "cell_type": "code",
   "execution_count": 62,
   "metadata": {},
   "outputs": [
    {
     "data": {
      "text/plain": [
       "(-1.5, -0.5999999999999998)"
      ]
     },
     "execution_count": 62,
     "metadata": {},
     "output_type": "execute_result"
    }
   ],
   "source": [
    "learning_rate = 0.3\n",
    "x_better_val = x_val - (error_variation_when_x_changes * learning_rate)\n",
    "x_val,x_better_val"
   ]
  },
  {
   "cell_type": "code",
   "execution_count": 63,
   "metadata": {},
   "outputs": [
    {
     "data": {
      "text/plain": [
       "(2.25, 0.3599999999999997)"
      ]
     },
     "execution_count": 63,
     "metadata": {},
     "output_type": "execute_result"
    }
   ],
   "source": [
    "error_better_val = loss_function(x_better_val)\n",
    "error_val,error_better_val"
   ]
  },
  {
   "cell_type": "markdown",
   "metadata": {},
   "source": [
    "Programme automatique pour trouver la valeur du paramètre x qui minimise l'erreur observée :"
   ]
  },
  {
   "cell_type": "code",
   "execution_count": 64,
   "metadata": {},
   "outputs": [],
   "source": [
    "def train_parameter(iterations_count=10, learning_rate=0.1):\n",
    "    plot_function(loss_function, 'x', 'erreur')\n",
    "\n",
    "    # random init\n",
    "    x = -2.    \n",
    "    # initial error value\n",
    "    error = loss_function(x)\n",
    "    # plot starting point\n",
    "    plt.scatter(x, error, color='black');\n",
    "\n",
    "    for iteration in range(iterations_count):\n",
    "        x_p = x + 0.01\n",
    "        x_m = x - 0.01\n",
    "        error_p = loss_function(x_p)\n",
    "        error_m = loss_function(x_m)\n",
    "        error_variation_when_x_changes = (error_p - error_m)/(x_p - x_m)\n",
    "        x = x - (error_variation_when_x_changes * learning_rate)\n",
    "        error = loss_function(x)\n",
    "        # display current results\n",
    "        print(f\"#{iteration} : loss = {error:.3f}\")\n",
    "        plt.scatter(x, error, color='black');\n",
    "        \n",
    "    return x, error"
   ]
  },
  {
   "cell_type": "code",
   "execution_count": 65,
   "metadata": {},
   "outputs": [
    {
     "name": "stdout",
     "output_type": "stream",
     "text": [
      "#0 : loss = 2.560\n",
      "#1 : loss = 1.638\n",
      "#2 : loss = 1.049\n",
      "#3 : loss = 0.671\n",
      "#4 : loss = 0.429\n",
      "#5 : loss = 0.275\n",
      "#6 : loss = 0.176\n",
      "#7 : loss = 0.113\n",
      "#8 : loss = 0.072\n",
      "#9 : loss = 0.046\n"
     ]
    },
    {
     "data": {
      "text/plain": [
       "(-0.21474836480000026, 0.04611686018427399)"
      ]
     },
     "execution_count": 65,
     "metadata": {},
     "output_type": "execute_result"
    },
    {
     "data": {
      "image/png": "[encoded data removed]",
      "text/plain": [
       "<Figure size 432x288 with 1 Axes>"
      ]
     },
     "metadata": {
      "needs_background": "light"
     },
     "output_type": "display_data"
    }
   ],
   "source": [
    "train_parameter()"
   ]
  },
  {
   "cell_type": "code",
   "execution_count": 66,
   "metadata": {},
   "outputs": [
    {
     "name": "stdout",
     "output_type": "stream",
     "text": [
      "#0 : loss = 2.560\n",
      "#1 : loss = 1.638\n",
      "#2 : loss = 1.049\n",
      "#3 : loss = 0.671\n",
      "#4 : loss = 0.429\n",
      "#5 : loss = 0.275\n",
      "#6 : loss = 0.176\n",
      "#7 : loss = 0.113\n",
      "#8 : loss = 0.072\n",
      "#9 : loss = 0.046\n",
      "#10 : loss = 0.030\n",
      "#11 : loss = 0.019\n",
      "#12 : loss = 0.012\n",
      "#13 : loss = 0.008\n",
      "#14 : loss = 0.005\n",
      "#15 : loss = 0.003\n",
      "#16 : loss = 0.002\n",
      "#17 : loss = 0.001\n",
      "#18 : loss = 0.001\n",
      "#19 : loss = 0.001\n"
     ]
    },
    {
     "data": {
      "text/plain": [
       "(-0.023058430092136956, 0.0005316911983139671)"
      ]
     },
     "execution_count": 66,
     "metadata": {},
     "output_type": "execute_result"
    },
    {
     "data": {
      "image/png": "[encoded data removed]",
      "text/plain": [
       "<Figure size 432x288 with 1 Axes>"
      ]
     },
     "metadata": {
      "needs_background": "light"
     },
     "output_type": "display_data"
    }
   ],
   "source": [
    "train_parameter(iterations_count=20)"
   ]
  },
  {
   "cell_type": "code",
   "execution_count": 67,
   "metadata": {},
   "outputs": [
    {
     "name": "stdout",
     "output_type": "stream",
     "text": [
      "#0 : loss = 0.640\n",
      "#1 : loss = 0.102\n",
      "#2 : loss = 0.016\n",
      "#3 : loss = 0.003\n",
      "#4 : loss = 0.000\n"
     ]
    },
    {
     "data": {
      "text/plain": [
       "(-0.020480000000000075, 0.00041943040000000305)"
      ]
     },
     "execution_count": 67,
     "metadata": {},
     "output_type": "execute_result"
    },
    {
     "data": {
      "image/png": "[encoded data removed]",
      "text/plain": [
       "<Figure size 432x288 with 1 Axes>"
      ]
     },
     "metadata": {
      "needs_background": "light"
     },
     "output_type": "display_data"
    }
   ],
   "source": [
    "train_parameter(iterations_count=5,learning_rate=0.3)"
   ]
  },
  {
   "cell_type": "code",
   "execution_count": 68,
   "metadata": {},
   "outputs": [
    {
     "name": "stdout",
     "output_type": "stream",
     "text": [
      "#0 : loss = 5.760\n",
      "#1 : loss = 8.294\n",
      "#2 : loss = 11.944\n",
      "#3 : loss = 17.199\n",
      "#4 : loss = 24.767\n",
      "#5 : loss = 35.664\n",
      "#6 : loss = 51.357\n",
      "#7 : loss = 73.954\n",
      "#8 : loss = 106.493\n",
      "#9 : loss = 153.350\n"
     ]
    },
    {
     "data": {
      "text/plain": [
       "(-12.383472844799353, 153.35039969788298)"
      ]
     },
     "execution_count": 68,
     "metadata": {},
     "output_type": "execute_result"
    },
    {
     "data": {
      "image/png": "[encoded data removed]",
      "text/plain": [
       "<Figure size 432x288 with 1 Axes>"
      ]
     },
     "metadata": {
      "needs_background": "light"
     },
     "output_type": "display_data"
    }
   ],
   "source": [
    "train_parameter(learning_rate=1.1)"
   ]
  },
  {
   "cell_type": "markdown",
   "metadata": {},
   "source": [
    "### Gradient"
   ]
  },
  {
   "cell_type": "markdown",
   "metadata": {},
   "source": [
    "Comme dans l'exemple ci-dessus, on peut essayer d'augmenter ou diminuer chaque paramètre à tour de rôle, puis tout recalculer et voir comment l'erreur évolue : ça fonctionne mais c'est évidemment beaucoup trop lent en pratique si on a une fonction de prédiction avec des millions de paramètres.\n",
    "\n",
    "Dans le cadre du deep learning, on restreint en pratique le domaine recherche d'une fonction de prédiction infiniment flexible aux fonctions mathématiques *dérivables*, et on calcule la *dérivée partielle* de la fonction de mesure de l'erreur (loss function) par rapport à chacun de ses paramètres pour savoir comment les mettre à jour.\n",
    "\n",
    "Dans ce contexte, on appelle **gradient** l'ensemble des valeurs des dérivées partielles de la fonction de mesure de l'erreur par rapport à la valeur actuelle des paramètrès du modèle.\n",
    "\n",
    "Si vous avez oublié vos cours de lycée sur la dérivation des fonctions, ce n'est pas un problème : on va voir que le rôle de PyTorch est justement de calculer le gradient de la fonction de coût automatiquement."
   ]
  },
  {
   "cell_type": "code",
   "execution_count": 69,
   "metadata": {},
   "outputs": [],
   "source": [
    "x_val = tensor(-1.5).requires_grad_()"
   ]
  },
  {
   "cell_type": "code",
   "execution_count": 70,
   "metadata": {},
   "outputs": [
    {
     "data": {
      "text/plain": [
       "tensor(2.2500, grad_fn=<PowBackward0>)"
      ]
     },
     "execution_count": 70,
     "metadata": {},
     "output_type": "execute_result"
    }
   ],
   "source": [
    "error_val = loss_function(x_val)\n",
    "error_val"
   ]
  },
  {
   "cell_type": "code",
   "execution_count": 71,
   "metadata": {},
   "outputs": [],
   "source": [
    "# Calcul du gradient\n",
    "error_val.backward()"
   ]
  },
  {
   "cell_type": "code",
   "execution_count": 72,
   "metadata": {},
   "outputs": [
    {
     "data": {
      "text/plain": [
       "tensor(-3.)"
      ]
     },
     "execution_count": 72,
     "metadata": {},
     "output_type": "execute_result"
    }
   ],
   "source": [
    "# Récupération du gradient sur chaque paramètre\n",
    "x_val.grad"
   ]
  },
  {
   "cell_type": "markdown",
   "metadata": {},
   "source": [
    "On retrouve ici directement la valeur \"error_variation_when_x_changes\" sans avoir à réévaluer le modèle et la fonction de mesure de l'erreur trois fois."
   ]
  },
  {
   "cell_type": "code",
   "execution_count": 73,
   "metadata": {},
   "outputs": [
    {
     "data": {
      "text/plain": [
       "tensor([ 3.,  4., 10.], requires_grad=True)"
      ]
     },
     "execution_count": 73,
     "metadata": {},
     "output_type": "execute_result"
    }
   ],
   "source": [
    "xs_val = tensor([3.,4.,10.]).requires_grad_()\n",
    "xs_val"
   ]
  },
  {
   "cell_type": "markdown",
   "metadata": {},
   "source": [
    "Exemple similaire, mais cette fois avec une fonction de plusieurs paramètres :"
   ]
  },
  {
   "cell_type": "code",
   "execution_count": 74,
   "metadata": {},
   "outputs": [
    {
     "data": {
      "text/plain": [
       "tensor(125., grad_fn=<SumBackward0>)"
      ]
     },
     "execution_count": 74,
     "metadata": {},
     "output_type": "execute_result"
    }
   ],
   "source": [
    "def loss_func_vec(xs): return (xs**2).sum()\n",
    "\n",
    "error_vec_val = loss_func_vec(xs_val)\n",
    "error_vec_val"
   ]
  },
  {
   "cell_type": "code",
   "execution_count": 75,
   "metadata": {},
   "outputs": [
    {
     "data": {
      "text/plain": [
       "tensor([ 6.,  8., 20.])"
      ]
     },
     "execution_count": 75,
     "metadata": {},
     "output_type": "execute_result"
    }
   ],
   "source": [
    "error_vec_val.backward()\n",
    "xs_val.grad"
   ]
  },
  {
   "cell_type": "markdown",
   "metadata": {},
   "source": [
    "IMPORTANT : utiliser Pytorch nécessite un changement de perspective => la dérivée / le gradient ne travaillent pas sur des fonctions, mais directement sur des variables qui ont une valeur. On ne calcule pas la fonction dérivée en général, mais sa valeur en un point précis."
   ]
  },
  {
   "cell_type": "markdown",
   "metadata": {},
   "source": [
    "### Exemple de SGD de bout en bout"
   ]
  },
  {
   "cell_type": "markdown",
   "metadata": {},
   "source": [
    "Retour sur l'exemple de prédiction de la vitesse d'un wagon de grand huit en fonction du temps.\n",
    "\n",
    "On génère ci-dessous des données de mesure fictive de ce phénomène."
   ]
  },
  {
   "cell_type": "code",
   "execution_count": 76,
   "metadata": {},
   "outputs": [
    {
     "data": {
      "text/plain": [
       "tensor([ 0.,  1.,  2.,  3.,  4.,  5.,  6.,  7.,  8.,  9., 10., 11., 12., 13.,\n",
       "        14., 15., 16., 17., 18., 19.])"
      ]
     },
     "execution_count": 76,
     "metadata": {},
     "output_type": "execute_result"
    }
   ],
   "source": [
    "time = torch.arange(0,20).float(); time"
   ]
  },
  {
   "cell_type": "code",
   "execution_count": 77,
   "metadata": {},
   "outputs": [
    {
     "data": {
      "text/plain": [
       "(tensor([ 0.1656,  0.0407,  2.3511,  0.4340, -0.3054, -0.9335, -0.8427, -1.1121,\n",
       "          0.8238,  0.4978, -0.5627, -0.2572, -0.8971,  0.2965,  1.5308, -1.3303,\n",
       "         -0.4903,  1.7376,  0.0616,  1.6184]),\n",
       " tensor(0.1413),\n",
       " tensor(1.0376))"
      ]
     },
     "execution_count": 77,
     "metadata": {},
     "output_type": "execute_result"
    }
   ],
   "source": [
    "# Introduction d'erreurs de mesures aléatoires pour avoir des données réalistes\n",
    "# Distribution normale : moyenne 0 / écart type 1\n",
    "measure_errors = torch.randn(20)\n",
    "measure_errors, measure_errors.mean(), measure_errors.std()"
   ]
  },
  {
   "cell_type": "code",
   "execution_count": 78,
   "metadata": {},
   "outputs": [
    {
     "data": {
      "image/png": "[encoded data removed]",
      "text/plain": [
       "<Figure size 432x288 with 1 Axes>"
      ]
     },
     "metadata": {
      "needs_background": "light"
     },
     "output_type": "display_data"
    }
   ],
   "source": [
    "speed = torch.randn(20) + 0.75*(time-9.5)**2 + 1\n",
    "plt.scatter(time,speed);"
   ]
  },
  {
   "cell_type": "markdown",
   "metadata": {},
   "source": [
    "On suppose ci-dessous que la formule de calcul de la vitesse en fonction du temps n'est pas connue.\n",
    "\n",
    "On essaie de l'approximer avec une fonction mathématique de la forme : vitesse(temps) = a * temps^2 + b * temps + c.\n",
    "\n",
    "On va essayer de trouver les paramètres a,b,c qui permettent de mnimiser l'erreur de prédiction sur les points de mesure fictifs générés plus haut."
   ]
  },
  {
   "cell_type": "code",
   "execution_count": 79,
   "metadata": {},
   "outputs": [],
   "source": [
    "def model(time, params):\n",
    "    a,b,c = params\n",
    "    return a*(time**2) + (b*time) + c"
   ]
  },
  {
   "cell_type": "code",
   "execution_count": 80,
   "metadata": {},
   "outputs": [],
   "source": [
    "def mean_squared_error(preds, targets): return ((preds-targets)**2).mean()"
   ]
  },
  {
   "cell_type": "code",
   "execution_count": 81,
   "metadata": {},
   "outputs": [],
   "source": [
    "# Initialisation de 3 paramètres a,b,c au hasard\n",
    "params = torch.randn(3).requires_grad_()"
   ]
  },
  {
   "cell_type": "code",
   "execution_count": 82,
   "metadata": {},
   "outputs": [],
   "source": [
    "# Calcul des prédictions avec cette valeur initiale des paramètres\n",
    "preds = model(time, params)"
   ]
  },
  {
   "cell_type": "markdown",
   "metadata": {},
   "source": [
    "En bleu, la vitesse mesurée, en rouge la vitesse prédite :"
   ]
  },
  {
   "cell_type": "code",
   "execution_count": 83,
   "metadata": {},
   "outputs": [],
   "source": [
    "def show_preds(preds, ax=None):\n",
    "    if ax is None: ax=plt.subplots()[1]\n",
    "    ax.scatter(time, speed)\n",
    "    ax.scatter(time, to_np(preds), color='red')\n",
    "    ax.set_ylim(-300,100)"
   ]
  },
  {
   "cell_type": "code",
   "execution_count": 84,
   "metadata": {},
   "outputs": [
    {
     "data": {
      "image/png": "[encoded data removed]",
      "text/plain": [
       "<Figure size 432x288 with 1 Axes>"
      ]
     },
     "metadata": {
      "needs_background": "light"
     },
     "output_type": "display_data"
    }
   ],
   "source": [
    "show_preds(preds)"
   ]
  },
  {
   "cell_type": "code",
   "execution_count": 85,
   "metadata": {},
   "outputs": [
    {
     "data": {
      "text/plain": [
       "tensor(74709.9531, grad_fn=<MeanBackward0>)"
      ]
     },
     "execution_count": 85,
     "metadata": {},
     "output_type": "execute_result"
    }
   ],
   "source": [
    "# Calcul de l'erreur\n",
    "loss = mean_squared_error(preds, speed)\n",
    "loss"
   ]
  },
  {
   "cell_type": "code",
   "execution_count": 86,
   "metadata": {},
   "outputs": [
    {
     "data": {
      "text/plain": [
       "tensor([91273.0469,  5890.9541,   389.2589])"
      ]
     },
     "execution_count": 86,
     "metadata": {},
     "output_type": "execute_result"
    }
   ],
   "source": [
    "# Calcul automatique du gradient par Pytorch pour chacun des trois paramètres\n",
    "loss.backward()\n",
    "params.grad"
   ]
  },
  {
   "cell_type": "code",
   "execution_count": 87,
   "metadata": {},
   "outputs": [
    {
     "data": {
      "text/plain": [
       "tensor([1.6279, 2.0224, 0.2067], requires_grad=True)"
      ]
     },
     "execution_count": 87,
     "metadata": {},
     "output_type": "execute_result"
    }
   ],
   "source": [
    "params"
   ]
  },
  {
   "cell_type": "code",
   "execution_count": 88,
   "metadata": {},
   "outputs": [
    {
     "data": {
      "text/plain": [
       "tensor([0.9127, 0.0589, 0.0039])"
      ]
     },
     "execution_count": 88,
     "metadata": {},
     "output_type": "execute_result"
    }
   ],
   "source": [
    "params.grad * 1e-5"
   ]
  },
  {
   "cell_type": "code",
   "execution_count": 89,
   "metadata": {},
   "outputs": [],
   "source": [
    "# Faire un pas vers des meilleures valeurs de paramètres\n",
    "lr = 1e-5\n",
    "params.data = params.data - lr * params.grad.data\n",
    "params.grad = None"
   ]
  },
  {
   "cell_type": "code",
   "execution_count": 90,
   "metadata": {},
   "outputs": [
    {
     "data": {
      "text/plain": [
       "tensor(14686.3301, grad_fn=<MeanBackward0>)"
      ]
     },
     "execution_count": 90,
     "metadata": {},
     "output_type": "execute_result"
    }
   ],
   "source": [
    "# Vérifier l'amélioration de l'erreur\n",
    "preds = model(time,params)\n",
    "mean_squared_error(preds, speed)"
   ]
  },
  {
   "cell_type": "code",
   "execution_count": 91,
   "metadata": {},
   "outputs": [
    {
     "data": {
      "image/png": "[encoded data removed]",
      "text/plain": [
       "<Figure size 432x288 with 1 Axes>"
      ]
     },
     "metadata": {
      "needs_background": "light"
     },
     "output_type": "display_data"
    }
   ],
   "source": [
    "show_preds(preds)"
   ]
  },
  {
   "cell_type": "code",
   "execution_count": 92,
   "metadata": {},
   "outputs": [],
   "source": [
    "def apply_step(params, prn=True):\n",
    "    preds = model(time, params)\n",
    "    loss = mean_squared_error(preds, speed)\n",
    "    loss.backward()\n",
    "    params.data -= lr * params.grad.data\n",
    "    params.grad = None\n",
    "    if prn: print(loss.item())\n",
    "    return preds"
   ]
  },
  {
   "cell_type": "code",
   "execution_count": 93,
   "metadata": {},
   "outputs": [
    {
     "name": "stdout",
     "output_type": "stream",
     "text": [
      "14686.330078125\n",
      "3328.01513671875\n",
      "1178.664794921875\n",
      "771.9322509765625\n",
      "694.9558715820312\n",
      "680.37939453125\n",
      "677.6112060546875\n",
      "677.0772094726562\n",
      "676.9660034179688\n",
      "676.9349365234375\n"
     ]
    }
   ],
   "source": [
    "for i in range(10): apply_step(params)"
   ]
  },
  {
   "cell_type": "code",
   "execution_count": 94,
   "metadata": {},
   "outputs": [
    {
     "data": {
      "image/png": "[encoded data removed]",
      "text/plain": [
       "<Figure size 864x216 with 4 Axes>"
      ]
     },
     "metadata": {
      "needs_background": "light"
     },
     "output_type": "display_data"
    }
   ],
   "source": [
    "params = torch.randn(3).requires_grad_()\n",
    "_,axs = plt.subplots(1,4,figsize=(12,3))\n",
    "for ax in axs: show_preds(apply_step(params, False), ax)\n",
    "plt.tight_layout()"
   ]
  },
  {
   "cell_type": "markdown",
   "metadata": {},
   "source": [
    "## Application au jeu de données MNIST"
   ]
  },
  {
   "cell_type": "markdown",
   "metadata": {},
   "source": [
    "### Préparation des datasets d'entrainement et de validation"
   ]
  },
  {
   "cell_type": "code",
   "execution_count": 95,
   "metadata": {},
   "outputs": [
    {
     "data": {
      "text/plain": [
       "(torch.Size([6131, 28, 28]), torch.Size([6265, 28, 28]))"
      ]
     },
     "execution_count": 95,
     "metadata": {},
     "output_type": "execute_result"
    }
   ],
   "source": [
    "stacked_threes.shape,stacked_sevens.shape"
   ]
  },
  {
   "cell_type": "markdown",
   "metadata": {},
   "source": [
    "[torch.cat(tensors, dim=0, out=None) → Tensor](https://pytorch.org/docs/stable/torch.html#torch.cat)\n",
    "\n",
    "Concatenates the given sequence of seq tensors in the given dimension. All tensors must either have the same shape (except in the concatenating dimension) or be empty."
   ]
  },
  {
   "cell_type": "code",
   "execution_count": 96,
   "metadata": {},
   "outputs": [
    {
     "data": {
      "text/plain": [
       "torch.Size([12396, 28, 28])"
      ]
     },
     "execution_count": 96,
     "metadata": {},
     "output_type": "execute_result"
    }
   ],
   "source": [
    "stacked_digits = torch.cat([stacked_threes, stacked_sevens])\n",
    "stacked_digits.shape"
   ]
  },
  {
   "cell_type": "markdown",
   "metadata": {},
   "source": [
    "[view(*shape) → Tensor](https://pytorch.org/docs/stable/tensors.html#torch.Tensor.view)\n",
    "                        \n",
    "Returns a new tensor with the same data as the self tensor but of a different shape."
   ]
  },
  {
   "cell_type": "code",
   "execution_count": 97,
   "metadata": {},
   "outputs": [
    {
     "data": {
      "text/plain": [
       "torch.Size([12396, 784])"
      ]
     },
     "execution_count": 97,
     "metadata": {},
     "output_type": "execute_result"
    }
   ],
   "source": [
    "train_x = stacked_digits.view(-1, 28*28) # the size -1 is inferred from other dimensions\n",
    "train_x.shape"
   ]
  },
  {
   "cell_type": "code",
   "execution_count": 98,
   "metadata": {},
   "outputs": [
    {
     "data": {
      "text/plain": [
       "torch.Size([12396])"
      ]
     },
     "execution_count": 98,
     "metadata": {},
     "output_type": "execute_result"
    }
   ],
   "source": [
    "stacked_labels = tensor([1]*len(threes) + [0]*len(sevens))\n",
    "stacked_labels.shape"
   ]
  },
  {
   "cell_type": "code",
   "execution_count": 99,
   "metadata": {},
   "outputs": [
    {
     "data": {
      "text/plain": [
       "(tensor(0.), tensor(0.))"
      ]
     },
     "execution_count": 99,
     "metadata": {},
     "output_type": "execute_result"
    }
   ],
   "source": [
    "train_x[0,0],train_x[0,783]"
   ]
  },
  {
   "cell_type": "code",
   "execution_count": 100,
   "metadata": {},
   "outputs": [
    {
     "ename": "IndexError",
     "evalue": "too many indices for tensor of dimension 1",
     "output_type": "error",
     "traceback": [
      "\u001b[0;31m---------------------------------------------------------------------------\u001b[0m",
      "\u001b[0;31mIndexError\u001b[0m                                Traceback (most recent call last)",
      "\u001b[0;32m<ipython-input-100-5aab5ea64dbf>\u001b[0m in \u001b[0;36m<module>\u001b[0;34m\u001b[0m\n\u001b[0;32m----> 1\u001b[0;31m \u001b[0mstacked_labels\u001b[0m\u001b[0;34m[\u001b[0m\u001b[0;36m0\u001b[0m\u001b[0;34m,\u001b[0m\u001b[0;36m0\u001b[0m\u001b[0;34m]\u001b[0m\u001b[0;34m\u001b[0m\u001b[0;34m\u001b[0m\u001b[0m\n\u001b[0m",
      "\u001b[0;31mIndexError\u001b[0m: too many indices for tensor of dimension 1"
     ]
    }
   ],
   "source": [
    "stacked_labels[0,0]"
   ]
  },
  {
   "cell_type": "markdown",
   "metadata": {},
   "source": [
    "[unsqueeze(dim) → Tensor](https://pytorch.org/docs/stable/torch.html#torch.unsqueeze)\n",
    "\n",
    "Returns a new tensor with a dimension of size one inserted at the specified position.\n",
    "The returned tensor shares the same underlying data with this tensor."
   ]
  },
  {
   "cell_type": "code",
   "execution_count": 101,
   "metadata": {},
   "outputs": [
    {
     "data": {
      "text/plain": [
       "torch.Size([12396, 1])"
      ]
     },
     "execution_count": 101,
     "metadata": {},
     "output_type": "execute_result"
    }
   ],
   "source": [
    "train_y = stacked_labels.unsqueeze(1)\n",
    "train_y.shape"
   ]
  },
  {
   "cell_type": "code",
   "execution_count": 102,
   "metadata": {},
   "outputs": [
    {
     "data": {
      "text/plain": [
       "tensor(1)"
      ]
     },
     "execution_count": 102,
     "metadata": {},
     "output_type": "execute_result"
    }
   ],
   "source": [
    "train_y[0,0]"
   ]
  },
  {
   "cell_type": "markdown",
   "metadata": {},
   "source": [
    "PyTorch définit un dataset comme une liste de couples (x,y).\n",
    "\n",
    "On utilise la fonction Python zip(xs,ys) pour itérer en parallèle sur les deux listes xs et ys, et retourner une liste de couples [(x1,y1),(x2,y2), ...]."
   ]
  },
  {
   "cell_type": "code",
   "execution_count": 103,
   "metadata": {},
   "outputs": [
    {
     "data": {
      "text/plain": [
       "<zip at 0x7ff0103b9910>"
      ]
     },
     "execution_count": 103,
     "metadata": {},
     "output_type": "execute_result"
    }
   ],
   "source": [
    "iterator = zip(train_x,train_y)\n",
    "iterator"
   ]
  },
  {
   "cell_type": "code",
   "execution_count": 104,
   "metadata": {},
   "outputs": [
    {
     "data": {
      "text/plain": [
       "(tuple,\n",
       " tuple,\n",
       " torch.Size([784]),\n",
       " torch.Size([1]),\n",
       " tensor(0.1428),\n",
       " tensor(0.1424))"
      ]
     },
     "execution_count": 104,
     "metadata": {},
     "output_type": "execute_result"
    }
   ],
   "source": [
    "couple1 = next(iterator)\n",
    "couple2 = next(iterator)\n",
    "type(couple1),type(couple2),couple1[0].shape,couple1[1].shape,couple1[0].mean(),couple2[0].mean()"
   ]
  },
  {
   "cell_type": "code",
   "execution_count": 105,
   "metadata": {},
   "outputs": [
    {
     "data": {
      "text/plain": [
       "(12396, torch.Size([784]), tensor([1]))"
      ]
     },
     "execution_count": 105,
     "metadata": {},
     "output_type": "execute_result"
    }
   ],
   "source": [
    "train_dataset = list(zip(train_x,train_y))\n",
    "x,y = train_dataset[0]\n",
    "len(train_dataset),x.shape,y"
   ]
  },
  {
   "cell_type": "markdown",
   "metadata": {},
   "source": [
    "On réalise la même mise en forme sur le **jeu de données de validation** :"
   ]
  },
  {
   "cell_type": "code",
   "execution_count": 106,
   "metadata": {},
   "outputs": [],
   "source": [
    "valid_x = torch.cat([valid_3_tens, valid_7_tens]).view(-1, 28*28)\n",
    "valid_y = tensor([1]*len(valid_3_tens) + [0]*len(valid_7_tens)).unsqueeze(1)\n",
    "valid_dataset = list(zip(valid_x,valid_y))"
   ]
  },
  {
   "cell_type": "markdown",
   "metadata": {},
   "source": [
    "### Initialisation des paramètres et définition du modèle"
   ]
  },
  {
   "cell_type": "code",
   "execution_count": 107,
   "metadata": {},
   "outputs": [],
   "source": [
    "def init_params(size, std=1.0): return (torch.randn(size)*std).requires_grad_()"
   ]
  },
  {
   "cell_type": "code",
   "execution_count": 108,
   "metadata": {},
   "outputs": [],
   "source": [
    "weights = init_params((28*28,1))"
   ]
  },
  {
   "cell_type": "code",
   "execution_count": 109,
   "metadata": {},
   "outputs": [],
   "source": [
    "bias = init_params(1)"
   ]
  },
  {
   "cell_type": "code",
   "execution_count": 110,
   "metadata": {},
   "outputs": [
    {
     "data": {
      "text/plain": [
       "(torch.Size([12396, 784]), torch.Size([784, 1]), torch.Size([1]))"
      ]
     },
     "execution_count": 110,
     "metadata": {},
     "output_type": "execute_result"
    }
   ],
   "source": [
    "train_x.shape,weights.shape,bias.shape"
   ]
  },
  {
   "cell_type": "markdown",
   "metadata": {},
   "source": [
    "Calcul d'une prédiction :"
   ]
  },
  {
   "cell_type": "code",
   "execution_count": 111,
   "metadata": {},
   "outputs": [
    {
     "data": {
      "text/plain": [
       "tensor([-4.3974], grad_fn=<AddBackward0>)"
      ]
     },
     "execution_count": 111,
     "metadata": {},
     "output_type": "execute_result"
    }
   ],
   "source": [
    "(train_x[0]*weights.T).sum() + bias"
   ]
  },
  {
   "cell_type": "markdown",
   "metadata": {},
   "source": [
    "Intuitivement, on va essayer de trouver des paramètres avec une valeur très positive pour les pixels qui doivent être noirs dans un 3 et pas dans un 7, et une valeur très négative pour les pixels qui doivent être noirs dans un 7 et pas dans un 3.\n",
    "\n",
    "Ainsi, le résultat obtenu sera très positif pour un 3, et très négatif pour un 7. Plus le résultat sera grand, plus on sera confiants pour prédire un 3."
   ]
  },
  {
   "cell_type": "markdown",
   "metadata": {},
   "source": [
    "Dans une approche similaire au broadcasting plus haut, il est beaucoup plus performant d'appliquer cette opération en masse sur tout un batch d'images, plutôt que dans une boucle image par image.\n",
    "\n",
    "L'ajout de la dimension \"batch\" (prédiction pour plusieurs exemples en une opération) transforme le produit scalaire en un multiplication de matrices, opération optimisée par PyTorch et pour laquelle les GPUs ont été conçus.\n",
    "\n",
    "Même sur un CPU, on calcule ci-dessous 12 400 prédictions en 4 ms."
   ]
  },
  {
   "cell_type": "code",
   "execution_count": 112,
   "metadata": {},
   "outputs": [
    {
     "name": "stdout",
     "output_type": "stream",
     "text": [
      "CPU times: user 4 ms, sys: 4 ms, total: 8 ms\n",
      "Wall time: 11.6 ms\n"
     ]
    },
    {
     "data": {
      "text/plain": [
       "(12396,\n",
       " tensor([[ -4.3974],\n",
       "         [-19.1490],\n",
       "         [ -2.5902],\n",
       "         ...,\n",
       "         [ 10.4565],\n",
       "         [ -6.7476],\n",
       "         [  4.4366]], grad_fn=<AddBackward0>))"
      ]
     },
     "execution_count": 112,
     "metadata": {},
     "output_type": "execute_result"
    }
   ],
   "source": [
    "def linear1(xb): return xb@weights + bias\n",
    "%time preds = linear1(train_x)\n",
    "len(preds),preds"
   ]
  },
  {
   "cell_type": "markdown",
   "metadata": {},
   "source": [
    "On va prédire un 3 chaque fois que le résultat est > 0, et un 7 chaque fois qu'il est <= 0.\n",
    "\n",
    "Broadcasting à l'oeuvre ci-dessous :"
   ]
  },
  {
   "cell_type": "code",
   "execution_count": 113,
   "metadata": {},
   "outputs": [
    {
     "data": {
      "text/plain": [
       "tensor([[False],\n",
       "        [False],\n",
       "        [False],\n",
       "        ...,\n",
       "        [False],\n",
       "        [ True],\n",
       "        [False]])"
      ]
     },
     "execution_count": 113,
     "metadata": {},
     "output_type": "execute_result"
    }
   ],
   "source": [
    "corrects = (preds>0.0).float() == train_y\n",
    "corrects"
   ]
  },
  {
   "cell_type": "code",
   "execution_count": 114,
   "metadata": {},
   "outputs": [
    {
     "data": {
      "text/plain": [
       "0.41481122374534607"
      ]
     },
     "execution_count": 114,
     "metadata": {},
     "output_type": "execute_result"
    }
   ],
   "source": [
    "accuracy = corrects.float().mean().item()\n",
    "accuracy"
   ]
  },
  {
   "cell_type": "markdown",
   "metadata": {},
   "source": [
    "Puisqu'on a initialisé les paramètres au hasard, et qu'on avait une chance sur 2 de prédire le bon chiffre, on observe logiquement un taux de succès autour de 50% au départ."
   ]
  },
  {
   "cell_type": "markdown",
   "metadata": {},
   "source": [
    "Cette **métrique** accuracy est l'indicateur de performance qui nous intéresse.\n",
    "\n",
    "Mais elle n'est pas adaptée comme mesure de l'erreur pour ajuster progressivement les paramètres : en effet, une petite amélioration sur un des paramètres ne se traduit pas par une petite réduction de l'erreur. \n",
    "\n",
    "Il y a une bascule \"soudaine\" d'une prédiction de correct à incorrect si on franchit le seuil de confiance, mais tant qu'on reste en dessous ou au dessus du seuil de confiance, des petites améliorations des valeurs ne modifient pas l'erreur mesurée. "
   ]
  },
  {
   "cell_type": "code",
   "execution_count": 115,
   "metadata": {},
   "outputs": [],
   "source": [
    "weights[0] += .01"
   ]
  },
  {
   "cell_type": "code",
   "execution_count": 116,
   "metadata": {},
   "outputs": [
    {
     "data": {
      "text/plain": [
       "0.41481122374534607"
      ]
     },
     "execution_count": 116,
     "metadata": {},
     "output_type": "execute_result"
    }
   ],
   "source": [
    "preds = linear1(train_x)\n",
    "((preds>0.0).float() == train_y).float().mean().item()"
   ]
  },
  {
   "cell_type": "markdown",
   "metadata": {},
   "source": [
    "On n'a donc pas de signal, de gradient, pour guider l'amélioration progressive des paramètres.\n",
    "\n",
    "Pour cette raison on utilise généralement deux fonctions de mesure de l'erreur :\n",
    "- une **métrique** (metrics), indicateur de performance qui nous intéresse, juste affiché pour information\n",
    "- une **fonction de coût** (loss function), utilisée pour guider l'amélioration progressive des paramètres, qui doit refléter de manière aussi \"régulière\" que possible les légères améliorations des valeurs de de paramètres par une légère diminution de la fonction de coût"
   ]
  },
  {
   "cell_type": "markdown",
   "metadata": {},
   "source": [
    "## >> Fin  session 3 / début session 4 <<"
   ]
  },
  {
   "cell_type": "markdown",
   "metadata": {},
   "source": [
    "Essayons de trouver une mesure de l'erreur plus \"continue\" pour notre jeu de données MNIST.\n",
    "\n",
    "On doit prédire des labels qui sont 1 (trois) ou 0 (pas trois).\n",
    "\n",
    "Supposons que notre modèle fournisse en sortie un nombre entre 0 et 1 : plus on est proche de 1, plus le modèle pense avoir reconnu un 3, plus on est proche de 0, moins le modèle pense avoir reconnu un 3.\n",
    "\n",
    "On pourrait mesurer de manière continue notre distance à l'objectif, en sommant la distance de nos prédictions à 1 ou à 0, selon le label à prédire.\n",
    "\n",
    "Exemple :"
   ]
  },
  {
   "cell_type": "code",
   "execution_count": 184,
   "metadata": {},
   "outputs": [],
   "source": [
    "labels  = tensor([1,0,1])\n",
    "activations_01  = tensor([0.9, 0.4, 0.2])"
   ]
  },
  {
   "cell_type": "markdown",
   "metadata": {},
   "source": [
    "- si le label à prédire est 1 : distance à l'objectif = 1 - prédiction\n",
    "- si le label à prédire est 0 : distance à l'objectif = prédiction - 0"
   ]
  },
  {
   "cell_type": "code",
   "execution_count": 185,
   "metadata": {},
   "outputs": [
    {
     "data": {
      "text/plain": [
       "tensor([ True, False,  True])"
      ]
     },
     "execution_count": 185,
     "metadata": {},
     "output_type": "execute_result"
    }
   ],
   "source": [
    "labels==1"
   ]
  },
  {
   "cell_type": "code",
   "execution_count": 186,
   "metadata": {},
   "outputs": [
    {
     "data": {
      "text/plain": [
       "tensor([0.1000, 0.4000, 0.8000])"
      ]
     },
     "execution_count": 186,
     "metadata": {},
     "output_type": "execute_result"
    }
   ],
   "source": [
    "torch.where(labels==1, 1-activations_01, activations_01)"
   ]
  },
  {
   "cell_type": "code",
   "execution_count": 187,
   "metadata": {},
   "outputs": [],
   "source": [
    "def mnist_loss(activations_01, targets):\n",
    "    return torch.where(targets==1, 1-activations_01, activations_01).mean()"
   ]
  },
  {
   "cell_type": "markdown",
   "metadata": {},
   "source": [
    "Vérifions qu'une petite amélioration des prédictions se traduit bien de manière régulière par une petite amélioration de notre fonction de coût :"
   ]
  },
  {
   "cell_type": "code",
   "execution_count": 188,
   "metadata": {},
   "outputs": [
    {
     "data": {
      "text/plain": [
       "tensor(-2.6654, grad_fn=<MeanBackward0>)"
      ]
     },
     "execution_count": 188,
     "metadata": {},
     "output_type": "execute_result"
    }
   ],
   "source": [
    "mnist_loss(activations_01,labels)"
   ]
  },
  {
   "cell_type": "code",
   "execution_count": 190,
   "metadata": {},
   "outputs": [
    {
     "data": {
      "text/plain": [
       "tensor(0.4333)"
      ]
     },
     "execution_count": 190,
     "metadata": {},
     "output_type": "execute_result"
    }
   ],
   "source": [
    "preds[0] += 0.1\n",
    "mnist_loss(activations_01,labels)"
   ]
  },
  {
   "cell_type": "markdown",
   "metadata": {},
   "source": [
    "En l'état, notre modèle retourne des valeurs entre moins l'infini et plus l'inifini. \n",
    "\n",
    "Notre fonction de coût ne peut mesurer une distance au résultat attendu que si le modèle retourne des valeurs entre 0 et 1."
   ]
  },
  {
   "cell_type": "markdown",
   "metadata": {},
   "source": [
    "### Sigmoid"
   ]
  },
  {
   "cell_type": "code",
   "execution_count": 191,
   "metadata": {},
   "outputs": [],
   "source": [
    "def sigmoid(x): return 1/(1+torch.exp(-x))"
   ]
  },
  {
   "cell_type": "code",
   "execution_count": 192,
   "metadata": {},
   "outputs": [
    {
     "data": {
      "image/png": "[encoded data removed]",
      "text/plain": [
       "<Figure size 432x288 with 1 Axes>"
      ]
     },
     "metadata": {
      "needs_background": "light"
     },
     "output_type": "display_data"
    }
   ],
   "source": [
    "plot_function(torch.sigmoid, title='Sigmoid', min=-4, max=4)"
   ]
  },
  {
   "cell_type": "markdown",
   "metadata": {},
   "source": [
    "En appliquant la fonction sigmoid sur la sortie brute du modèle, on obtient un nombre entre 0 et 1 qu'on peut interpréter comme une **distance** au label 0 ou 1 en sortie du modèle.\n",
    "\n",
    "Plus on est proche de 1, plus le modèle a été activé dans la direction d'une prédiction du label 1.\n",
    "Plus on est proche de 0, plus le modèle a été activé dans la direction d'une prédiction du label 0.\n",
    "\n",
    "ATTENTION : on ne peut en aucun cas interpréter ce nombre comme une **probabilité que la prédiction soit correcte**. Un modèle mal entrainé pourra tout à fait produire une prédiction très proche de 1 et se tromper grossièrement."
   ]
  },
  {
   "cell_type": "code",
   "execution_count": 193,
   "metadata": {},
   "outputs": [],
   "source": [
    "def mnist_loss(activations, targets):\n",
    "    activations_01 = activations.sigmoid()\n",
    "    return torch.where(targets==1, 1-activations_01, activations_01).mean()"
   ]
  },
  {
   "cell_type": "markdown",
   "metadata": {},
   "source": [
    "### SGD et mini-batchs"
   ]
  },
  {
   "cell_type": "markdown",
   "metadata": {},
   "source": [
    "La mesure de l'erreur de prédiction par rapport aux résultats attends est le signal qui permet de calculer un gradient puis de faire un pas dans la bonne direction pour améliorer les paramètres.\n",
    "\n",
    "Si on mesure cette erreur seulement sur deux ou trois exemples d'entrainement, on risque de faire un pas d'ajustement qui diminue l'erreur sur ces deux ou trois exemples particuliers, mais qui augmente l'erreur globalement sur tous les autres exemples.\n",
    "\n",
    "Si on mesure cette erreur sur l'ensemble des exemples d'entrainement, on ne peut faire qu'un seul pas d'ajustement à chaque passage sur la totalité des données d'entrainement : l'entrainement va converger très lentement et durer un temps infini, on gâche beaucoup de capacités de calcul.\n",
    "\n",
    "En pratique, on trouve un compromis en calculant l'erreur sur les données paquet par paquet (**mini-batchs** de données) :\n",
    "- on choisit une **taille de batch** (le nombre d'exemples examinés à chaque itération) suffisamment grande pour que la mesure de l'erreur donne une bonne approximation du gradient sur l'ensemble du jeu d'entrainement\n",
    "- on choisit une taille de batch suffisamment petite pour pouvoir appliquer un pas d'amélioration des paramètres du modèle aussi souvent que possible, réduire le temps de calul à chaque itération, pour accélérer la convergence du processus\n",
    "\n",
    "De plus, les cartes graphiques (GPUs) sont optimisés pour réaliser les mêmes opérations simultanément sur un batch de données similaires. \n",
    "\n",
    "Concrètement, on sélectionne en général la taille des mini-batchs en **fonction de la capacité mémoire du GPU**, pour tirer le maximum des capacités de calcul du matériel. "
   ]
  },
  {
   "cell_type": "markdown",
   "metadata": {},
   "source": [
    "La **classe fastai2 Dataloader** a pour mission de créer des batches de données à partir d'un flux d'exemples fournis par une Datasource.\n",
    "\n",
    "Pour apporter plus de variété à chaque époque et éviter une source potentielle de sur-spécialisation si on présentait de manière répétée toujours les mêmes batches dans la boucle d'apprentissage, on re-mélange les exemples de données de manière aléatoire en début de chaque époque avant de constituer des batchs."
   ]
  },
  {
   "cell_type": "code",
   "execution_count": 126,
   "metadata": {},
   "outputs": [
    {
     "data": {
      "text/plain": [
       "[0, 1, 2, 3, 4, 5, 6, 7, 8, 9, 10, 11, 12, 13, 14]"
      ]
     },
     "execution_count": 126,
     "metadata": {},
     "output_type": "execute_result"
    }
   ],
   "source": [
    "coll = range(15)\n",
    "list(coll)"
   ]
  },
  {
   "cell_type": "code",
   "execution_count": 127,
   "metadata": {},
   "outputs": [
    {
     "data": {
      "text/plain": [
       "[tensor([ 5,  7, 14, 13,  8]),\n",
       " tensor([ 2, 12,  6,  0,  4]),\n",
       " tensor([ 1, 11,  3,  9, 10])]"
      ]
     },
     "execution_count": 127,
     "metadata": {},
     "output_type": "execute_result"
    }
   ],
   "source": [
    "dl = DataLoader(coll, batch_size=5, shuffle=True)\n",
    "list(dl)"
   ]
  },
  {
   "cell_type": "code",
   "execution_count": 128,
   "metadata": {},
   "outputs": [
    {
     "data": {
      "text/plain": [
       "(#26) [(0, 'a'),(1, 'b'),(2, 'c'),(3, 'd'),(4, 'e'),(5, 'f'),(6, 'g'),(7, 'h'),(8, 'i'),(9, 'j')...]"
      ]
     },
     "execution_count": 128,
     "metadata": {},
     "output_type": "execute_result"
    }
   ],
   "source": [
    "datasource = L(enumerate(string.ascii_lowercase)) # couples (x,y)\n",
    "datasource"
   ]
  },
  {
   "cell_type": "code",
   "execution_count": 129,
   "metadata": {},
   "outputs": [
    {
     "data": {
      "text/plain": [
       "[(tensor([ 7,  1, 14,  3, 22, 18]), ('h', 'b', 'o', 'd', 'w', 's')),\n",
       " (tensor([ 9, 12, 19,  2, 25,  6]), ('j', 'm', 't', 'c', 'z', 'g')),\n",
       " (tensor([16, 23, 21, 15, 11,  8]), ('q', 'x', 'v', 'p', 'l', 'i')),\n",
       " (tensor([17,  4, 13,  0, 20, 10]), ('r', 'e', 'n', 'a', 'u', 'k')),\n",
       " (tensor([ 5, 24]), ('f', 'y'))]"
      ]
     },
     "execution_count": 129,
     "metadata": {},
     "output_type": "execute_result"
    }
   ],
   "source": [
    "dl = DataLoader(datasource, batch_size=6, shuffle=True)\n",
    "list(dl)"
   ]
  },
  {
   "cell_type": "markdown",
   "metadata": {},
   "source": [
    "## Réunir tous les éléments"
   ]
  },
  {
   "cell_type": "markdown",
   "metadata": {},
   "source": [
    "### Entrainer une époque"
   ]
  },
  {
   "cell_type": "code",
   "execution_count": 130,
   "metadata": {},
   "outputs": [],
   "source": [
    "# 0.a Initialisation des paramètres\n",
    "weights = init_params((28*28,1))\n",
    "bias = init_params(1)"
   ]
  },
  {
   "cell_type": "code",
   "execution_count": 131,
   "metadata": {},
   "outputs": [
    {
     "data": {
      "text/plain": [
       "(torch.Size([256, 784]), torch.Size([256, 1]))"
      ]
     },
     "execution_count": 131,
     "metadata": {},
     "output_type": "execute_result"
    }
   ],
   "source": [
    "# 0.b Création d'un Dataloader - training set\n",
    "train_dl = DataLoader(train_dataset, batch_size=256)\n",
    "xb,yb = first(train_dl)\n",
    "xb.shape,yb.shape"
   ]
  },
  {
   "cell_type": "code",
   "execution_count": 132,
   "metadata": {},
   "outputs": [],
   "source": [
    "# 0.c Création d'un Dataloader - validation set\n",
    "valid_dl = DataLoader(valid_dataset, batch_size=256)"
   ]
  },
  {
   "cell_type": "code",
   "execution_count": 133,
   "metadata": {},
   "outputs": [
    {
     "data": {
      "text/plain": [
       "(torch.Size([4, 784]), torch.Size([4, 1]))"
      ]
     },
     "execution_count": 133,
     "metadata": {},
     "output_type": "execute_result"
    }
   ],
   "source": [
    "# examen des 4 premiers exemples du premier batch d'entrainement\n",
    "x4 = xb[:4]\n",
    "y4 = yb[:4]\n",
    "x4.shape,y4.shape"
   ]
  },
  {
   "cell_type": "code",
   "execution_count": 194,
   "metadata": {},
   "outputs": [
    {
     "data": {
      "text/plain": [
       "tensor([[16.9632],\n",
       "        [15.5597],\n",
       "        [21.4432],\n",
       "        [28.5788]], grad_fn=<AddBackward0>)"
      ]
     },
     "execution_count": 194,
     "metadata": {},
     "output_type": "execute_result"
    }
   ],
   "source": [
    "# 1. Calcul des prédictions avec le modèle \"linear1\"\n",
    "activations = linear1(x4)\n",
    "activations"
   ]
  },
  {
   "cell_type": "code",
   "execution_count": 195,
   "metadata": {},
   "outputs": [
    {
     "data": {
      "text/plain": [
       "tensor(2.9802e-08, grad_fn=<MeanBackward0>)"
      ]
     },
     "execution_count": 195,
     "metadata": {},
     "output_type": "execute_result"
    }
   ],
   "source": [
    "# 2. Mesure de l'erreur - loss function\n",
    "loss = mnist_loss(activations, y4)\n",
    "loss"
   ]
  },
  {
   "cell_type": "code",
   "execution_count": 136,
   "metadata": {},
   "outputs": [
    {
     "data": {
      "text/plain": [
       "(torch.Size([784, 1]), tensor(-6.4045e-05), tensor([-0.0004]))"
      ]
     },
     "execution_count": 136,
     "metadata": {},
     "output_type": "execute_result"
    }
   ],
   "source": [
    "# 3. Calcul du gradient - dans quelle direction modifier les paramètres ?\n",
    "loss.backward()\n",
    "weights.grad.shape,weights.grad.mean(),bias.grad"
   ]
  },
  {
   "cell_type": "code",
   "execution_count": 137,
   "metadata": {},
   "outputs": [],
   "source": [
    "# regroupement des 3 étapes précédentes dans une fonction unique\n",
    "def calc_grad(xb, yb, model):\n",
    "    preds = model(xb)\n",
    "    loss = mnist_loss(preds, yb)\n",
    "    loss.backward()"
   ]
  },
  {
   "cell_type": "code",
   "execution_count": 138,
   "metadata": {},
   "outputs": [
    {
     "data": {
      "text/plain": [
       "(tensor(-0.0001), tensor([-0.0008]))"
      ]
     },
     "execution_count": 138,
     "metadata": {},
     "output_type": "execute_result"
    }
   ],
   "source": [
    "calc_grad(x4, y4, linear1)\n",
    "weights.grad.mean(),bias.grad"
   ]
  },
  {
   "cell_type": "code",
   "execution_count": 139,
   "metadata": {},
   "outputs": [
    {
     "data": {
      "text/plain": [
       "(tensor(-0.0002), tensor([-0.0012]))"
      ]
     },
     "execution_count": 139,
     "metadata": {},
     "output_type": "execute_result"
    }
   ],
   "source": [
    "calc_grad(x4, y4, linear1)\n",
    "weights.grad.mean(),bias.grad"
   ]
  },
  {
   "cell_type": "markdown",
   "metadata": {},
   "source": [
    "Attention, on voit ci-dessus que Pytorch accumule les gradients dans la même variable si on réalise plusieurs fois les calculs en boucle => il faut impérativement remettre les gradients à zéro entre deux itérations."
   ]
  },
  {
   "cell_type": "code",
   "execution_count": 140,
   "metadata": {},
   "outputs": [],
   "source": [
    "# remise à zéro des gradients\n",
    "weights.grad.zero_()\n",
    "bias.grad.zero_();"
   ]
  },
  {
   "cell_type": "markdown",
   "metadata": {},
   "source": [
    "*Pourquoi PyTorch ne remet-il pas à zéro tout seul ? Dans des cas plus réalistes et plus complexes, on peut avoir des réseaux de neurones à plusieurs branches, et les gradients peuvent s'accumuler en provenance des différentes branches. PyTorch n'a pas moyen de savoir quand l'accumulation des gradients est terminée.*"
   ]
  },
  {
   "cell_type": "code",
   "execution_count": 141,
   "metadata": {},
   "outputs": [],
   "source": [
    "# Regroupement des opérations d'entrainement d'une époque en une fonction\n",
    "def train_epoch(model, lr, params):\n",
    "    # - parcours des mini-batchs de données\n",
    "    for xb,yb in train_dl:\n",
    "        # - calcul du gradient sur un mini-batch\n",
    "        calc_grad(xb, yb, model)\n",
    "        # - ajustement des paramètres dans la direction inverse du gradient\n",
    "        for p in params:\n",
    "            p.data -= p.grad * lr # learning rate\n",
    "            p.grad.zero_()        # remise à zéro du gradient de ce paramètre"
   ]
  },
  {
   "cell_type": "markdown",
   "metadata": {},
   "source": [
    "Calcul de la métrique **accuracy** (taux de succès de la classification) sur un batch de données :\n",
    "- seuil de prédiction du label 1 : sigmoid(prediction brute) > 0.5"
   ]
  },
  {
   "cell_type": "code",
   "execution_count": 142,
   "metadata": {},
   "outputs": [],
   "source": [
    "def batch_accuracy(predsb, yb):\n",
    "    preds01 = predsb.sigmoid()\n",
    "    correct = (preds01 > 0.5) == yb\n",
    "    return correct.float().mean()"
   ]
  },
  {
   "cell_type": "code",
   "execution_count": 143,
   "metadata": {},
   "outputs": [
    {
     "data": {
      "text/plain": [
       "tensor(1.)"
      ]
     },
     "execution_count": 143,
     "metadata": {},
     "output_type": "execute_result"
    }
   ],
   "source": [
    "batch_accuracy(linear1(x4), y4)"
   ]
  },
  {
   "cell_type": "markdown",
   "metadata": {},
   "source": [
    "Calcul de la métrique accuracy sur l'ensemble du jeu de données de validation :"
   ]
  },
  {
   "cell_type": "code",
   "execution_count": 144,
   "metadata": {},
   "outputs": [],
   "source": [
    "def validate_epoch(model):\n",
    "    accs = [batch_accuracy(model(xb), yb) for xb,yb in valid_dl]\n",
    "    return round(torch.stack(accs).mean().item(), 4)"
   ]
  },
  {
   "cell_type": "code",
   "execution_count": 145,
   "metadata": {},
   "outputs": [
    {
     "data": {
      "text/plain": [
       "0.7134"
      ]
     },
     "execution_count": 145,
     "metadata": {},
     "output_type": "execute_result"
    }
   ],
   "source": [
    "validate_epoch(linear1)"
   ]
  },
  {
   "cell_type": "markdown",
   "metadata": {},
   "source": [
    "Exécution manuelle de quelques époques d'entrainement :"
   ]
  },
  {
   "cell_type": "code",
   "execution_count": 146,
   "metadata": {},
   "outputs": [
    {
     "data": {
      "text/plain": [
       "0.7607"
      ]
     },
     "execution_count": 146,
     "metadata": {},
     "output_type": "execute_result"
    }
   ],
   "source": [
    "lr = 1.\n",
    "params = weights,bias\n",
    "train_epoch(linear1, lr, params)\n",
    "validate_epoch(linear1)"
   ]
  },
  {
   "cell_type": "code",
   "execution_count": 147,
   "metadata": {},
   "outputs": [
    {
     "name": "stdout",
     "output_type": "stream",
     "text": [
      "0.6196 0.8549 0.9198 0.9394 0.9501 0.954 0.9613 0.9643 0.9667 0.9696 0.9706 0.9701 0.9745 0.975 0.975 0.975 0.9755 0.9755 0.9765 0.9765 "
     ]
    }
   ],
   "source": [
    "weights = init_params((28*28,1))\n",
    "bias = init_params(1)\n",
    "params = weights,bias\n",
    "\n",
    "for i in range(20):\n",
    "    train_epoch(linear1, lr, params)\n",
    "    print(validate_epoch(linear1), end=' ')"
   ]
  },
  {
   "cell_type": "markdown",
   "metadata": {},
   "source": [
    "### Créer un optimiseur"
   ]
  },
  {
   "cell_type": "markdown",
   "metadata": {},
   "source": [
    "Mission : réaliser un pas d'ajustement des paramètres."
   ]
  },
  {
   "cell_type": "markdown",
   "metadata": {},
   "source": [
    "Le **module PyTorch nn.Linear** stocke et initialise les paramètres d'un modèle linéraire comme celui que nous avons déifni plus haut à la main."
   ]
  },
  {
   "cell_type": "code",
   "execution_count": 156,
   "metadata": {},
   "outputs": [],
   "source": [
    "linear_model = nn.Linear(28*28,1)"
   ]
  },
  {
   "cell_type": "code",
   "execution_count": 157,
   "metadata": {},
   "outputs": [
    {
     "data": {
      "text/plain": [
       "(torch.Size([1, 784]), torch.Size([1]))"
      ]
     },
     "execution_count": 157,
     "metadata": {},
     "output_type": "execute_result"
    }
   ],
   "source": [
    "w,b = linear_model.parameters()\n",
    "w.shape,b.shape"
   ]
  },
  {
   "cell_type": "code",
   "execution_count": 167,
   "metadata": {},
   "outputs": [],
   "source": [
    "class SGDOptimizer:\n",
    "    def __init__(self,params,lr): \n",
    "        self.params = list(params)\n",
    "        self.lr = lr\n",
    "\n",
    "    def step(self):\n",
    "        for p in self.params: \n",
    "            p.data -= p.grad.data * self.lr\n",
    "\n",
    "    def zero_grad(self):\n",
    "        for p in self.params: \n",
    "            p.grad.zero_()"
   ]
  },
  {
   "cell_type": "code",
   "execution_count": 168,
   "metadata": {},
   "outputs": [],
   "source": [
    "opt = SGDOptimizer(linear_model.parameters(), lr)"
   ]
  },
  {
   "cell_type": "code",
   "execution_count": 169,
   "metadata": {},
   "outputs": [],
   "source": [
    "# Refactoring de la méthode train_epoch en utilisation un optimiseur\n",
    "def train_epoch(model):\n",
    "    for xb,yb in train_dl:\n",
    "        calc_grad(xb, yb, model)\n",
    "        opt.step()\n",
    "        opt.zero_grad()"
   ]
  },
  {
   "cell_type": "markdown",
   "metadata": {},
   "source": [
    "Accuracy sur le jeu de validation avant entrainement : c'est juste pile ou face !"
   ]
  },
  {
   "cell_type": "code",
   "execution_count": 170,
   "metadata": {},
   "outputs": [
    {
     "data": {
      "text/plain": [
       "0.9785"
      ]
     },
     "execution_count": 170,
     "metadata": {},
     "output_type": "execute_result"
    }
   ],
   "source": [
    "validate_epoch(linear_model)"
   ]
  },
  {
   "cell_type": "code",
   "execution_count": 171,
   "metadata": {},
   "outputs": [],
   "source": [
    "def train_model(model, epochs):\n",
    "    for i in range(epochs):\n",
    "        train_epoch(model)\n",
    "        print(validate_epoch(model), end=' ')"
   ]
  },
  {
   "cell_type": "code",
   "execution_count": 172,
   "metadata": {},
   "outputs": [
    {
     "name": "stdout",
     "output_type": "stream",
     "text": [
      "0.979 0.9785 0.979 0.979 0.979 0.98 0.9804 0.9804 0.9804 0.9814 0.9814 0.9814 0.9809 0.9809 0.9809 0.9814 0.9814 0.9814 0.9814 0.9814 "
     ]
    }
   ],
   "source": [
    "train_model(linear_model, 20)"
   ]
  },
  {
   "cell_type": "markdown",
   "metadata": {},
   "source": [
    "### Synthèse"
   ]
  },
  {
   "cell_type": "markdown",
   "metadata": {},
   "source": [
    "La **classe fastai2 Dataloaders** permet de regrouper les Dataloader des jeu de données d'entrainement et de validation :"
   ]
  },
  {
   "cell_type": "markdown",
   "metadata": {},
   "source": [
    "1. Création de deux DataLoaders pour les jeux d'entrainement et de validation"
   ]
  },
  {
   "cell_type": "code",
   "execution_count": 173,
   "metadata": {},
   "outputs": [
    {
     "data": {
      "text/plain": [
       "(49, 8)"
      ]
     },
     "execution_count": 173,
     "metadata": {},
     "output_type": "execute_result"
    }
   ],
   "source": [
    "dls = DataLoaders(train_dl,valid_dl)\n",
    "len(dls.train),len(dls.valid)"
   ]
  },
  {
   "cell_type": "markdown",
   "metadata": {},
   "source": [
    "2. Choix d'un modèle de prédiction avec des paramètres ajustables"
   ]
  },
  {
   "cell_type": "code",
   "execution_count": 174,
   "metadata": {},
   "outputs": [],
   "source": [
    "class LinearModel:    \n",
    "    \n",
    "    @staticmethod\n",
    "    def init_params(size): \n",
    "        return torch.randn(size).requires_grad_()\n",
    "    \n",
    "    def __init__(self):\n",
    "        self.params = (LinearModel.init_params(28*28), LinearModel.init_params(1))\n",
    "            \n",
    "    def __call__(self, inputs):\n",
    "        weights,bias = self.params\n",
    "        return inputs@weights + bias\n",
    "    \n",
    "    def predict(self, inputs):\n",
    "        activations = self(inputs)\n",
    "        return activations.sigmoid() > 0.5"
   ]
  },
  {
   "cell_type": "markdown",
   "metadata": {},
   "source": [
    "3. Définition de fonctions de mesure de l'erreur de prédiction : loss function et métrique(s)"
   ]
  },
  {
   "cell_type": "code",
   "execution_count": 175,
   "metadata": {},
   "outputs": [],
   "source": [
    "def accuracy(predictions, targets):\n",
    "    corrects = (predictions == targets)\n",
    "    return corrects.float().mean()"
   ]
  },
  {
   "cell_type": "code",
   "execution_count": 176,
   "metadata": {},
   "outputs": [],
   "source": [
    "def mnist_loss(activations, targets):\n",
    "    activations_01 = activations.sigmoid()\n",
    "    distances = torch.where(targets==1, \n",
    "                            1 - activations_01, \n",
    "                            activations_01)\n",
    "    return distances.mean()"
   ]
  },
  {
   "cell_type": "markdown",
   "metadata": {},
   "source": [
    "4. Anticipation de l'évolution de l'erreur pour un petit ajustement des paramètres"
   ]
  },
  {
   "cell_type": "code",
   "execution_count": 177,
   "metadata": {},
   "outputs": [],
   "source": [
    "def compute_gradient(xb, yb, model, loss_func):\n",
    "    activations = model(xb)\n",
    "    loss = loss_func(activations, yb)\n",
    "    loss.backward()"
   ]
  },
  {
   "cell_type": "markdown",
   "metadata": {},
   "source": [
    "5. Ajustement des paramètres sur un mini-batch de données"
   ]
  },
  {
   "cell_type": "code",
   "execution_count": 178,
   "metadata": {},
   "outputs": [],
   "source": [
    "class SGDOptimizer:\n",
    "    \n",
    "    def __init__(self, model, lr):\n",
    "        self.params = list(model.params)\n",
    "        self.lr = lr\n",
    "    \n",
    "    def adjust_params(self):\n",
    "        for param_tensor in self.params:\n",
    "            param_tensor.data -= self.lr * param_tensor.grad\n",
    "            \n",
    "    def zero_grad(self):\n",
    "        for param_tensor in self.params:\n",
    "            param_tensor.grad.zero_()"
   ]
  },
  {
   "cell_type": "markdown",
   "metadata": {},
   "source": [
    "6. Entrainement sur une époque"
   ]
  },
  {
   "cell_type": "code",
   "execution_count": 179,
   "metadata": {},
   "outputs": [],
   "source": [
    "def train_epoch(train_dl, model, loss_func, optim):\n",
    "    for xb,yb in train_dl:\n",
    "        compute_gradient(xb, yb, model, loss_func)\n",
    "        optim.adjust_params()\n",
    "        optim.zero_grad()"
   ]
  },
  {
   "cell_type": "markdown",
   "metadata": {},
   "source": [
    "7. Calcul des métriques de performances sur le jeu de données de validation"
   ]
  },
  {
   "cell_type": "code",
   "execution_count": 180,
   "metadata": {},
   "outputs": [],
   "source": [
    "def batch_perf(xb, yb, model, metric):\n",
    "    predictions = model.predict(xb)\n",
    "    return metric(predictions, yb)\n",
    "\n",
    "def validate_epoch(valid_dl, model, metric):\n",
    "    perfs = [batch_perf(xb, yb, model, metric) for xb,yb in valid_dl]\n",
    "    return round(torch.stack(perfs).mean().item(), 4)"
   ]
  },
  {
   "cell_type": "markdown",
   "metadata": {},
   "source": [
    "8. Entrainement du modèle"
   ]
  },
  {
   "cell_type": "code",
   "execution_count": 181,
   "metadata": {},
   "outputs": [],
   "source": [
    "def train_model(dls, model, loss_func, metric, optim, epochs):\n",
    "    for i in range(epochs):\n",
    "        train_epoch(dls.train, model, loss_func, optim)\n",
    "        print(validate_epoch(dls.valid, model, metric), end=' ')"
   ]
  },
  {
   "cell_type": "markdown",
   "metadata": {},
   "source": [
    "9. Exécution de l'entrainement"
   ]
  },
  {
   "cell_type": "code",
   "execution_count": 182,
   "metadata": {},
   "outputs": [
    {
     "name": "stdout",
     "output_type": "stream",
     "text": [
      "0.6215 0.661 0.8671 0.9191 0.9382 0.945 0.9478 0.9497 0.9512 0.9531 0.9555 0.9579 0.9584 0.9579 0.9579 0.9603 0.9617 0.9621 0.9631 0.964 "
     ]
    }
   ],
   "source": [
    "model = LinearModel()\n",
    "sgd = SGDOptimizer(model, lr=1.)\n",
    "\n",
    "train_model(dls, model, loss_func=mnist_loss, metric=accuracy, optim=sgd, epochs=20)"
   ]
  },
  {
   "cell_type": "markdown",
   "metadata": {},
   "source": [
    "Nous venons d'entrainer un modèle qui classifie les chiffres manuscrits 3 et 7 avec 97% de succès."
   ]
  },
  {
   "cell_type": "markdown",
   "metadata": {},
   "source": [
    "### Utiliser les classes de PyTorch et fastai2"
   ]
  },
  {
   "cell_type": "markdown",
   "metadata": {},
   "source": [
    "Le module Pytorch **nn.Linear** est l'équivalent de notre classe LinearModel :"
   ]
  },
  {
   "cell_type": "code",
   "execution_count": 352,
   "metadata": {},
   "outputs": [],
   "source": [
    "model = nn.Linear(28*28,1)"
   ]
  },
  {
   "cell_type": "markdown",
   "metadata": {},
   "source": [
    "L'optimiseur PyTorch **SGD** est l'équivalent de notre classe SGDOptimizer :"
   ]
  },
  {
   "cell_type": "code",
   "execution_count": 353,
   "metadata": {},
   "outputs": [],
   "source": [
    "optim = SGD(model.parameters(), lr=1.)"
   ]
  },
  {
   "cell_type": "markdown",
   "metadata": {},
   "source": [
    "fastai2 définit une métrique **accuracy** (que nous avions redéfinie) :"
   ]
  },
  {
   "cell_type": "code",
   "execution_count": 361,
   "metadata": {},
   "outputs": [],
   "source": [
    "from fastai2.metrics import accuracy"
   ]
  },
  {
   "cell_type": "markdown",
   "metadata": {},
   "source": [
    "La classe fastai2 **Learner** permet de regrouper :\n",
    "- les jeux de données d'entrainement et de validation\n",
    "- le modèle et ses paramètres\n",
    "- l'optimiseur : opt_func\n",
    "- la fonction de mesure de l'erreur pour calculer le gradient : loss_func\n",
    "- les indicateurs de performance qui intéressent le data scientist : metrics"
   ]
  },
  {
   "cell_type": "code",
   "execution_count": 366,
   "metadata": {},
   "outputs": [],
   "source": [
    "learn = Learner(dls, nn.Linear(28*28,1), opt_func=SGD,\n",
    "                loss_func=mnist_loss, metrics=accuracy)"
   ]
  },
  {
   "cell_type": "markdown",
   "metadata": {},
   "source": [
    "Sa **méthode fit(epochs, learning_rate)** est l'équivalent de notre fonction train_model :"
   ]
  },
  {
   "cell_type": "code",
   "execution_count": null,
   "metadata": {},
   "outputs": [],
   "source": [
    "learn.fit(10, lr=1.)"
   ]
  },
  {
   "cell_type": "markdown",
   "metadata": {},
   "source": [
    "On retrouve une performance de classification finale de l'ordre de 97%.\n",
    "\n",
    "Pour aller plus loin, on peut remplacer notre modèle linéaire par un modèle un tout petit peu plus compliqué : des combinaisons de segments au lieu de simples droites. \n",
    "\n",
    "On définit ainsi un réseau de neurones."
   ]
  },
  {
   "cell_type": "markdown",
   "metadata": {},
   "source": [
    "## Création d'un réseau de neurones à un niveau"
   ]
  },
  {
   "cell_type": "code",
   "execution_count": 354,
   "metadata": {},
   "outputs": [],
   "source": [
    "def simple_net(xb): \n",
    "    res = xb@w1 + b1             # droites\n",
    "    res = res.max(tensor(0.0))   # segments de droites\n",
    "    res = res@w2 + b2            # combinaison de segments de droites\n",
    "    return res"
   ]
  },
  {
   "cell_type": "code",
   "execution_count": 355,
   "metadata": {},
   "outputs": [],
   "source": [
    "w1 = init_params((28*28,30))\n",
    "b1 = init_params(30)\n",
    "w2 = init_params((30,1))\n",
    "b2 = init_params(1)"
   ]
  },
  {
   "cell_type": "markdown",
   "metadata": {},
   "source": [
    "PyTorch définit la fonction **F.relu : Rectified Linear Unit**, qui est juste l'équivalent de max(x,0)"
   ]
  },
  {
   "cell_type": "code",
   "execution_count": 356,
   "metadata": {},
   "outputs": [
    {
     "data": {
      "image/png": "[encoded data removed]",
      "text/plain": [
       "<Figure size 432x288 with 1 Axes>"
      ]
     },
     "metadata": {
      "needs_background": "light"
     },
     "output_type": "display_data"
    }
   ],
   "source": [
    "plot_function(F.relu)            # équivalent de : res.max(tensor(0.0)) "
   ]
  },
  {
   "cell_type": "markdown",
   "metadata": {},
   "source": [
    "Un niveau de **réseau de neurone** (feed-forward ou fully-connected) se traduit par l'enchainement des 3 modules suivants :\n",
    "- production de 30 combinaisons linéaires différentes des 28*28 paramètres d'entrée (23 550 paramètres à ajuster)\n",
    "- ajout d'une non linéarité (création de \"segments de droite\" à combiner)\n",
    "- combinaisation linéaire des 30 valeurs intermédiaires pour produire une prédiction (31 paramètres à ajuster)"
   ]
  },
  {
   "cell_type": "code",
   "execution_count": 357,
   "metadata": {},
   "outputs": [],
   "source": [
    "simple_net = nn.Sequential(\n",
    "    nn.Linear(28*28,30),\n",
    "    nn.ReLU(),\n",
    "    nn.Linear(30,1)\n",
    ")"
   ]
  },
  {
   "cell_type": "markdown",
   "metadata": {},
   "source": [
    "Essayons d'entrainer ce nouveau modèle de la même manière :\n",
    "- le précédent modèle avait 785 paramètres à ajuster\n",
    "- le nouveau modèle a 23 581 paramètres à ajuster (30x plus de capacité de calcul)"
   ]
  },
  {
   "cell_type": "code",
   "execution_count": 358,
   "metadata": {},
   "outputs": [],
   "source": [
    "learn = Learner(dls, simple_net, opt_func=SGD,\n",
    "               loss_func=mnist_loss, metrics=accuracy,\n",
    "               cbs=ShowGraphCallback())"
   ]
  },
  {
   "cell_type": "code",
   "execution_count": 359,
   "metadata": {},
   "outputs": [
    {
     "data": {
      "text/html": [
       "<table border=\"1\" class=\"dataframe\">\n",
       "  <thead>\n",
       "    <tr style=\"text-align: left;\">\n",
       "      <th>epoch</th>\n",
       "      <th>train_loss</th>\n",
       "      <th>valid_loss</th>\n",
       "      <th>batch_accuracy</th>\n",
       "      <th>time</th>\n",
       "    </tr>\n",
       "  </thead>\n",
       "  <tbody>\n",
       "    <tr>\n",
       "      <td>0</td>\n",
       "      <td>0.292361</td>\n",
       "      <td>0.420734</td>\n",
       "      <td>0.504416</td>\n",
       "      <td>00:01</td>\n",
       "    </tr>\n",
       "    <tr>\n",
       "      <td>1</td>\n",
       "      <td>0.141004</td>\n",
       "      <td>0.217673</td>\n",
       "      <td>0.818449</td>\n",
       "      <td>00:00</td>\n",
       "    </tr>\n",
       "    <tr>\n",
       "      <td>2</td>\n",
       "      <td>0.078587</td>\n",
       "      <td>0.110047</td>\n",
       "      <td>0.921982</td>\n",
       "      <td>00:00</td>\n",
       "    </tr>\n",
       "    <tr>\n",
       "      <td>3</td>\n",
       "      <td>0.052112</td>\n",
       "      <td>0.075203</td>\n",
       "      <td>0.940137</td>\n",
       "      <td>00:00</td>\n",
       "    </tr>\n",
       "    <tr>\n",
       "      <td>4</td>\n",
       "      <td>0.039811</td>\n",
       "      <td>0.059222</td>\n",
       "      <td>0.957802</td>\n",
       "      <td>00:00</td>\n",
       "    </tr>\n",
       "    <tr>\n",
       "      <td>5</td>\n",
       "      <td>0.033508</td>\n",
       "      <td>0.050191</td>\n",
       "      <td>0.965162</td>\n",
       "      <td>00:01</td>\n",
       "    </tr>\n",
       "    <tr>\n",
       "      <td>6</td>\n",
       "      <td>0.029870</td>\n",
       "      <td>0.044455</td>\n",
       "      <td>0.966143</td>\n",
       "      <td>00:00</td>\n",
       "    </tr>\n",
       "    <tr>\n",
       "      <td>7</td>\n",
       "      <td>0.027491</td>\n",
       "      <td>0.040516</td>\n",
       "      <td>0.969578</td>\n",
       "      <td>00:01</td>\n",
       "    </tr>\n",
       "    <tr>\n",
       "      <td>8</td>\n",
       "      <td>0.025769</td>\n",
       "      <td>0.037637</td>\n",
       "      <td>0.969578</td>\n",
       "      <td>00:00</td>\n",
       "    </tr>\n",
       "    <tr>\n",
       "      <td>9</td>\n",
       "      <td>0.024425</td>\n",
       "      <td>0.035433</td>\n",
       "      <td>0.970559</td>\n",
       "      <td>00:01</td>\n",
       "    </tr>\n",
       "    <tr>\n",
       "      <td>10</td>\n",
       "      <td>0.023331</td>\n",
       "      <td>0.033678</td>\n",
       "      <td>0.972031</td>\n",
       "      <td>00:00</td>\n",
       "    </tr>\n",
       "    <tr>\n",
       "      <td>11</td>\n",
       "      <td>0.022413</td>\n",
       "      <td>0.032234</td>\n",
       "      <td>0.974485</td>\n",
       "      <td>00:01</td>\n",
       "    </tr>\n",
       "    <tr>\n",
       "      <td>12</td>\n",
       "      <td>0.021626</td>\n",
       "      <td>0.031016</td>\n",
       "      <td>0.974975</td>\n",
       "      <td>00:01</td>\n",
       "    </tr>\n",
       "    <tr>\n",
       "      <td>13</td>\n",
       "      <td>0.020942</td>\n",
       "      <td>0.029967</td>\n",
       "      <td>0.975466</td>\n",
       "      <td>00:01</td>\n",
       "    </tr>\n",
       "    <tr>\n",
       "      <td>14</td>\n",
       "      <td>0.020341</td>\n",
       "      <td>0.029051</td>\n",
       "      <td>0.975957</td>\n",
       "      <td>00:02</td>\n",
       "    </tr>\n",
       "    <tr>\n",
       "      <td>15</td>\n",
       "      <td>0.019806</td>\n",
       "      <td>0.028239</td>\n",
       "      <td>0.975957</td>\n",
       "      <td>00:00</td>\n",
       "    </tr>\n",
       "    <tr>\n",
       "      <td>16</td>\n",
       "      <td>0.019326</td>\n",
       "      <td>0.027513</td>\n",
       "      <td>0.977920</td>\n",
       "      <td>00:00</td>\n",
       "    </tr>\n",
       "    <tr>\n",
       "      <td>17</td>\n",
       "      <td>0.018894</td>\n",
       "      <td>0.026858</td>\n",
       "      <td>0.977920</td>\n",
       "      <td>00:00</td>\n",
       "    </tr>\n",
       "    <tr>\n",
       "      <td>18</td>\n",
       "      <td>0.018500</td>\n",
       "      <td>0.026264</td>\n",
       "      <td>0.977920</td>\n",
       "      <td>00:01</td>\n",
       "    </tr>\n",
       "    <tr>\n",
       "      <td>19</td>\n",
       "      <td>0.018140</td>\n",
       "      <td>0.025723</td>\n",
       "      <td>0.977920</td>\n",
       "      <td>00:00</td>\n",
       "    </tr>\n",
       "    <tr>\n",
       "      <td>20</td>\n",
       "      <td>0.017808</td>\n",
       "      <td>0.025229</td>\n",
       "      <td>0.978410</td>\n",
       "      <td>00:00</td>\n",
       "    </tr>\n",
       "    <tr>\n",
       "      <td>21</td>\n",
       "      <td>0.017501</td>\n",
       "      <td>0.024776</td>\n",
       "      <td>0.978901</td>\n",
       "      <td>00:00</td>\n",
       "    </tr>\n",
       "    <tr>\n",
       "      <td>22</td>\n",
       "      <td>0.017215</td>\n",
       "      <td>0.024360</td>\n",
       "      <td>0.979882</td>\n",
       "      <td>00:00</td>\n",
       "    </tr>\n",
       "    <tr>\n",
       "      <td>23</td>\n",
       "      <td>0.016949</td>\n",
       "      <td>0.023975</td>\n",
       "      <td>0.980373</td>\n",
       "      <td>00:01</td>\n",
       "    </tr>\n",
       "    <tr>\n",
       "      <td>24</td>\n",
       "      <td>0.016700</td>\n",
       "      <td>0.023619</td>\n",
       "      <td>0.980373</td>\n",
       "      <td>00:00</td>\n",
       "    </tr>\n",
       "    <tr>\n",
       "      <td>25</td>\n",
       "      <td>0.016466</td>\n",
       "      <td>0.023289</td>\n",
       "      <td>0.980864</td>\n",
       "      <td>00:00</td>\n",
       "    </tr>\n",
       "    <tr>\n",
       "      <td>26</td>\n",
       "      <td>0.016244</td>\n",
       "      <td>0.022983</td>\n",
       "      <td>0.981354</td>\n",
       "      <td>00:01</td>\n",
       "    </tr>\n",
       "    <tr>\n",
       "      <td>27</td>\n",
       "      <td>0.016035</td>\n",
       "      <td>0.022698</td>\n",
       "      <td>0.981354</td>\n",
       "      <td>00:02</td>\n",
       "    </tr>\n",
       "    <tr>\n",
       "      <td>28</td>\n",
       "      <td>0.015837</td>\n",
       "      <td>0.022432</td>\n",
       "      <td>0.981354</td>\n",
       "      <td>00:00</td>\n",
       "    </tr>\n",
       "    <tr>\n",
       "      <td>29</td>\n",
       "      <td>0.015648</td>\n",
       "      <td>0.022185</td>\n",
       "      <td>0.981845</td>\n",
       "      <td>00:00</td>\n",
       "    </tr>\n",
       "    <tr>\n",
       "      <td>30</td>\n",
       "      <td>0.015468</td>\n",
       "      <td>0.021953</td>\n",
       "      <td>0.982336</td>\n",
       "      <td>00:00</td>\n",
       "    </tr>\n",
       "    <tr>\n",
       "      <td>31</td>\n",
       "      <td>0.015297</td>\n",
       "      <td>0.021736</td>\n",
       "      <td>0.982826</td>\n",
       "      <td>00:00</td>\n",
       "    </tr>\n",
       "    <tr>\n",
       "      <td>32</td>\n",
       "      <td>0.015133</td>\n",
       "      <td>0.021533</td>\n",
       "      <td>0.983317</td>\n",
       "      <td>00:01</td>\n",
       "    </tr>\n",
       "    <tr>\n",
       "      <td>33</td>\n",
       "      <td>0.014976</td>\n",
       "      <td>0.021342</td>\n",
       "      <td>0.983317</td>\n",
       "      <td>00:00</td>\n",
       "    </tr>\n",
       "    <tr>\n",
       "      <td>34</td>\n",
       "      <td>0.014826</td>\n",
       "      <td>0.021162</td>\n",
       "      <td>0.983317</td>\n",
       "      <td>00:00</td>\n",
       "    </tr>\n",
       "    <tr>\n",
       "      <td>35</td>\n",
       "      <td>0.014682</td>\n",
       "      <td>0.020993</td>\n",
       "      <td>0.982826</td>\n",
       "      <td>00:00</td>\n",
       "    </tr>\n",
       "    <tr>\n",
       "      <td>36</td>\n",
       "      <td>0.014543</td>\n",
       "      <td>0.020834</td>\n",
       "      <td>0.982826</td>\n",
       "      <td>00:01</td>\n",
       "    </tr>\n",
       "    <tr>\n",
       "      <td>37</td>\n",
       "      <td>0.014410</td>\n",
       "      <td>0.020683</td>\n",
       "      <td>0.982826</td>\n",
       "      <td>00:01</td>\n",
       "    </tr>\n",
       "    <tr>\n",
       "      <td>38</td>\n",
       "      <td>0.014281</td>\n",
       "      <td>0.020541</td>\n",
       "      <td>0.982336</td>\n",
       "      <td>00:01</td>\n",
       "    </tr>\n",
       "    <tr>\n",
       "      <td>39</td>\n",
       "      <td>0.014157</td>\n",
       "      <td>0.020406</td>\n",
       "      <td>0.982336</td>\n",
       "      <td>00:01</td>\n",
       "    </tr>\n",
       "  </tbody>\n",
       "</table>"
      ],
      "text/plain": [
       "<IPython.core.display.HTML object>"
      ]
     },
     "metadata": {},
     "output_type": "display_data"
    },
    {
     "data": {
      "image/png": "[encoded data removed]",
      "text/plain": [
       "<Figure size 432x288 with 1 Axes>"
      ]
     },
     "metadata": {},
     "output_type": "display_data"
    }
   ],
   "source": [
    "learn.fit(40, 0.1)"
   ]
  },
  {
   "cell_type": "markdown",
   "metadata": {},
   "source": [
    "Nouvelle tentative avec un réseau de neurones à 18 niveaux : **retour aux 3 lignes de code de la précédente session**\n",
    "- le précédent modèle avait 23 581 paramètres à ajuster\n",
    "- le nouveau modèle a 17986 paramètres à ajuster (2x moins de capacité de calcul)\n",
    "- mais le nouveau modèle a une architecture beaucoup mieux adaptée au problème\n",
    "- l'étude de cette architecture sera l'objet d'une prochaine session"
   ]
  },
  {
   "cell_type": "code",
   "execution_count": null,
   "metadata": {},
   "outputs": [],
   "source": [
    "dls = ImageDataLoaders.from_folder(path,bs=32)\n",
    "learn = cnn_learner(dls, resnet18, pretrained=False,\n",
    "                    loss_func=F.cross_entropy, metrics=batch_accuracy)\n",
    "learn.fit_one_cycle(1, 0.1)"
   ]
  },
  {
   "cell_type": "markdown",
   "metadata": {},
   "source": [
    "On atteint un taux de succès de classification de **99.7%** en 10 secondes."
   ]
  },
  {
   "cell_type": "code",
   "execution_count": 373,
   "metadata": {},
   "outputs": [
    {
     "data": {
      "text/plain": [
       "17986"
      ]
     },
     "execution_count": 373,
     "metadata": {},
     "output_type": "execute_result"
    }
   ],
   "source": [
    "# nombre de paramètres du modèle\n",
    "np.sum([len(layerparams.data) for layerparams in learn.model.parameters()])"
   ]
  }
 ],
 "metadata": {
  "jupytext": {
   "split_at_heading": true
  },
  "kernelspec": {
   "display_name": "Python 3",
   "language": "python",
   "name": "python3"
  },
  "language_info": {
   "codemirror_mode": {
    "name": "ipython",
    "version": 3
   },
   "file_extension": ".py",
   "mimetype": "text/x-python",
   "name": "python",
   "nbconvert_exporter": "python",
   "pygments_lexer": "ipython3",
   "version": "3.7.6"
  }
 },
 "nbformat": 4,
 "nbformat_minor": 4
}
