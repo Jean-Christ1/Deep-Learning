{
 "cells": [
  {
   "cell_type": "markdown",
   "metadata": {},
   "source": [
    "# Copyright : fast.ai - Jeremy Howard & Sylvain Gugger - 2020 (GPLv3)"
   ]
  },
  {
   "cell_type": "markdown",
   "metadata": {},
   "source": [
    "Cellules de code et plan du notebook adaptées du livre :\n",
    "\n",
    "[Deep Learning for Coders with fastai & PyTorch](https://github.com/fastai/fastbook) de Jeremy Howard et Sylvain Gugger.\n",
    "\n",
    "The code in the original notebooks (and thus the code in this notebook) is covered by the GPL v3 license; see the [LICENSE file](https://github.com/fastai/fastbook/blob/master/LICENSE) for details."
   ]
  },
  {
   "cell_type": "markdown",
   "metadata": {},
   "source": [
    "# Under the hood: entrainer un classifier de chiffres manuscrits"
   ]
  },
  {
   "cell_type": "markdown",
   "metadata": {},
   "source": [
    "## Pixels: comment un ordinateur représente des images"
   ]
  },
  {
   "cell_type": "code",
   "execution_count": 3,
   "metadata": {},
   "outputs": [],
   "source": [
    "from fastai2.vision.all import *\n",
    "\n",
    "# Configuration spécifique pour show_image() sur ce dataset : images en niveaux de gris\n",
    "matplotlib.rc('image', cmap='Greys')"
   ]
  },
  {
   "cell_type": "code",
   "execution_count": 4,
   "metadata": {},
   "outputs": [
    {
     "data": {
      "text/plain": [
       "Path('C:/Users/laure/.fastai/data/mnist_sample')"
      ]
     },
     "execution_count": 4,
     "metadata": {},
     "output_type": "execute_result"
    }
   ],
   "source": [
    "path = untar_data(URLs.MNIST_SAMPLE)\n",
    "path"
   ]
  },
  {
   "cell_type": "code",
   "execution_count": 5,
   "metadata": {},
   "outputs": [
    {
     "data": {
      "text/plain": [
       "(#3) [Path('C:/Users/laure/.fastai/data/mnist_sample/labels.csv'),Path('C:/Users/laure/.fastai/data/mnist_sample/train'),Path('C:/Users/laure/.fastai/data/mnist_sample/valid')]"
      ]
     },
     "execution_count": 5,
     "metadata": {},
     "output_type": "execute_result"
    }
   ],
   "source": [
    "path.ls()"
   ]
  },
  {
   "cell_type": "code",
   "execution_count": 6,
   "metadata": {},
   "outputs": [
    {
     "data": {
      "text/plain": [
       "(#2) [Path('C:/Users/laure/.fastai/data/mnist_sample/train/3'),Path('C:/Users/laure/.fastai/data/mnist_sample/train/7')]"
      ]
     },
     "execution_count": 6,
     "metadata": {},
     "output_type": "execute_result"
    }
   ],
   "source": [
    "(path/'train').ls()"
   ]
  },
  {
   "cell_type": "code",
   "execution_count": 7,
   "metadata": {},
   "outputs": [
    {
     "data": {
      "text/plain": [
       "(#6131) [Path('C:/Users/laure/.fastai/data/mnist_sample/train/3/10.png'),Path('C:/Users/laure/.fastai/data/mnist_sample/train/3/10000.png'),Path('C:/Users/laure/.fastai/data/mnist_sample/train/3/10011.png'),Path('C:/Users/laure/.fastai/data/mnist_sample/train/3/10031.png'),Path('C:/Users/laure/.fastai/data/mnist_sample/train/3/10034.png'),Path('C:/Users/laure/.fastai/data/mnist_sample/train/3/10042.png'),Path('C:/Users/laure/.fastai/data/mnist_sample/train/3/10052.png'),Path('C:/Users/laure/.fastai/data/mnist_sample/train/3/1007.png'),Path('C:/Users/laure/.fastai/data/mnist_sample/train/3/10074.png'),Path('C:/Users/laure/.fastai/data/mnist_sample/train/3/10091.png')...]"
      ]
     },
     "execution_count": 7,
     "metadata": {},
     "output_type": "execute_result"
    }
   ],
   "source": [
    "threes = (path/'train'/'3').ls().sorted()\n",
    "sevens = (path/'train'/'7').ls().sorted()\n",
    "threes"
   ]
  },
  {
   "cell_type": "code",
   "execution_count": 8,
   "metadata": {},
   "outputs": [
    {
     "data": {
      "image/png": "[encoded data removed]",
      "text/plain": [
       "<PIL.PngImagePlugin.PngImageFile image mode=L size=28x28 at 0x1138D72E388>"
      ]
     },
     "execution_count": 8,
     "metadata": {},
     "output_type": "execute_result"
    }
   ],
   "source": [
    "im3_path = threes[1]\n",
    "im3 = Image.open(im3_path)\n",
    "im3"
   ]
  },
  {
   "cell_type": "code",
   "execution_count": 9,
   "metadata": {},
   "outputs": [
    {
     "data": {
      "text/plain": [
       "array([[  0,   0,   0,   0,   0,   0],\n",
       "       [  0,   0,   0,   0,   0,  29],\n",
       "       [  0,   0,   0,  48, 166, 224],\n",
       "       [  0,  93, 244, 249, 253, 187],\n",
       "       [  0, 107, 253, 253, 230,  48],\n",
       "       [  0,   3,  20,  20,  15,   0]], dtype=uint8)"
      ]
     },
     "execution_count": 9,
     "metadata": {},
     "output_type": "execute_result"
    }
   ],
   "source": [
    "array(im3)[4:10,4:10]"
   ]
  },
  {
   "cell_type": "code",
   "execution_count": 10,
   "metadata": {},
   "outputs": [
    {
     "data": {
      "text/plain": [
       "tensor([[  0,   0,   0,   0,   0,   0],\n",
       "        [  0,   0,   0,   0,   0,  29],\n",
       "        [  0,   0,   0,  48, 166, 224],\n",
       "        [  0,  93, 244, 249, 253, 187],\n",
       "        [  0, 107, 253, 253, 230,  48],\n",
       "        [  0,   3,  20,  20,  15,   0]], dtype=torch.uint8)"
      ]
     },
     "execution_count": 10,
     "metadata": {},
     "output_type": "execute_result"
    }
   ],
   "source": [
    "im3_t = tensor(im3)\n",
    "im3_t[4:10,4:10]"
   ]
  },
  {
   "cell_type": "code",
   "execution_count": 11,
   "metadata": {},
   "outputs": [
    {
     "data": {
      "text/html": [
       "<style  type=\"text/css\" >\n",
       "    #T_9f8769dc_8141_11ea_a86d_f834410091c7row0_col0 {\n",
       "            font-size:  6pt;\n",
       "            background-color:  #ffffff;\n",
       "            color:  #000000;\n",
       "        }    #T_9f8769dc_8141_11ea_a86d_f834410091c7row0_col1 {\n",
       "            font-size:  6pt;\n",
       "            background-color:  #ffffff;\n",
       "            color:  #000000;\n",
       "        }    #T_9f8769dc_8141_11ea_a86d_f834410091c7row0_col2 {\n",
       "            font-size:  6pt;\n",
       "            background-color:  #ffffff;\n",
       "            color:  #000000;\n",
       "        }    #T_9f8769dc_8141_11ea_a86d_f834410091c7row0_col3 {\n",
       "            font-size:  6pt;\n",
       "            background-color:  #ffffff;\n",
       "            color:  #000000;\n",
       "        }    #T_9f8769dc_8141_11ea_a86d_f834410091c7row0_col4 {\n",
       "            font-size:  6pt;\n",
       "            background-color:  #ffffff;\n",
       "            color:  #000000;\n",
       "        }    #T_9f8769dc_8141_11ea_a86d_f834410091c7row0_col5 {\n",
       "            font-size:  6pt;\n",
       "            background-color:  #ffffff;\n",
       "            color:  #000000;\n",
       "        }    #T_9f8769dc_8141_11ea_a86d_f834410091c7row0_col6 {\n",
       "            font-size:  6pt;\n",
       "            background-color:  #ffffff;\n",
       "            color:  #000000;\n",
       "        }    #T_9f8769dc_8141_11ea_a86d_f834410091c7row0_col7 {\n",
       "            font-size:  6pt;\n",
       "            background-color:  #ffffff;\n",
       "            color:  #000000;\n",
       "        }    #T_9f8769dc_8141_11ea_a86d_f834410091c7row0_col8 {\n",
       "            font-size:  6pt;\n",
       "            background-color:  #ffffff;\n",
       "            color:  #000000;\n",
       "        }    #T_9f8769dc_8141_11ea_a86d_f834410091c7row0_col9 {\n",
       "            font-size:  6pt;\n",
       "            background-color:  #ffffff;\n",
       "            color:  #000000;\n",
       "        }    #T_9f8769dc_8141_11ea_a86d_f834410091c7row0_col10 {\n",
       "            font-size:  6pt;\n",
       "            background-color:  #ffffff;\n",
       "            color:  #000000;\n",
       "        }    #T_9f8769dc_8141_11ea_a86d_f834410091c7row0_col11 {\n",
       "            font-size:  6pt;\n",
       "            background-color:  #ffffff;\n",
       "            color:  #000000;\n",
       "        }    #T_9f8769dc_8141_11ea_a86d_f834410091c7row0_col12 {\n",
       "            font-size:  6pt;\n",
       "            background-color:  #ffffff;\n",
       "            color:  #000000;\n",
       "        }    #T_9f8769dc_8141_11ea_a86d_f834410091c7row0_col13 {\n",
       "            font-size:  6pt;\n",
       "            background-color:  #ffffff;\n",
       "            color:  #000000;\n",
       "        }    #T_9f8769dc_8141_11ea_a86d_f834410091c7row0_col14 {\n",
       "            font-size:  6pt;\n",
       "            background-color:  #ffffff;\n",
       "            color:  #000000;\n",
       "        }    #T_9f8769dc_8141_11ea_a86d_f834410091c7row0_col15 {\n",
       "            font-size:  6pt;\n",
       "            background-color:  #ffffff;\n",
       "            color:  #000000;\n",
       "        }    #T_9f8769dc_8141_11ea_a86d_f834410091c7row0_col16 {\n",
       "            font-size:  6pt;\n",
       "            background-color:  #ffffff;\n",
       "            color:  #000000;\n",
       "        }    #T_9f8769dc_8141_11ea_a86d_f834410091c7row0_col17 {\n",
       "            font-size:  6pt;\n",
       "            background-color:  #ffffff;\n",
       "            color:  #000000;\n",
       "        }    #T_9f8769dc_8141_11ea_a86d_f834410091c7row1_col0 {\n",
       "            font-size:  6pt;\n",
       "            background-color:  #ffffff;\n",
       "            color:  #000000;\n",
       "        }    #T_9f8769dc_8141_11ea_a86d_f834410091c7row1_col1 {\n",
       "            font-size:  6pt;\n",
       "            background-color:  #ffffff;\n",
       "            color:  #000000;\n",
       "        }    #T_9f8769dc_8141_11ea_a86d_f834410091c7row1_col2 {\n",
       "            font-size:  6pt;\n",
       "            background-color:  #ffffff;\n",
       "            color:  #000000;\n",
       "        }    #T_9f8769dc_8141_11ea_a86d_f834410091c7row1_col3 {\n",
       "            font-size:  6pt;\n",
       "            background-color:  #ffffff;\n",
       "            color:  #000000;\n",
       "        }    #T_9f8769dc_8141_11ea_a86d_f834410091c7row1_col4 {\n",
       "            font-size:  6pt;\n",
       "            background-color:  #ffffff;\n",
       "            color:  #000000;\n",
       "        }    #T_9f8769dc_8141_11ea_a86d_f834410091c7row1_col5 {\n",
       "            font-size:  6pt;\n",
       "            background-color:  #efefef;\n",
       "            color:  #000000;\n",
       "        }    #T_9f8769dc_8141_11ea_a86d_f834410091c7row1_col6 {\n",
       "            font-size:  6pt;\n",
       "            background-color:  #7c7c7c;\n",
       "            color:  #000000;\n",
       "        }    #T_9f8769dc_8141_11ea_a86d_f834410091c7row1_col7 {\n",
       "            font-size:  6pt;\n",
       "            background-color:  #4a4a4a;\n",
       "            color:  #f1f1f1;\n",
       "        }    #T_9f8769dc_8141_11ea_a86d_f834410091c7row1_col8 {\n",
       "            font-size:  6pt;\n",
       "            background-color:  #000000;\n",
       "            color:  #f1f1f1;\n",
       "        }    #T_9f8769dc_8141_11ea_a86d_f834410091c7row1_col9 {\n",
       "            font-size:  6pt;\n",
       "            background-color:  #000000;\n",
       "            color:  #f1f1f1;\n",
       "        }    #T_9f8769dc_8141_11ea_a86d_f834410091c7row1_col10 {\n",
       "            font-size:  6pt;\n",
       "            background-color:  #000000;\n",
       "            color:  #f1f1f1;\n",
       "        }    #T_9f8769dc_8141_11ea_a86d_f834410091c7row1_col11 {\n",
       "            font-size:  6pt;\n",
       "            background-color:  #606060;\n",
       "            color:  #f1f1f1;\n",
       "        }    #T_9f8769dc_8141_11ea_a86d_f834410091c7row1_col12 {\n",
       "            font-size:  6pt;\n",
       "            background-color:  #4d4d4d;\n",
       "            color:  #f1f1f1;\n",
       "        }    #T_9f8769dc_8141_11ea_a86d_f834410091c7row1_col13 {\n",
       "            font-size:  6pt;\n",
       "            background-color:  #7c7c7c;\n",
       "            color:  #000000;\n",
       "        }    #T_9f8769dc_8141_11ea_a86d_f834410091c7row1_col14 {\n",
       "            font-size:  6pt;\n",
       "            background-color:  #bbbbbb;\n",
       "            color:  #000000;\n",
       "        }    #T_9f8769dc_8141_11ea_a86d_f834410091c7row1_col15 {\n",
       "            font-size:  6pt;\n",
       "            background-color:  #ffffff;\n",
       "            color:  #000000;\n",
       "        }    #T_9f8769dc_8141_11ea_a86d_f834410091c7row1_col16 {\n",
       "            font-size:  6pt;\n",
       "            background-color:  #ffffff;\n",
       "            color:  #000000;\n",
       "        }    #T_9f8769dc_8141_11ea_a86d_f834410091c7row1_col17 {\n",
       "            font-size:  6pt;\n",
       "            background-color:  #ffffff;\n",
       "            color:  #000000;\n",
       "        }    #T_9f8769dc_8141_11ea_a86d_f834410091c7row2_col0 {\n",
       "            font-size:  6pt;\n",
       "            background-color:  #ffffff;\n",
       "            color:  #000000;\n",
       "        }    #T_9f8769dc_8141_11ea_a86d_f834410091c7row2_col1 {\n",
       "            font-size:  6pt;\n",
       "            background-color:  #ffffff;\n",
       "            color:  #000000;\n",
       "        }    #T_9f8769dc_8141_11ea_a86d_f834410091c7row2_col2 {\n",
       "            font-size:  6pt;\n",
       "            background-color:  #ffffff;\n",
       "            color:  #000000;\n",
       "        }    #T_9f8769dc_8141_11ea_a86d_f834410091c7row2_col3 {\n",
       "            font-size:  6pt;\n",
       "            background-color:  #e4e4e4;\n",
       "            color:  #000000;\n",
       "        }    #T_9f8769dc_8141_11ea_a86d_f834410091c7row2_col4 {\n",
       "            font-size:  6pt;\n",
       "            background-color:  #6b6b6b;\n",
       "            color:  #000000;\n",
       "        }    #T_9f8769dc_8141_11ea_a86d_f834410091c7row2_col5 {\n",
       "            font-size:  6pt;\n",
       "            background-color:  #000000;\n",
       "            color:  #f1f1f1;\n",
       "        }    #T_9f8769dc_8141_11ea_a86d_f834410091c7row2_col6 {\n",
       "            font-size:  6pt;\n",
       "            background-color:  #000000;\n",
       "            color:  #f1f1f1;\n",
       "        }    #T_9f8769dc_8141_11ea_a86d_f834410091c7row2_col7 {\n",
       "            font-size:  6pt;\n",
       "            background-color:  #000000;\n",
       "            color:  #f1f1f1;\n",
       "        }    #T_9f8769dc_8141_11ea_a86d_f834410091c7row2_col8 {\n",
       "            font-size:  6pt;\n",
       "            background-color:  #171717;\n",
       "            color:  #f1f1f1;\n",
       "        }    #T_9f8769dc_8141_11ea_a86d_f834410091c7row2_col9 {\n",
       "            font-size:  6pt;\n",
       "            background-color:  #4b4b4b;\n",
       "            color:  #f1f1f1;\n",
       "        }    #T_9f8769dc_8141_11ea_a86d_f834410091c7row2_col10 {\n",
       "            font-size:  6pt;\n",
       "            background-color:  #010101;\n",
       "            color:  #f1f1f1;\n",
       "        }    #T_9f8769dc_8141_11ea_a86d_f834410091c7row2_col11 {\n",
       "            font-size:  6pt;\n",
       "            background-color:  #000000;\n",
       "            color:  #f1f1f1;\n",
       "        }    #T_9f8769dc_8141_11ea_a86d_f834410091c7row2_col12 {\n",
       "            font-size:  6pt;\n",
       "            background-color:  #000000;\n",
       "            color:  #f1f1f1;\n",
       "        }    #T_9f8769dc_8141_11ea_a86d_f834410091c7row2_col13 {\n",
       "            font-size:  6pt;\n",
       "            background-color:  #000000;\n",
       "            color:  #f1f1f1;\n",
       "        }    #T_9f8769dc_8141_11ea_a86d_f834410091c7row2_col14 {\n",
       "            font-size:  6pt;\n",
       "            background-color:  #171717;\n",
       "            color:  #f1f1f1;\n",
       "        }    #T_9f8769dc_8141_11ea_a86d_f834410091c7row2_col15 {\n",
       "            font-size:  6pt;\n",
       "            background-color:  #ffffff;\n",
       "            color:  #000000;\n",
       "        }    #T_9f8769dc_8141_11ea_a86d_f834410091c7row2_col16 {\n",
       "            font-size:  6pt;\n",
       "            background-color:  #ffffff;\n",
       "            color:  #000000;\n",
       "        }    #T_9f8769dc_8141_11ea_a86d_f834410091c7row2_col17 {\n",
       "            font-size:  6pt;\n",
       "            background-color:  #ffffff;\n",
       "            color:  #000000;\n",
       "        }    #T_9f8769dc_8141_11ea_a86d_f834410091c7row3_col0 {\n",
       "            font-size:  6pt;\n",
       "            background-color:  #ffffff;\n",
       "            color:  #000000;\n",
       "        }    #T_9f8769dc_8141_11ea_a86d_f834410091c7row3_col1 {\n",
       "            font-size:  6pt;\n",
       "            background-color:  #272727;\n",
       "            color:  #f1f1f1;\n",
       "        }    #T_9f8769dc_8141_11ea_a86d_f834410091c7row3_col2 {\n",
       "            font-size:  6pt;\n",
       "            background-color:  #0a0a0a;\n",
       "            color:  #f1f1f1;\n",
       "        }    #T_9f8769dc_8141_11ea_a86d_f834410091c7row3_col3 {\n",
       "            font-size:  6pt;\n",
       "            background-color:  #050505;\n",
       "            color:  #f1f1f1;\n",
       "        }    #T_9f8769dc_8141_11ea_a86d_f834410091c7row3_col4 {\n",
       "            font-size:  6pt;\n",
       "            background-color:  #000000;\n",
       "            color:  #f1f1f1;\n",
       "        }    #T_9f8769dc_8141_11ea_a86d_f834410091c7row3_col5 {\n",
       "            font-size:  6pt;\n",
       "            background-color:  #333333;\n",
       "            color:  #f1f1f1;\n",
       "        }    #T_9f8769dc_8141_11ea_a86d_f834410091c7row3_col6 {\n",
       "            font-size:  6pt;\n",
       "            background-color:  #e6e6e6;\n",
       "            color:  #000000;\n",
       "        }    #T_9f8769dc_8141_11ea_a86d_f834410091c7row3_col7 {\n",
       "            font-size:  6pt;\n",
       "            background-color:  #fafafa;\n",
       "            color:  #000000;\n",
       "        }    #T_9f8769dc_8141_11ea_a86d_f834410091c7row3_col8 {\n",
       "            font-size:  6pt;\n",
       "            background-color:  #fbfbfb;\n",
       "            color:  #000000;\n",
       "        }    #T_9f8769dc_8141_11ea_a86d_f834410091c7row3_col9 {\n",
       "            font-size:  6pt;\n",
       "            background-color:  #fdfdfd;\n",
       "            color:  #000000;\n",
       "        }    #T_9f8769dc_8141_11ea_a86d_f834410091c7row3_col10 {\n",
       "            font-size:  6pt;\n",
       "            background-color:  #fafafa;\n",
       "            color:  #000000;\n",
       "        }    #T_9f8769dc_8141_11ea_a86d_f834410091c7row3_col11 {\n",
       "            font-size:  6pt;\n",
       "            background-color:  #4b4b4b;\n",
       "            color:  #f1f1f1;\n",
       "        }    #T_9f8769dc_8141_11ea_a86d_f834410091c7row3_col12 {\n",
       "            font-size:  6pt;\n",
       "            background-color:  #000000;\n",
       "            color:  #f1f1f1;\n",
       "        }    #T_9f8769dc_8141_11ea_a86d_f834410091c7row3_col13 {\n",
       "            font-size:  6pt;\n",
       "            background-color:  #000000;\n",
       "            color:  #f1f1f1;\n",
       "        }    #T_9f8769dc_8141_11ea_a86d_f834410091c7row3_col14 {\n",
       "            font-size:  6pt;\n",
       "            background-color:  #171717;\n",
       "            color:  #f1f1f1;\n",
       "        }    #T_9f8769dc_8141_11ea_a86d_f834410091c7row3_col15 {\n",
       "            font-size:  6pt;\n",
       "            background-color:  #ffffff;\n",
       "            color:  #000000;\n",
       "        }    #T_9f8769dc_8141_11ea_a86d_f834410091c7row3_col16 {\n",
       "            font-size:  6pt;\n",
       "            background-color:  #ffffff;\n",
       "            color:  #000000;\n",
       "        }    #T_9f8769dc_8141_11ea_a86d_f834410091c7row3_col17 {\n",
       "            font-size:  6pt;\n",
       "            background-color:  #ffffff;\n",
       "            color:  #000000;\n",
       "        }    #T_9f8769dc_8141_11ea_a86d_f834410091c7row4_col0 {\n",
       "            font-size:  6pt;\n",
       "            background-color:  #ffffff;\n",
       "            color:  #000000;\n",
       "        }    #T_9f8769dc_8141_11ea_a86d_f834410091c7row4_col1 {\n",
       "            font-size:  6pt;\n",
       "            background-color:  #000000;\n",
       "            color:  #f1f1f1;\n",
       "        }    #T_9f8769dc_8141_11ea_a86d_f834410091c7row4_col2 {\n",
       "            font-size:  6pt;\n",
       "            background-color:  #000000;\n",
       "            color:  #f1f1f1;\n",
       "        }    #T_9f8769dc_8141_11ea_a86d_f834410091c7row4_col3 {\n",
       "            font-size:  6pt;\n",
       "            background-color:  #000000;\n",
       "            color:  #f1f1f1;\n",
       "        }    #T_9f8769dc_8141_11ea_a86d_f834410091c7row4_col4 {\n",
       "            font-size:  6pt;\n",
       "            background-color:  #1b1b1b;\n",
       "            color:  #f1f1f1;\n",
       "        }    #T_9f8769dc_8141_11ea_a86d_f834410091c7row4_col5 {\n",
       "            font-size:  6pt;\n",
       "            background-color:  #e0e0e0;\n",
       "            color:  #000000;\n",
       "        }    #T_9f8769dc_8141_11ea_a86d_f834410091c7row4_col6 {\n",
       "            font-size:  6pt;\n",
       "            background-color:  #ffffff;\n",
       "            color:  #000000;\n",
       "        }    #T_9f8769dc_8141_11ea_a86d_f834410091c7row4_col7 {\n",
       "            font-size:  6pt;\n",
       "            background-color:  #ffffff;\n",
       "            color:  #000000;\n",
       "        }    #T_9f8769dc_8141_11ea_a86d_f834410091c7row4_col8 {\n",
       "            font-size:  6pt;\n",
       "            background-color:  #ffffff;\n",
       "            color:  #000000;\n",
       "        }    #T_9f8769dc_8141_11ea_a86d_f834410091c7row4_col9 {\n",
       "            font-size:  6pt;\n",
       "            background-color:  #ffffff;\n",
       "            color:  #000000;\n",
       "        }    #T_9f8769dc_8141_11ea_a86d_f834410091c7row4_col10 {\n",
       "            font-size:  6pt;\n",
       "            background-color:  #ffffff;\n",
       "            color:  #000000;\n",
       "        }    #T_9f8769dc_8141_11ea_a86d_f834410091c7row4_col11 {\n",
       "            font-size:  6pt;\n",
       "            background-color:  #4e4e4e;\n",
       "            color:  #f1f1f1;\n",
       "        }    #T_9f8769dc_8141_11ea_a86d_f834410091c7row4_col12 {\n",
       "            font-size:  6pt;\n",
       "            background-color:  #000000;\n",
       "            color:  #f1f1f1;\n",
       "        }    #T_9f8769dc_8141_11ea_a86d_f834410091c7row4_col13 {\n",
       "            font-size:  6pt;\n",
       "            background-color:  #000000;\n",
       "            color:  #f1f1f1;\n",
       "        }    #T_9f8769dc_8141_11ea_a86d_f834410091c7row4_col14 {\n",
       "            font-size:  6pt;\n",
       "            background-color:  #767676;\n",
       "            color:  #000000;\n",
       "        }    #T_9f8769dc_8141_11ea_a86d_f834410091c7row4_col15 {\n",
       "            font-size:  6pt;\n",
       "            background-color:  #ffffff;\n",
       "            color:  #000000;\n",
       "        }    #T_9f8769dc_8141_11ea_a86d_f834410091c7row4_col16 {\n",
       "            font-size:  6pt;\n",
       "            background-color:  #ffffff;\n",
       "            color:  #000000;\n",
       "        }    #T_9f8769dc_8141_11ea_a86d_f834410091c7row4_col17 {\n",
       "            font-size:  6pt;\n",
       "            background-color:  #ffffff;\n",
       "            color:  #000000;\n",
       "        }    #T_9f8769dc_8141_11ea_a86d_f834410091c7row5_col0 {\n",
       "            font-size:  6pt;\n",
       "            background-color:  #ffffff;\n",
       "            color:  #000000;\n",
       "        }    #T_9f8769dc_8141_11ea_a86d_f834410091c7row5_col1 {\n",
       "            font-size:  6pt;\n",
       "            background-color:  #fcfcfc;\n",
       "            color:  #000000;\n",
       "        }    #T_9f8769dc_8141_11ea_a86d_f834410091c7row5_col2 {\n",
       "            font-size:  6pt;\n",
       "            background-color:  #f6f6f6;\n",
       "            color:  #000000;\n",
       "        }    #T_9f8769dc_8141_11ea_a86d_f834410091c7row5_col3 {\n",
       "            font-size:  6pt;\n",
       "            background-color:  #f6f6f6;\n",
       "            color:  #000000;\n",
       "        }    #T_9f8769dc_8141_11ea_a86d_f834410091c7row5_col4 {\n",
       "            font-size:  6pt;\n",
       "            background-color:  #f8f8f8;\n",
       "            color:  #000000;\n",
       "        }    #T_9f8769dc_8141_11ea_a86d_f834410091c7row5_col5 {\n",
       "            font-size:  6pt;\n",
       "            background-color:  #ffffff;\n",
       "            color:  #000000;\n",
       "        }    #T_9f8769dc_8141_11ea_a86d_f834410091c7row5_col6 {\n",
       "            font-size:  6pt;\n",
       "            background-color:  #ffffff;\n",
       "            color:  #000000;\n",
       "        }    #T_9f8769dc_8141_11ea_a86d_f834410091c7row5_col7 {\n",
       "            font-size:  6pt;\n",
       "            background-color:  #ffffff;\n",
       "            color:  #000000;\n",
       "        }    #T_9f8769dc_8141_11ea_a86d_f834410091c7row5_col8 {\n",
       "            font-size:  6pt;\n",
       "            background-color:  #ffffff;\n",
       "            color:  #000000;\n",
       "        }    #T_9f8769dc_8141_11ea_a86d_f834410091c7row5_col9 {\n",
       "            font-size:  6pt;\n",
       "            background-color:  #ffffff;\n",
       "            color:  #000000;\n",
       "        }    #T_9f8769dc_8141_11ea_a86d_f834410091c7row5_col10 {\n",
       "            font-size:  6pt;\n",
       "            background-color:  #e8e8e8;\n",
       "            color:  #000000;\n",
       "        }    #T_9f8769dc_8141_11ea_a86d_f834410091c7row5_col11 {\n",
       "            font-size:  6pt;\n",
       "            background-color:  #222222;\n",
       "            color:  #f1f1f1;\n",
       "        }    #T_9f8769dc_8141_11ea_a86d_f834410091c7row5_col12 {\n",
       "            font-size:  6pt;\n",
       "            background-color:  #000000;\n",
       "            color:  #f1f1f1;\n",
       "        }    #T_9f8769dc_8141_11ea_a86d_f834410091c7row5_col13 {\n",
       "            font-size:  6pt;\n",
       "            background-color:  #090909;\n",
       "            color:  #f1f1f1;\n",
       "        }    #T_9f8769dc_8141_11ea_a86d_f834410091c7row5_col14 {\n",
       "            font-size:  6pt;\n",
       "            background-color:  #d0d0d0;\n",
       "            color:  #000000;\n",
       "        }    #T_9f8769dc_8141_11ea_a86d_f834410091c7row5_col15 {\n",
       "            font-size:  6pt;\n",
       "            background-color:  #ffffff;\n",
       "            color:  #000000;\n",
       "        }    #T_9f8769dc_8141_11ea_a86d_f834410091c7row5_col16 {\n",
       "            font-size:  6pt;\n",
       "            background-color:  #ffffff;\n",
       "            color:  #000000;\n",
       "        }    #T_9f8769dc_8141_11ea_a86d_f834410091c7row5_col17 {\n",
       "            font-size:  6pt;\n",
       "            background-color:  #ffffff;\n",
       "            color:  #000000;\n",
       "        }    #T_9f8769dc_8141_11ea_a86d_f834410091c7row6_col0 {\n",
       "            font-size:  6pt;\n",
       "            background-color:  #ffffff;\n",
       "            color:  #000000;\n",
       "        }    #T_9f8769dc_8141_11ea_a86d_f834410091c7row6_col1 {\n",
       "            font-size:  6pt;\n",
       "            background-color:  #ffffff;\n",
       "            color:  #000000;\n",
       "        }    #T_9f8769dc_8141_11ea_a86d_f834410091c7row6_col2 {\n",
       "            font-size:  6pt;\n",
       "            background-color:  #ffffff;\n",
       "            color:  #000000;\n",
       "        }    #T_9f8769dc_8141_11ea_a86d_f834410091c7row6_col3 {\n",
       "            font-size:  6pt;\n",
       "            background-color:  #ffffff;\n",
       "            color:  #000000;\n",
       "        }    #T_9f8769dc_8141_11ea_a86d_f834410091c7row6_col4 {\n",
       "            font-size:  6pt;\n",
       "            background-color:  #ffffff;\n",
       "            color:  #000000;\n",
       "        }    #T_9f8769dc_8141_11ea_a86d_f834410091c7row6_col5 {\n",
       "            font-size:  6pt;\n",
       "            background-color:  #ffffff;\n",
       "            color:  #000000;\n",
       "        }    #T_9f8769dc_8141_11ea_a86d_f834410091c7row6_col6 {\n",
       "            font-size:  6pt;\n",
       "            background-color:  #ffffff;\n",
       "            color:  #000000;\n",
       "        }    #T_9f8769dc_8141_11ea_a86d_f834410091c7row6_col7 {\n",
       "            font-size:  6pt;\n",
       "            background-color:  #ffffff;\n",
       "            color:  #000000;\n",
       "        }    #T_9f8769dc_8141_11ea_a86d_f834410091c7row6_col8 {\n",
       "            font-size:  6pt;\n",
       "            background-color:  #ffffff;\n",
       "            color:  #000000;\n",
       "        }    #T_9f8769dc_8141_11ea_a86d_f834410091c7row6_col9 {\n",
       "            font-size:  6pt;\n",
       "            background-color:  #ffffff;\n",
       "            color:  #000000;\n",
       "        }    #T_9f8769dc_8141_11ea_a86d_f834410091c7row6_col10 {\n",
       "            font-size:  6pt;\n",
       "            background-color:  #060606;\n",
       "            color:  #f1f1f1;\n",
       "        }    #T_9f8769dc_8141_11ea_a86d_f834410091c7row6_col11 {\n",
       "            font-size:  6pt;\n",
       "            background-color:  #000000;\n",
       "            color:  #f1f1f1;\n",
       "        }    #T_9f8769dc_8141_11ea_a86d_f834410091c7row6_col12 {\n",
       "            font-size:  6pt;\n",
       "            background-color:  #090909;\n",
       "            color:  #f1f1f1;\n",
       "        }    #T_9f8769dc_8141_11ea_a86d_f834410091c7row6_col13 {\n",
       "            font-size:  6pt;\n",
       "            background-color:  #979797;\n",
       "            color:  #000000;\n",
       "        }    #T_9f8769dc_8141_11ea_a86d_f834410091c7row6_col14 {\n",
       "            font-size:  6pt;\n",
       "            background-color:  #ffffff;\n",
       "            color:  #000000;\n",
       "        }    #T_9f8769dc_8141_11ea_a86d_f834410091c7row6_col15 {\n",
       "            font-size:  6pt;\n",
       "            background-color:  #ffffff;\n",
       "            color:  #000000;\n",
       "        }    #T_9f8769dc_8141_11ea_a86d_f834410091c7row6_col16 {\n",
       "            font-size:  6pt;\n",
       "            background-color:  #ffffff;\n",
       "            color:  #000000;\n",
       "        }    #T_9f8769dc_8141_11ea_a86d_f834410091c7row6_col17 {\n",
       "            font-size:  6pt;\n",
       "            background-color:  #ffffff;\n",
       "            color:  #000000;\n",
       "        }    #T_9f8769dc_8141_11ea_a86d_f834410091c7row7_col0 {\n",
       "            font-size:  6pt;\n",
       "            background-color:  #ffffff;\n",
       "            color:  #000000;\n",
       "        }    #T_9f8769dc_8141_11ea_a86d_f834410091c7row7_col1 {\n",
       "            font-size:  6pt;\n",
       "            background-color:  #ffffff;\n",
       "            color:  #000000;\n",
       "        }    #T_9f8769dc_8141_11ea_a86d_f834410091c7row7_col2 {\n",
       "            font-size:  6pt;\n",
       "            background-color:  #ffffff;\n",
       "            color:  #000000;\n",
       "        }    #T_9f8769dc_8141_11ea_a86d_f834410091c7row7_col3 {\n",
       "            font-size:  6pt;\n",
       "            background-color:  #ffffff;\n",
       "            color:  #000000;\n",
       "        }    #T_9f8769dc_8141_11ea_a86d_f834410091c7row7_col4 {\n",
       "            font-size:  6pt;\n",
       "            background-color:  #ffffff;\n",
       "            color:  #000000;\n",
       "        }    #T_9f8769dc_8141_11ea_a86d_f834410091c7row7_col5 {\n",
       "            font-size:  6pt;\n",
       "            background-color:  #ffffff;\n",
       "            color:  #000000;\n",
       "        }    #T_9f8769dc_8141_11ea_a86d_f834410091c7row7_col6 {\n",
       "            font-size:  6pt;\n",
       "            background-color:  #ffffff;\n",
       "            color:  #000000;\n",
       "        }    #T_9f8769dc_8141_11ea_a86d_f834410091c7row7_col7 {\n",
       "            font-size:  6pt;\n",
       "            background-color:  #f8f8f8;\n",
       "            color:  #000000;\n",
       "        }    #T_9f8769dc_8141_11ea_a86d_f834410091c7row7_col8 {\n",
       "            font-size:  6pt;\n",
       "            background-color:  #b6b6b6;\n",
       "            color:  #000000;\n",
       "        }    #T_9f8769dc_8141_11ea_a86d_f834410091c7row7_col9 {\n",
       "            font-size:  6pt;\n",
       "            background-color:  #252525;\n",
       "            color:  #f1f1f1;\n",
       "        }    #T_9f8769dc_8141_11ea_a86d_f834410091c7row7_col10 {\n",
       "            font-size:  6pt;\n",
       "            background-color:  #010101;\n",
       "            color:  #f1f1f1;\n",
       "        }    #T_9f8769dc_8141_11ea_a86d_f834410091c7row7_col11 {\n",
       "            font-size:  6pt;\n",
       "            background-color:  #060606;\n",
       "            color:  #f1f1f1;\n",
       "        }    #T_9f8769dc_8141_11ea_a86d_f834410091c7row7_col12 {\n",
       "            font-size:  6pt;\n",
       "            background-color:  #999999;\n",
       "            color:  #000000;\n",
       "        }    #T_9f8769dc_8141_11ea_a86d_f834410091c7row7_col13 {\n",
       "            font-size:  6pt;\n",
       "            background-color:  #ffffff;\n",
       "            color:  #000000;\n",
       "        }    #T_9f8769dc_8141_11ea_a86d_f834410091c7row7_col14 {\n",
       "            font-size:  6pt;\n",
       "            background-color:  #ffffff;\n",
       "            color:  #000000;\n",
       "        }    #T_9f8769dc_8141_11ea_a86d_f834410091c7row7_col15 {\n",
       "            font-size:  6pt;\n",
       "            background-color:  #ffffff;\n",
       "            color:  #000000;\n",
       "        }    #T_9f8769dc_8141_11ea_a86d_f834410091c7row7_col16 {\n",
       "            font-size:  6pt;\n",
       "            background-color:  #ffffff;\n",
       "            color:  #000000;\n",
       "        }    #T_9f8769dc_8141_11ea_a86d_f834410091c7row7_col17 {\n",
       "            font-size:  6pt;\n",
       "            background-color:  #ffffff;\n",
       "            color:  #000000;\n",
       "        }    #T_9f8769dc_8141_11ea_a86d_f834410091c7row8_col0 {\n",
       "            font-size:  6pt;\n",
       "            background-color:  #ffffff;\n",
       "            color:  #000000;\n",
       "        }    #T_9f8769dc_8141_11ea_a86d_f834410091c7row8_col1 {\n",
       "            font-size:  6pt;\n",
       "            background-color:  #ffffff;\n",
       "            color:  #000000;\n",
       "        }    #T_9f8769dc_8141_11ea_a86d_f834410091c7row8_col2 {\n",
       "            font-size:  6pt;\n",
       "            background-color:  #ffffff;\n",
       "            color:  #000000;\n",
       "        }    #T_9f8769dc_8141_11ea_a86d_f834410091c7row8_col3 {\n",
       "            font-size:  6pt;\n",
       "            background-color:  #ffffff;\n",
       "            color:  #000000;\n",
       "        }    #T_9f8769dc_8141_11ea_a86d_f834410091c7row8_col4 {\n",
       "            font-size:  6pt;\n",
       "            background-color:  #ffffff;\n",
       "            color:  #000000;\n",
       "        }    #T_9f8769dc_8141_11ea_a86d_f834410091c7row8_col5 {\n",
       "            font-size:  6pt;\n",
       "            background-color:  #f9f9f9;\n",
       "            color:  #000000;\n",
       "        }    #T_9f8769dc_8141_11ea_a86d_f834410091c7row8_col6 {\n",
       "            font-size:  6pt;\n",
       "            background-color:  #6b6b6b;\n",
       "            color:  #000000;\n",
       "        }    #T_9f8769dc_8141_11ea_a86d_f834410091c7row8_col7 {\n",
       "            font-size:  6pt;\n",
       "            background-color:  #101010;\n",
       "            color:  #f1f1f1;\n",
       "        }    #T_9f8769dc_8141_11ea_a86d_f834410091c7row8_col8 {\n",
       "            font-size:  6pt;\n",
       "            background-color:  #010101;\n",
       "            color:  #f1f1f1;\n",
       "        }    #T_9f8769dc_8141_11ea_a86d_f834410091c7row8_col9 {\n",
       "            font-size:  6pt;\n",
       "            background-color:  #020202;\n",
       "            color:  #f1f1f1;\n",
       "        }    #T_9f8769dc_8141_11ea_a86d_f834410091c7row8_col10 {\n",
       "            font-size:  6pt;\n",
       "            background-color:  #010101;\n",
       "            color:  #f1f1f1;\n",
       "        }    #T_9f8769dc_8141_11ea_a86d_f834410091c7row8_col11 {\n",
       "            font-size:  6pt;\n",
       "            background-color:  #545454;\n",
       "            color:  #f1f1f1;\n",
       "        }    #T_9f8769dc_8141_11ea_a86d_f834410091c7row8_col12 {\n",
       "            font-size:  6pt;\n",
       "            background-color:  #f1f1f1;\n",
       "            color:  #000000;\n",
       "        }    #T_9f8769dc_8141_11ea_a86d_f834410091c7row8_col13 {\n",
       "            font-size:  6pt;\n",
       "            background-color:  #ffffff;\n",
       "            color:  #000000;\n",
       "        }    #T_9f8769dc_8141_11ea_a86d_f834410091c7row8_col14 {\n",
       "            font-size:  6pt;\n",
       "            background-color:  #ffffff;\n",
       "            color:  #000000;\n",
       "        }    #T_9f8769dc_8141_11ea_a86d_f834410091c7row8_col15 {\n",
       "            font-size:  6pt;\n",
       "            background-color:  #ffffff;\n",
       "            color:  #000000;\n",
       "        }    #T_9f8769dc_8141_11ea_a86d_f834410091c7row8_col16 {\n",
       "            font-size:  6pt;\n",
       "            background-color:  #ffffff;\n",
       "            color:  #000000;\n",
       "        }    #T_9f8769dc_8141_11ea_a86d_f834410091c7row8_col17 {\n",
       "            font-size:  6pt;\n",
       "            background-color:  #ffffff;\n",
       "            color:  #000000;\n",
       "        }    #T_9f8769dc_8141_11ea_a86d_f834410091c7row9_col0 {\n",
       "            font-size:  6pt;\n",
       "            background-color:  #ffffff;\n",
       "            color:  #000000;\n",
       "        }    #T_9f8769dc_8141_11ea_a86d_f834410091c7row9_col1 {\n",
       "            font-size:  6pt;\n",
       "            background-color:  #ffffff;\n",
       "            color:  #000000;\n",
       "        }    #T_9f8769dc_8141_11ea_a86d_f834410091c7row9_col2 {\n",
       "            font-size:  6pt;\n",
       "            background-color:  #ffffff;\n",
       "            color:  #000000;\n",
       "        }    #T_9f8769dc_8141_11ea_a86d_f834410091c7row9_col3 {\n",
       "            font-size:  6pt;\n",
       "            background-color:  #ffffff;\n",
       "            color:  #000000;\n",
       "        }    #T_9f8769dc_8141_11ea_a86d_f834410091c7row9_col4 {\n",
       "            font-size:  6pt;\n",
       "            background-color:  #ffffff;\n",
       "            color:  #000000;\n",
       "        }    #T_9f8769dc_8141_11ea_a86d_f834410091c7row9_col5 {\n",
       "            font-size:  6pt;\n",
       "            background-color:  #f7f7f7;\n",
       "            color:  #000000;\n",
       "        }    #T_9f8769dc_8141_11ea_a86d_f834410091c7row9_col6 {\n",
       "            font-size:  6pt;\n",
       "            background-color:  #060606;\n",
       "            color:  #f1f1f1;\n",
       "        }    #T_9f8769dc_8141_11ea_a86d_f834410091c7row9_col7 {\n",
       "            font-size:  6pt;\n",
       "            background-color:  #030303;\n",
       "            color:  #f1f1f1;\n",
       "        }    #T_9f8769dc_8141_11ea_a86d_f834410091c7row9_col8 {\n",
       "            font-size:  6pt;\n",
       "            background-color:  #010101;\n",
       "            color:  #f1f1f1;\n",
       "        }    #T_9f8769dc_8141_11ea_a86d_f834410091c7row9_col9 {\n",
       "            font-size:  6pt;\n",
       "            background-color:  #020202;\n",
       "            color:  #f1f1f1;\n",
       "        }    #T_9f8769dc_8141_11ea_a86d_f834410091c7row9_col10 {\n",
       "            font-size:  6pt;\n",
       "            background-color:  #010101;\n",
       "            color:  #f1f1f1;\n",
       "        }    #T_9f8769dc_8141_11ea_a86d_f834410091c7row9_col11 {\n",
       "            font-size:  6pt;\n",
       "            background-color:  #000000;\n",
       "            color:  #f1f1f1;\n",
       "        }    #T_9f8769dc_8141_11ea_a86d_f834410091c7row9_col12 {\n",
       "            font-size:  6pt;\n",
       "            background-color:  #181818;\n",
       "            color:  #f1f1f1;\n",
       "        }    #T_9f8769dc_8141_11ea_a86d_f834410091c7row9_col13 {\n",
       "            font-size:  6pt;\n",
       "            background-color:  #303030;\n",
       "            color:  #f1f1f1;\n",
       "        }    #T_9f8769dc_8141_11ea_a86d_f834410091c7row9_col14 {\n",
       "            font-size:  6pt;\n",
       "            background-color:  #a9a9a9;\n",
       "            color:  #000000;\n",
       "        }    #T_9f8769dc_8141_11ea_a86d_f834410091c7row9_col15 {\n",
       "            font-size:  6pt;\n",
       "            background-color:  #fefefe;\n",
       "            color:  #000000;\n",
       "        }    #T_9f8769dc_8141_11ea_a86d_f834410091c7row9_col16 {\n",
       "            font-size:  6pt;\n",
       "            background-color:  #ffffff;\n",
       "            color:  #000000;\n",
       "        }    #T_9f8769dc_8141_11ea_a86d_f834410091c7row9_col17 {\n",
       "            font-size:  6pt;\n",
       "            background-color:  #ffffff;\n",
       "            color:  #000000;\n",
       "        }    #T_9f8769dc_8141_11ea_a86d_f834410091c7row10_col0 {\n",
       "            font-size:  6pt;\n",
       "            background-color:  #ffffff;\n",
       "            color:  #000000;\n",
       "        }    #T_9f8769dc_8141_11ea_a86d_f834410091c7row10_col1 {\n",
       "            font-size:  6pt;\n",
       "            background-color:  #ffffff;\n",
       "            color:  #000000;\n",
       "        }    #T_9f8769dc_8141_11ea_a86d_f834410091c7row10_col2 {\n",
       "            font-size:  6pt;\n",
       "            background-color:  #ffffff;\n",
       "            color:  #000000;\n",
       "        }    #T_9f8769dc_8141_11ea_a86d_f834410091c7row10_col3 {\n",
       "            font-size:  6pt;\n",
       "            background-color:  #ffffff;\n",
       "            color:  #000000;\n",
       "        }    #T_9f8769dc_8141_11ea_a86d_f834410091c7row10_col4 {\n",
       "            font-size:  6pt;\n",
       "            background-color:  #ffffff;\n",
       "            color:  #000000;\n",
       "        }    #T_9f8769dc_8141_11ea_a86d_f834410091c7row10_col5 {\n",
       "            font-size:  6pt;\n",
       "            background-color:  #ffffff;\n",
       "            color:  #000000;\n",
       "        }    #T_9f8769dc_8141_11ea_a86d_f834410091c7row10_col6 {\n",
       "            font-size:  6pt;\n",
       "            background-color:  #ffffff;\n",
       "            color:  #000000;\n",
       "        }    #T_9f8769dc_8141_11ea_a86d_f834410091c7row10_col7 {\n",
       "            font-size:  6pt;\n",
       "            background-color:  #e8e8e8;\n",
       "            color:  #000000;\n",
       "        }    #T_9f8769dc_8141_11ea_a86d_f834410091c7row10_col8 {\n",
       "            font-size:  6pt;\n",
       "            background-color:  #bababa;\n",
       "            color:  #000000;\n",
       "        }    #T_9f8769dc_8141_11ea_a86d_f834410091c7row10_col9 {\n",
       "            font-size:  6pt;\n",
       "            background-color:  #bababa;\n",
       "            color:  #000000;\n",
       "        }    #T_9f8769dc_8141_11ea_a86d_f834410091c7row10_col10 {\n",
       "            font-size:  6pt;\n",
       "            background-color:  #393939;\n",
       "            color:  #f1f1f1;\n",
       "        }    #T_9f8769dc_8141_11ea_a86d_f834410091c7row10_col11 {\n",
       "            font-size:  6pt;\n",
       "            background-color:  #000000;\n",
       "            color:  #f1f1f1;\n",
       "        }    #T_9f8769dc_8141_11ea_a86d_f834410091c7row10_col12 {\n",
       "            font-size:  6pt;\n",
       "            background-color:  #000000;\n",
       "            color:  #f1f1f1;\n",
       "        }    #T_9f8769dc_8141_11ea_a86d_f834410091c7row10_col13 {\n",
       "            font-size:  6pt;\n",
       "            background-color:  #000000;\n",
       "            color:  #f1f1f1;\n",
       "        }    #T_9f8769dc_8141_11ea_a86d_f834410091c7row10_col14 {\n",
       "            font-size:  6pt;\n",
       "            background-color:  #000000;\n",
       "            color:  #f1f1f1;\n",
       "        }    #T_9f8769dc_8141_11ea_a86d_f834410091c7row10_col15 {\n",
       "            font-size:  6pt;\n",
       "            background-color:  #000000;\n",
       "            color:  #f1f1f1;\n",
       "        }    #T_9f8769dc_8141_11ea_a86d_f834410091c7row10_col16 {\n",
       "            font-size:  6pt;\n",
       "            background-color:  #000000;\n",
       "            color:  #f1f1f1;\n",
       "        }    #T_9f8769dc_8141_11ea_a86d_f834410091c7row10_col17 {\n",
       "            font-size:  6pt;\n",
       "            background-color:  #ffffff;\n",
       "            color:  #000000;\n",
       "        }</style><table id=\"T_9f8769dc_8141_11ea_a86d_f834410091c7\" ><thead>    <tr>        <th class=\"blank level0\" ></th>        <th class=\"col_heading level0 col0\" >0</th>        <th class=\"col_heading level0 col1\" >1</th>        <th class=\"col_heading level0 col2\" >2</th>        <th class=\"col_heading level0 col3\" >3</th>        <th class=\"col_heading level0 col4\" >4</th>        <th class=\"col_heading level0 col5\" >5</th>        <th class=\"col_heading level0 col6\" >6</th>        <th class=\"col_heading level0 col7\" >7</th>        <th class=\"col_heading level0 col8\" >8</th>        <th class=\"col_heading level0 col9\" >9</th>        <th class=\"col_heading level0 col10\" >10</th>        <th class=\"col_heading level0 col11\" >11</th>        <th class=\"col_heading level0 col12\" >12</th>        <th class=\"col_heading level0 col13\" >13</th>        <th class=\"col_heading level0 col14\" >14</th>        <th class=\"col_heading level0 col15\" >15</th>        <th class=\"col_heading level0 col16\" >16</th>        <th class=\"col_heading level0 col17\" >17</th>    </tr></thead><tbody>\n",
       "                <tr>\n",
       "                        <th id=\"T_9f8769dc_8141_11ea_a86d_f834410091c7level0_row0\" class=\"row_heading level0 row0\" >0</th>\n",
       "                        <td id=\"T_9f8769dc_8141_11ea_a86d_f834410091c7row0_col0\" class=\"data row0 col0\" >0</td>\n",
       "                        <td id=\"T_9f8769dc_8141_11ea_a86d_f834410091c7row0_col1\" class=\"data row0 col1\" >0</td>\n",
       "                        <td id=\"T_9f8769dc_8141_11ea_a86d_f834410091c7row0_col2\" class=\"data row0 col2\" >0</td>\n",
       "                        <td id=\"T_9f8769dc_8141_11ea_a86d_f834410091c7row0_col3\" class=\"data row0 col3\" >0</td>\n",
       "                        <td id=\"T_9f8769dc_8141_11ea_a86d_f834410091c7row0_col4\" class=\"data row0 col4\" >0</td>\n",
       "                        <td id=\"T_9f8769dc_8141_11ea_a86d_f834410091c7row0_col5\" class=\"data row0 col5\" >0</td>\n",
       "                        <td id=\"T_9f8769dc_8141_11ea_a86d_f834410091c7row0_col6\" class=\"data row0 col6\" >0</td>\n",
       "                        <td id=\"T_9f8769dc_8141_11ea_a86d_f834410091c7row0_col7\" class=\"data row0 col7\" >0</td>\n",
       "                        <td id=\"T_9f8769dc_8141_11ea_a86d_f834410091c7row0_col8\" class=\"data row0 col8\" >0</td>\n",
       "                        <td id=\"T_9f8769dc_8141_11ea_a86d_f834410091c7row0_col9\" class=\"data row0 col9\" >0</td>\n",
       "                        <td id=\"T_9f8769dc_8141_11ea_a86d_f834410091c7row0_col10\" class=\"data row0 col10\" >0</td>\n",
       "                        <td id=\"T_9f8769dc_8141_11ea_a86d_f834410091c7row0_col11\" class=\"data row0 col11\" >0</td>\n",
       "                        <td id=\"T_9f8769dc_8141_11ea_a86d_f834410091c7row0_col12\" class=\"data row0 col12\" >0</td>\n",
       "                        <td id=\"T_9f8769dc_8141_11ea_a86d_f834410091c7row0_col13\" class=\"data row0 col13\" >0</td>\n",
       "                        <td id=\"T_9f8769dc_8141_11ea_a86d_f834410091c7row0_col14\" class=\"data row0 col14\" >0</td>\n",
       "                        <td id=\"T_9f8769dc_8141_11ea_a86d_f834410091c7row0_col15\" class=\"data row0 col15\" >0</td>\n",
       "                        <td id=\"T_9f8769dc_8141_11ea_a86d_f834410091c7row0_col16\" class=\"data row0 col16\" >0</td>\n",
       "                        <td id=\"T_9f8769dc_8141_11ea_a86d_f834410091c7row0_col17\" class=\"data row0 col17\" >0</td>\n",
       "            </tr>\n",
       "            <tr>\n",
       "                        <th id=\"T_9f8769dc_8141_11ea_a86d_f834410091c7level0_row1\" class=\"row_heading level0 row1\" >1</th>\n",
       "                        <td id=\"T_9f8769dc_8141_11ea_a86d_f834410091c7row1_col0\" class=\"data row1 col0\" >0</td>\n",
       "                        <td id=\"T_9f8769dc_8141_11ea_a86d_f834410091c7row1_col1\" class=\"data row1 col1\" >0</td>\n",
       "                        <td id=\"T_9f8769dc_8141_11ea_a86d_f834410091c7row1_col2\" class=\"data row1 col2\" >0</td>\n",
       "                        <td id=\"T_9f8769dc_8141_11ea_a86d_f834410091c7row1_col3\" class=\"data row1 col3\" >0</td>\n",
       "                        <td id=\"T_9f8769dc_8141_11ea_a86d_f834410091c7row1_col4\" class=\"data row1 col4\" >0</td>\n",
       "                        <td id=\"T_9f8769dc_8141_11ea_a86d_f834410091c7row1_col5\" class=\"data row1 col5\" >29</td>\n",
       "                        <td id=\"T_9f8769dc_8141_11ea_a86d_f834410091c7row1_col6\" class=\"data row1 col6\" >150</td>\n",
       "                        <td id=\"T_9f8769dc_8141_11ea_a86d_f834410091c7row1_col7\" class=\"data row1 col7\" >195</td>\n",
       "                        <td id=\"T_9f8769dc_8141_11ea_a86d_f834410091c7row1_col8\" class=\"data row1 col8\" >254</td>\n",
       "                        <td id=\"T_9f8769dc_8141_11ea_a86d_f834410091c7row1_col9\" class=\"data row1 col9\" >255</td>\n",
       "                        <td id=\"T_9f8769dc_8141_11ea_a86d_f834410091c7row1_col10\" class=\"data row1 col10\" >254</td>\n",
       "                        <td id=\"T_9f8769dc_8141_11ea_a86d_f834410091c7row1_col11\" class=\"data row1 col11\" >176</td>\n",
       "                        <td id=\"T_9f8769dc_8141_11ea_a86d_f834410091c7row1_col12\" class=\"data row1 col12\" >193</td>\n",
       "                        <td id=\"T_9f8769dc_8141_11ea_a86d_f834410091c7row1_col13\" class=\"data row1 col13\" >150</td>\n",
       "                        <td id=\"T_9f8769dc_8141_11ea_a86d_f834410091c7row1_col14\" class=\"data row1 col14\" >96</td>\n",
       "                        <td id=\"T_9f8769dc_8141_11ea_a86d_f834410091c7row1_col15\" class=\"data row1 col15\" >0</td>\n",
       "                        <td id=\"T_9f8769dc_8141_11ea_a86d_f834410091c7row1_col16\" class=\"data row1 col16\" >0</td>\n",
       "                        <td id=\"T_9f8769dc_8141_11ea_a86d_f834410091c7row1_col17\" class=\"data row1 col17\" >0</td>\n",
       "            </tr>\n",
       "            <tr>\n",
       "                        <th id=\"T_9f8769dc_8141_11ea_a86d_f834410091c7level0_row2\" class=\"row_heading level0 row2\" >2</th>\n",
       "                        <td id=\"T_9f8769dc_8141_11ea_a86d_f834410091c7row2_col0\" class=\"data row2 col0\" >0</td>\n",
       "                        <td id=\"T_9f8769dc_8141_11ea_a86d_f834410091c7row2_col1\" class=\"data row2 col1\" >0</td>\n",
       "                        <td id=\"T_9f8769dc_8141_11ea_a86d_f834410091c7row2_col2\" class=\"data row2 col2\" >0</td>\n",
       "                        <td id=\"T_9f8769dc_8141_11ea_a86d_f834410091c7row2_col3\" class=\"data row2 col3\" >48</td>\n",
       "                        <td id=\"T_9f8769dc_8141_11ea_a86d_f834410091c7row2_col4\" class=\"data row2 col4\" >166</td>\n",
       "                        <td id=\"T_9f8769dc_8141_11ea_a86d_f834410091c7row2_col5\" class=\"data row2 col5\" >224</td>\n",
       "                        <td id=\"T_9f8769dc_8141_11ea_a86d_f834410091c7row2_col6\" class=\"data row2 col6\" >253</td>\n",
       "                        <td id=\"T_9f8769dc_8141_11ea_a86d_f834410091c7row2_col7\" class=\"data row2 col7\" >253</td>\n",
       "                        <td id=\"T_9f8769dc_8141_11ea_a86d_f834410091c7row2_col8\" class=\"data row2 col8\" >234</td>\n",
       "                        <td id=\"T_9f8769dc_8141_11ea_a86d_f834410091c7row2_col9\" class=\"data row2 col9\" >196</td>\n",
       "                        <td id=\"T_9f8769dc_8141_11ea_a86d_f834410091c7row2_col10\" class=\"data row2 col10\" >253</td>\n",
       "                        <td id=\"T_9f8769dc_8141_11ea_a86d_f834410091c7row2_col11\" class=\"data row2 col11\" >253</td>\n",
       "                        <td id=\"T_9f8769dc_8141_11ea_a86d_f834410091c7row2_col12\" class=\"data row2 col12\" >253</td>\n",
       "                        <td id=\"T_9f8769dc_8141_11ea_a86d_f834410091c7row2_col13\" class=\"data row2 col13\" >253</td>\n",
       "                        <td id=\"T_9f8769dc_8141_11ea_a86d_f834410091c7row2_col14\" class=\"data row2 col14\" >233</td>\n",
       "                        <td id=\"T_9f8769dc_8141_11ea_a86d_f834410091c7row2_col15\" class=\"data row2 col15\" >0</td>\n",
       "                        <td id=\"T_9f8769dc_8141_11ea_a86d_f834410091c7row2_col16\" class=\"data row2 col16\" >0</td>\n",
       "                        <td id=\"T_9f8769dc_8141_11ea_a86d_f834410091c7row2_col17\" class=\"data row2 col17\" >0</td>\n",
       "            </tr>\n",
       "            <tr>\n",
       "                        <th id=\"T_9f8769dc_8141_11ea_a86d_f834410091c7level0_row3\" class=\"row_heading level0 row3\" >3</th>\n",
       "                        <td id=\"T_9f8769dc_8141_11ea_a86d_f834410091c7row3_col0\" class=\"data row3 col0\" >0</td>\n",
       "                        <td id=\"T_9f8769dc_8141_11ea_a86d_f834410091c7row3_col1\" class=\"data row3 col1\" >93</td>\n",
       "                        <td id=\"T_9f8769dc_8141_11ea_a86d_f834410091c7row3_col2\" class=\"data row3 col2\" >244</td>\n",
       "                        <td id=\"T_9f8769dc_8141_11ea_a86d_f834410091c7row3_col3\" class=\"data row3 col3\" >249</td>\n",
       "                        <td id=\"T_9f8769dc_8141_11ea_a86d_f834410091c7row3_col4\" class=\"data row3 col4\" >253</td>\n",
       "                        <td id=\"T_9f8769dc_8141_11ea_a86d_f834410091c7row3_col5\" class=\"data row3 col5\" >187</td>\n",
       "                        <td id=\"T_9f8769dc_8141_11ea_a86d_f834410091c7row3_col6\" class=\"data row3 col6\" >46</td>\n",
       "                        <td id=\"T_9f8769dc_8141_11ea_a86d_f834410091c7row3_col7\" class=\"data row3 col7\" >10</td>\n",
       "                        <td id=\"T_9f8769dc_8141_11ea_a86d_f834410091c7row3_col8\" class=\"data row3 col8\" >8</td>\n",
       "                        <td id=\"T_9f8769dc_8141_11ea_a86d_f834410091c7row3_col9\" class=\"data row3 col9\" >4</td>\n",
       "                        <td id=\"T_9f8769dc_8141_11ea_a86d_f834410091c7row3_col10\" class=\"data row3 col10\" >10</td>\n",
       "                        <td id=\"T_9f8769dc_8141_11ea_a86d_f834410091c7row3_col11\" class=\"data row3 col11\" >194</td>\n",
       "                        <td id=\"T_9f8769dc_8141_11ea_a86d_f834410091c7row3_col12\" class=\"data row3 col12\" >253</td>\n",
       "                        <td id=\"T_9f8769dc_8141_11ea_a86d_f834410091c7row3_col13\" class=\"data row3 col13\" >253</td>\n",
       "                        <td id=\"T_9f8769dc_8141_11ea_a86d_f834410091c7row3_col14\" class=\"data row3 col14\" >233</td>\n",
       "                        <td id=\"T_9f8769dc_8141_11ea_a86d_f834410091c7row3_col15\" class=\"data row3 col15\" >0</td>\n",
       "                        <td id=\"T_9f8769dc_8141_11ea_a86d_f834410091c7row3_col16\" class=\"data row3 col16\" >0</td>\n",
       "                        <td id=\"T_9f8769dc_8141_11ea_a86d_f834410091c7row3_col17\" class=\"data row3 col17\" >0</td>\n",
       "            </tr>\n",
       "            <tr>\n",
       "                        <th id=\"T_9f8769dc_8141_11ea_a86d_f834410091c7level0_row4\" class=\"row_heading level0 row4\" >4</th>\n",
       "                        <td id=\"T_9f8769dc_8141_11ea_a86d_f834410091c7row4_col0\" class=\"data row4 col0\" >0</td>\n",
       "                        <td id=\"T_9f8769dc_8141_11ea_a86d_f834410091c7row4_col1\" class=\"data row4 col1\" >107</td>\n",
       "                        <td id=\"T_9f8769dc_8141_11ea_a86d_f834410091c7row4_col2\" class=\"data row4 col2\" >253</td>\n",
       "                        <td id=\"T_9f8769dc_8141_11ea_a86d_f834410091c7row4_col3\" class=\"data row4 col3\" >253</td>\n",
       "                        <td id=\"T_9f8769dc_8141_11ea_a86d_f834410091c7row4_col4\" class=\"data row4 col4\" >230</td>\n",
       "                        <td id=\"T_9f8769dc_8141_11ea_a86d_f834410091c7row4_col5\" class=\"data row4 col5\" >48</td>\n",
       "                        <td id=\"T_9f8769dc_8141_11ea_a86d_f834410091c7row4_col6\" class=\"data row4 col6\" >0</td>\n",
       "                        <td id=\"T_9f8769dc_8141_11ea_a86d_f834410091c7row4_col7\" class=\"data row4 col7\" >0</td>\n",
       "                        <td id=\"T_9f8769dc_8141_11ea_a86d_f834410091c7row4_col8\" class=\"data row4 col8\" >0</td>\n",
       "                        <td id=\"T_9f8769dc_8141_11ea_a86d_f834410091c7row4_col9\" class=\"data row4 col9\" >0</td>\n",
       "                        <td id=\"T_9f8769dc_8141_11ea_a86d_f834410091c7row4_col10\" class=\"data row4 col10\" >0</td>\n",
       "                        <td id=\"T_9f8769dc_8141_11ea_a86d_f834410091c7row4_col11\" class=\"data row4 col11\" >192</td>\n",
       "                        <td id=\"T_9f8769dc_8141_11ea_a86d_f834410091c7row4_col12\" class=\"data row4 col12\" >253</td>\n",
       "                        <td id=\"T_9f8769dc_8141_11ea_a86d_f834410091c7row4_col13\" class=\"data row4 col13\" >253</td>\n",
       "                        <td id=\"T_9f8769dc_8141_11ea_a86d_f834410091c7row4_col14\" class=\"data row4 col14\" >156</td>\n",
       "                        <td id=\"T_9f8769dc_8141_11ea_a86d_f834410091c7row4_col15\" class=\"data row4 col15\" >0</td>\n",
       "                        <td id=\"T_9f8769dc_8141_11ea_a86d_f834410091c7row4_col16\" class=\"data row4 col16\" >0</td>\n",
       "                        <td id=\"T_9f8769dc_8141_11ea_a86d_f834410091c7row4_col17\" class=\"data row4 col17\" >0</td>\n",
       "            </tr>\n",
       "            <tr>\n",
       "                        <th id=\"T_9f8769dc_8141_11ea_a86d_f834410091c7level0_row5\" class=\"row_heading level0 row5\" >5</th>\n",
       "                        <td id=\"T_9f8769dc_8141_11ea_a86d_f834410091c7row5_col0\" class=\"data row5 col0\" >0</td>\n",
       "                        <td id=\"T_9f8769dc_8141_11ea_a86d_f834410091c7row5_col1\" class=\"data row5 col1\" >3</td>\n",
       "                        <td id=\"T_9f8769dc_8141_11ea_a86d_f834410091c7row5_col2\" class=\"data row5 col2\" >20</td>\n",
       "                        <td id=\"T_9f8769dc_8141_11ea_a86d_f834410091c7row5_col3\" class=\"data row5 col3\" >20</td>\n",
       "                        <td id=\"T_9f8769dc_8141_11ea_a86d_f834410091c7row5_col4\" class=\"data row5 col4\" >15</td>\n",
       "                        <td id=\"T_9f8769dc_8141_11ea_a86d_f834410091c7row5_col5\" class=\"data row5 col5\" >0</td>\n",
       "                        <td id=\"T_9f8769dc_8141_11ea_a86d_f834410091c7row5_col6\" class=\"data row5 col6\" >0</td>\n",
       "                        <td id=\"T_9f8769dc_8141_11ea_a86d_f834410091c7row5_col7\" class=\"data row5 col7\" >0</td>\n",
       "                        <td id=\"T_9f8769dc_8141_11ea_a86d_f834410091c7row5_col8\" class=\"data row5 col8\" >0</td>\n",
       "                        <td id=\"T_9f8769dc_8141_11ea_a86d_f834410091c7row5_col9\" class=\"data row5 col9\" >0</td>\n",
       "                        <td id=\"T_9f8769dc_8141_11ea_a86d_f834410091c7row5_col10\" class=\"data row5 col10\" >43</td>\n",
       "                        <td id=\"T_9f8769dc_8141_11ea_a86d_f834410091c7row5_col11\" class=\"data row5 col11\" >224</td>\n",
       "                        <td id=\"T_9f8769dc_8141_11ea_a86d_f834410091c7row5_col12\" class=\"data row5 col12\" >253</td>\n",
       "                        <td id=\"T_9f8769dc_8141_11ea_a86d_f834410091c7row5_col13\" class=\"data row5 col13\" >245</td>\n",
       "                        <td id=\"T_9f8769dc_8141_11ea_a86d_f834410091c7row5_col14\" class=\"data row5 col14\" >74</td>\n",
       "                        <td id=\"T_9f8769dc_8141_11ea_a86d_f834410091c7row5_col15\" class=\"data row5 col15\" >0</td>\n",
       "                        <td id=\"T_9f8769dc_8141_11ea_a86d_f834410091c7row5_col16\" class=\"data row5 col16\" >0</td>\n",
       "                        <td id=\"T_9f8769dc_8141_11ea_a86d_f834410091c7row5_col17\" class=\"data row5 col17\" >0</td>\n",
       "            </tr>\n",
       "            <tr>\n",
       "                        <th id=\"T_9f8769dc_8141_11ea_a86d_f834410091c7level0_row6\" class=\"row_heading level0 row6\" >6</th>\n",
       "                        <td id=\"T_9f8769dc_8141_11ea_a86d_f834410091c7row6_col0\" class=\"data row6 col0\" >0</td>\n",
       "                        <td id=\"T_9f8769dc_8141_11ea_a86d_f834410091c7row6_col1\" class=\"data row6 col1\" >0</td>\n",
       "                        <td id=\"T_9f8769dc_8141_11ea_a86d_f834410091c7row6_col2\" class=\"data row6 col2\" >0</td>\n",
       "                        <td id=\"T_9f8769dc_8141_11ea_a86d_f834410091c7row6_col3\" class=\"data row6 col3\" >0</td>\n",
       "                        <td id=\"T_9f8769dc_8141_11ea_a86d_f834410091c7row6_col4\" class=\"data row6 col4\" >0</td>\n",
       "                        <td id=\"T_9f8769dc_8141_11ea_a86d_f834410091c7row6_col5\" class=\"data row6 col5\" >0</td>\n",
       "                        <td id=\"T_9f8769dc_8141_11ea_a86d_f834410091c7row6_col6\" class=\"data row6 col6\" >0</td>\n",
       "                        <td id=\"T_9f8769dc_8141_11ea_a86d_f834410091c7row6_col7\" class=\"data row6 col7\" >0</td>\n",
       "                        <td id=\"T_9f8769dc_8141_11ea_a86d_f834410091c7row6_col8\" class=\"data row6 col8\" >0</td>\n",
       "                        <td id=\"T_9f8769dc_8141_11ea_a86d_f834410091c7row6_col9\" class=\"data row6 col9\" >0</td>\n",
       "                        <td id=\"T_9f8769dc_8141_11ea_a86d_f834410091c7row6_col10\" class=\"data row6 col10\" >249</td>\n",
       "                        <td id=\"T_9f8769dc_8141_11ea_a86d_f834410091c7row6_col11\" class=\"data row6 col11\" >253</td>\n",
       "                        <td id=\"T_9f8769dc_8141_11ea_a86d_f834410091c7row6_col12\" class=\"data row6 col12\" >245</td>\n",
       "                        <td id=\"T_9f8769dc_8141_11ea_a86d_f834410091c7row6_col13\" class=\"data row6 col13\" >126</td>\n",
       "                        <td id=\"T_9f8769dc_8141_11ea_a86d_f834410091c7row6_col14\" class=\"data row6 col14\" >0</td>\n",
       "                        <td id=\"T_9f8769dc_8141_11ea_a86d_f834410091c7row6_col15\" class=\"data row6 col15\" >0</td>\n",
       "                        <td id=\"T_9f8769dc_8141_11ea_a86d_f834410091c7row6_col16\" class=\"data row6 col16\" >0</td>\n",
       "                        <td id=\"T_9f8769dc_8141_11ea_a86d_f834410091c7row6_col17\" class=\"data row6 col17\" >0</td>\n",
       "            </tr>\n",
       "            <tr>\n",
       "                        <th id=\"T_9f8769dc_8141_11ea_a86d_f834410091c7level0_row7\" class=\"row_heading level0 row7\" >7</th>\n",
       "                        <td id=\"T_9f8769dc_8141_11ea_a86d_f834410091c7row7_col0\" class=\"data row7 col0\" >0</td>\n",
       "                        <td id=\"T_9f8769dc_8141_11ea_a86d_f834410091c7row7_col1\" class=\"data row7 col1\" >0</td>\n",
       "                        <td id=\"T_9f8769dc_8141_11ea_a86d_f834410091c7row7_col2\" class=\"data row7 col2\" >0</td>\n",
       "                        <td id=\"T_9f8769dc_8141_11ea_a86d_f834410091c7row7_col3\" class=\"data row7 col3\" >0</td>\n",
       "                        <td id=\"T_9f8769dc_8141_11ea_a86d_f834410091c7row7_col4\" class=\"data row7 col4\" >0</td>\n",
       "                        <td id=\"T_9f8769dc_8141_11ea_a86d_f834410091c7row7_col5\" class=\"data row7 col5\" >0</td>\n",
       "                        <td id=\"T_9f8769dc_8141_11ea_a86d_f834410091c7row7_col6\" class=\"data row7 col6\" >0</td>\n",
       "                        <td id=\"T_9f8769dc_8141_11ea_a86d_f834410091c7row7_col7\" class=\"data row7 col7\" >14</td>\n",
       "                        <td id=\"T_9f8769dc_8141_11ea_a86d_f834410091c7row7_col8\" class=\"data row7 col8\" >101</td>\n",
       "                        <td id=\"T_9f8769dc_8141_11ea_a86d_f834410091c7row7_col9\" class=\"data row7 col9\" >223</td>\n",
       "                        <td id=\"T_9f8769dc_8141_11ea_a86d_f834410091c7row7_col10\" class=\"data row7 col10\" >253</td>\n",
       "                        <td id=\"T_9f8769dc_8141_11ea_a86d_f834410091c7row7_col11\" class=\"data row7 col11\" >248</td>\n",
       "                        <td id=\"T_9f8769dc_8141_11ea_a86d_f834410091c7row7_col12\" class=\"data row7 col12\" >124</td>\n",
       "                        <td id=\"T_9f8769dc_8141_11ea_a86d_f834410091c7row7_col13\" class=\"data row7 col13\" >0</td>\n",
       "                        <td id=\"T_9f8769dc_8141_11ea_a86d_f834410091c7row7_col14\" class=\"data row7 col14\" >0</td>\n",
       "                        <td id=\"T_9f8769dc_8141_11ea_a86d_f834410091c7row7_col15\" class=\"data row7 col15\" >0</td>\n",
       "                        <td id=\"T_9f8769dc_8141_11ea_a86d_f834410091c7row7_col16\" class=\"data row7 col16\" >0</td>\n",
       "                        <td id=\"T_9f8769dc_8141_11ea_a86d_f834410091c7row7_col17\" class=\"data row7 col17\" >0</td>\n",
       "            </tr>\n",
       "            <tr>\n",
       "                        <th id=\"T_9f8769dc_8141_11ea_a86d_f834410091c7level0_row8\" class=\"row_heading level0 row8\" >8</th>\n",
       "                        <td id=\"T_9f8769dc_8141_11ea_a86d_f834410091c7row8_col0\" class=\"data row8 col0\" >0</td>\n",
       "                        <td id=\"T_9f8769dc_8141_11ea_a86d_f834410091c7row8_col1\" class=\"data row8 col1\" >0</td>\n",
       "                        <td id=\"T_9f8769dc_8141_11ea_a86d_f834410091c7row8_col2\" class=\"data row8 col2\" >0</td>\n",
       "                        <td id=\"T_9f8769dc_8141_11ea_a86d_f834410091c7row8_col3\" class=\"data row8 col3\" >0</td>\n",
       "                        <td id=\"T_9f8769dc_8141_11ea_a86d_f834410091c7row8_col4\" class=\"data row8 col4\" >0</td>\n",
       "                        <td id=\"T_9f8769dc_8141_11ea_a86d_f834410091c7row8_col5\" class=\"data row8 col5\" >11</td>\n",
       "                        <td id=\"T_9f8769dc_8141_11ea_a86d_f834410091c7row8_col6\" class=\"data row8 col6\" >166</td>\n",
       "                        <td id=\"T_9f8769dc_8141_11ea_a86d_f834410091c7row8_col7\" class=\"data row8 col7\" >239</td>\n",
       "                        <td id=\"T_9f8769dc_8141_11ea_a86d_f834410091c7row8_col8\" class=\"data row8 col8\" >253</td>\n",
       "                        <td id=\"T_9f8769dc_8141_11ea_a86d_f834410091c7row8_col9\" class=\"data row8 col9\" >253</td>\n",
       "                        <td id=\"T_9f8769dc_8141_11ea_a86d_f834410091c7row8_col10\" class=\"data row8 col10\" >253</td>\n",
       "                        <td id=\"T_9f8769dc_8141_11ea_a86d_f834410091c7row8_col11\" class=\"data row8 col11\" >187</td>\n",
       "                        <td id=\"T_9f8769dc_8141_11ea_a86d_f834410091c7row8_col12\" class=\"data row8 col12\" >30</td>\n",
       "                        <td id=\"T_9f8769dc_8141_11ea_a86d_f834410091c7row8_col13\" class=\"data row8 col13\" >0</td>\n",
       "                        <td id=\"T_9f8769dc_8141_11ea_a86d_f834410091c7row8_col14\" class=\"data row8 col14\" >0</td>\n",
       "                        <td id=\"T_9f8769dc_8141_11ea_a86d_f834410091c7row8_col15\" class=\"data row8 col15\" >0</td>\n",
       "                        <td id=\"T_9f8769dc_8141_11ea_a86d_f834410091c7row8_col16\" class=\"data row8 col16\" >0</td>\n",
       "                        <td id=\"T_9f8769dc_8141_11ea_a86d_f834410091c7row8_col17\" class=\"data row8 col17\" >0</td>\n",
       "            </tr>\n",
       "            <tr>\n",
       "                        <th id=\"T_9f8769dc_8141_11ea_a86d_f834410091c7level0_row9\" class=\"row_heading level0 row9\" >9</th>\n",
       "                        <td id=\"T_9f8769dc_8141_11ea_a86d_f834410091c7row9_col0\" class=\"data row9 col0\" >0</td>\n",
       "                        <td id=\"T_9f8769dc_8141_11ea_a86d_f834410091c7row9_col1\" class=\"data row9 col1\" >0</td>\n",
       "                        <td id=\"T_9f8769dc_8141_11ea_a86d_f834410091c7row9_col2\" class=\"data row9 col2\" >0</td>\n",
       "                        <td id=\"T_9f8769dc_8141_11ea_a86d_f834410091c7row9_col3\" class=\"data row9 col3\" >0</td>\n",
       "                        <td id=\"T_9f8769dc_8141_11ea_a86d_f834410091c7row9_col4\" class=\"data row9 col4\" >0</td>\n",
       "                        <td id=\"T_9f8769dc_8141_11ea_a86d_f834410091c7row9_col5\" class=\"data row9 col5\" >16</td>\n",
       "                        <td id=\"T_9f8769dc_8141_11ea_a86d_f834410091c7row9_col6\" class=\"data row9 col6\" >248</td>\n",
       "                        <td id=\"T_9f8769dc_8141_11ea_a86d_f834410091c7row9_col7\" class=\"data row9 col7\" >250</td>\n",
       "                        <td id=\"T_9f8769dc_8141_11ea_a86d_f834410091c7row9_col8\" class=\"data row9 col8\" >253</td>\n",
       "                        <td id=\"T_9f8769dc_8141_11ea_a86d_f834410091c7row9_col9\" class=\"data row9 col9\" >253</td>\n",
       "                        <td id=\"T_9f8769dc_8141_11ea_a86d_f834410091c7row9_col10\" class=\"data row9 col10\" >253</td>\n",
       "                        <td id=\"T_9f8769dc_8141_11ea_a86d_f834410091c7row9_col11\" class=\"data row9 col11\" >253</td>\n",
       "                        <td id=\"T_9f8769dc_8141_11ea_a86d_f834410091c7row9_col12\" class=\"data row9 col12\" >232</td>\n",
       "                        <td id=\"T_9f8769dc_8141_11ea_a86d_f834410091c7row9_col13\" class=\"data row9 col13\" >213</td>\n",
       "                        <td id=\"T_9f8769dc_8141_11ea_a86d_f834410091c7row9_col14\" class=\"data row9 col14\" >111</td>\n",
       "                        <td id=\"T_9f8769dc_8141_11ea_a86d_f834410091c7row9_col15\" class=\"data row9 col15\" >2</td>\n",
       "                        <td id=\"T_9f8769dc_8141_11ea_a86d_f834410091c7row9_col16\" class=\"data row9 col16\" >0</td>\n",
       "                        <td id=\"T_9f8769dc_8141_11ea_a86d_f834410091c7row9_col17\" class=\"data row9 col17\" >0</td>\n",
       "            </tr>\n",
       "            <tr>\n",
       "                        <th id=\"T_9f8769dc_8141_11ea_a86d_f834410091c7level0_row10\" class=\"row_heading level0 row10\" >10</th>\n",
       "                        <td id=\"T_9f8769dc_8141_11ea_a86d_f834410091c7row10_col0\" class=\"data row10 col0\" >0</td>\n",
       "                        <td id=\"T_9f8769dc_8141_11ea_a86d_f834410091c7row10_col1\" class=\"data row10 col1\" >0</td>\n",
       "                        <td id=\"T_9f8769dc_8141_11ea_a86d_f834410091c7row10_col2\" class=\"data row10 col2\" >0</td>\n",
       "                        <td id=\"T_9f8769dc_8141_11ea_a86d_f834410091c7row10_col3\" class=\"data row10 col3\" >0</td>\n",
       "                        <td id=\"T_9f8769dc_8141_11ea_a86d_f834410091c7row10_col4\" class=\"data row10 col4\" >0</td>\n",
       "                        <td id=\"T_9f8769dc_8141_11ea_a86d_f834410091c7row10_col5\" class=\"data row10 col5\" >0</td>\n",
       "                        <td id=\"T_9f8769dc_8141_11ea_a86d_f834410091c7row10_col6\" class=\"data row10 col6\" >0</td>\n",
       "                        <td id=\"T_9f8769dc_8141_11ea_a86d_f834410091c7row10_col7\" class=\"data row10 col7\" >43</td>\n",
       "                        <td id=\"T_9f8769dc_8141_11ea_a86d_f834410091c7row10_col8\" class=\"data row10 col8\" >98</td>\n",
       "                        <td id=\"T_9f8769dc_8141_11ea_a86d_f834410091c7row10_col9\" class=\"data row10 col9\" >98</td>\n",
       "                        <td id=\"T_9f8769dc_8141_11ea_a86d_f834410091c7row10_col10\" class=\"data row10 col10\" >208</td>\n",
       "                        <td id=\"T_9f8769dc_8141_11ea_a86d_f834410091c7row10_col11\" class=\"data row10 col11\" >253</td>\n",
       "                        <td id=\"T_9f8769dc_8141_11ea_a86d_f834410091c7row10_col12\" class=\"data row10 col12\" >253</td>\n",
       "                        <td id=\"T_9f8769dc_8141_11ea_a86d_f834410091c7row10_col13\" class=\"data row10 col13\" >253</td>\n",
       "                        <td id=\"T_9f8769dc_8141_11ea_a86d_f834410091c7row10_col14\" class=\"data row10 col14\" >253</td>\n",
       "                        <td id=\"T_9f8769dc_8141_11ea_a86d_f834410091c7row10_col15\" class=\"data row10 col15\" >187</td>\n",
       "                        <td id=\"T_9f8769dc_8141_11ea_a86d_f834410091c7row10_col16\" class=\"data row10 col16\" >22</td>\n",
       "                        <td id=\"T_9f8769dc_8141_11ea_a86d_f834410091c7row10_col17\" class=\"data row10 col17\" >0</td>\n",
       "            </tr>\n",
       "    </tbody></table>"
      ],
      "text/plain": [
       "<pandas.io.formats.style.Styler at 0x1138d7b6988>"
      ]
     },
     "execution_count": 11,
     "metadata": {},
     "output_type": "execute_result"
    }
   ],
   "source": [
    "df = pd.DataFrame(im3_t[4:15,4:22])\n",
    "df.style.set_properties(**{'font-size':'6pt'}).background_gradient('Greys')"
   ]
  },
  {
   "cell_type": "markdown",
   "metadata": {},
   "source": [
    "## Première tentative: similarité des pixels"
   ]
  },
  {
   "cell_type": "code",
   "execution_count": 12,
   "metadata": {},
   "outputs": [
    {
     "data": {
      "text/plain": [
       "[10, 12, 14, 16, 18]"
      ]
     },
     "execution_count": 12,
     "metadata": {},
     "output_type": "execute_result"
    }
   ],
   "source": [
    "# Python syntax : list comprehensions\n",
    "[i*2 for i in range(10) if i > 4]"
   ]
  },
  {
   "cell_type": "code",
   "execution_count": 13,
   "metadata": {},
   "outputs": [
    {
     "data": {
      "text/plain": [
       "(6131, 6265)"
      ]
     },
     "execution_count": 13,
     "metadata": {},
     "output_type": "execute_result"
    }
   ],
   "source": [
    "# Ouverture de 1200 images, 15 à 30 secondes\n",
    "three_tensors = [tensor(Image.open(o)) for o in threes]\n",
    "seven_tensors = [tensor(Image.open(o)) for o in sevens]\n",
    "len(three_tensors),len(seven_tensors)"
   ]
  },
  {
   "cell_type": "code",
   "execution_count": 14,
   "metadata": {},
   "outputs": [
    {
     "data": {
      "text/plain": [
       "torch.Size([28, 28])"
      ]
     },
     "execution_count": 14,
     "metadata": {},
     "output_type": "execute_result"
    }
   ],
   "source": [
    "im3_t = three_tensors[1]\n",
    "im3_t.shape"
   ]
  },
  {
   "cell_type": "code",
   "execution_count": 15,
   "metadata": {},
   "outputs": [
    {
     "data": {
      "text/plain": [
       "<matplotlib.axes._subplots.AxesSubplot at 0x1138d93b748>"
      ]
     },
     "execution_count": 15,
     "metadata": {},
     "output_type": "execute_result"
    },
    {
     "data": {
      "image/png": "[encoded data removed]",
      "text/plain": [
       "<Figure size 72x72 with 1 Axes>"
      ]
     },
     "metadata": {
      "needs_background": "light"
     },
     "output_type": "display_data"
    }
   ],
   "source": [
    "show_image(im3_t)"
   ]
  },
  {
   "cell_type": "markdown",
   "metadata": {},
   "source": [
    "[torch.stack(tensors, dim=0, out=None) → Tensor](https://pytorch.org/docs/stable/torch.html#torch.stack)\n",
    "\n",
    "Concatenates sequence of tensors **along a new dimension**.\n",
    "All tensors need to be of the same size."
   ]
  },
  {
   "cell_type": "code",
   "execution_count": 193,
   "metadata": {},
   "outputs": [
    {
     "data": {
      "text/plain": [
       "(list, torch.Tensor, torch.Size([28, 28]))"
      ]
     },
     "execution_count": 193,
     "metadata": {},
     "output_type": "execute_result"
    }
   ],
   "source": [
    "type(three_tensors),type(three_tensors[0]),three_tensors[0].shape"
   ]
  },
  {
   "cell_type": "code",
   "execution_count": 16,
   "metadata": {},
   "outputs": [
    {
     "data": {
      "text/plain": [
       "torch.Size([6131, 28, 28])"
      ]
     },
     "execution_count": 16,
     "metadata": {},
     "output_type": "execute_result"
    }
   ],
   "source": [
    "stacked_threes = torch.stack(three_tensors).float()/255\n",
    "stacked_sevens = torch.stack(seven_tensors).float()/255\n",
    "stacked_threes.shape"
   ]
  },
  {
   "cell_type": "code",
   "execution_count": 17,
   "metadata": {},
   "outputs": [
    {
     "data": {
      "text/plain": [
       "3"
      ]
     },
     "execution_count": 17,
     "metadata": {},
     "output_type": "execute_result"
    }
   ],
   "source": [
    "len(stacked_threes.shape)"
   ]
  },
  {
   "cell_type": "code",
   "execution_count": 18,
   "metadata": {},
   "outputs": [
    {
     "data": {
      "text/plain": [
       "3"
      ]
     },
     "execution_count": 18,
     "metadata": {},
     "output_type": "execute_result"
    }
   ],
   "source": [
    "stacked_threes.ndim"
   ]
  },
  {
   "cell_type": "code",
   "execution_count": 19,
   "metadata": {},
   "outputs": [
    {
     "data": {
      "text/plain": [
       "tensor([[0.0000, 0.0000, 0.0000, 0.0000, 0.0000, 0.0000],\n",
       "        [0.0000, 0.0000, 0.0000, 0.0000, 0.0000, 0.1137],\n",
       "        [0.0000, 0.0000, 0.0000, 0.1882, 0.6510, 0.8784],\n",
       "        [0.0000, 0.3647, 0.9569, 0.9765, 0.9922, 0.7333],\n",
       "        [0.0000, 0.4196, 0.9922, 0.9922, 0.9020, 0.1882],\n",
       "        [0.0000, 0.0118, 0.0784, 0.0784, 0.0588, 0.0000]])"
      ]
     },
     "execution_count": 19,
     "metadata": {},
     "output_type": "execute_result"
    }
   ],
   "source": [
    "stacked_threes[1,4:10,4:10]"
   ]
  },
  {
   "cell_type": "code",
   "execution_count": 20,
   "metadata": {},
   "outputs": [
    {
     "data": {
      "text/plain": [
       "torch.Size([28, 28])"
      ]
     },
     "execution_count": 20,
     "metadata": {},
     "output_type": "execute_result"
    }
   ],
   "source": [
    "mean3 = stacked_threes.mean(0)\n",
    "mean3.shape"
   ]
  },
  {
   "cell_type": "code",
   "execution_count": 21,
   "metadata": {},
   "outputs": [
    {
     "data": {
      "image/png": "[encoded data removed]",
      "text/plain": [
       "<Figure size 72x72 with 1 Axes>"
      ]
     },
     "metadata": {
      "needs_background": "light"
     },
     "output_type": "display_data"
    }
   ],
   "source": [
    "show_image(mean3);"
   ]
  },
  {
   "cell_type": "code",
   "execution_count": 22,
   "metadata": {},
   "outputs": [
    {
     "data": {
      "image/png": "[encoded data removed]",
      "text/plain": [
       "<Figure size 72x72 with 1 Axes>"
      ]
     },
     "metadata": {
      "needs_background": "light"
     },
     "output_type": "display_data"
    }
   ],
   "source": [
    "mean7 = stacked_sevens.mean(0)\n",
    "show_image(mean7);"
   ]
  },
  {
   "cell_type": "code",
   "execution_count": 23,
   "metadata": {},
   "outputs": [
    {
     "data": {
      "image/png": "[encoded data removed]",
      "text/plain": [
       "<Figure size 72x72 with 1 Axes>"
      ]
     },
     "metadata": {
      "needs_background": "light"
     },
     "output_type": "display_data"
    }
   ],
   "source": [
    "a_3 = stacked_threes[1]\n",
    "show_image(a_3);"
   ]
  },
  {
   "cell_type": "markdown",
   "metadata": {},
   "source": [
    "Comment calculer l'erreur ?\n",
    "- différence pixel par pixel\n",
    "- on ne peut pas juste sommer les différences positives et négatives ...\n",
    "- norme L1 : somme des valeurs absolues, norme L2 : somme des valeurs au carré"
   ]
  },
  {
   "cell_type": "code",
   "execution_count": 24,
   "metadata": {},
   "outputs": [
    {
     "data": {
      "text/plain": [
       "(tensor(0.1114), tensor(0.2021))"
      ]
     },
     "execution_count": 24,
     "metadata": {},
     "output_type": "execute_result"
    }
   ],
   "source": [
    "dist_3_abs = (a_3 - mean3).abs().mean()\n",
    "dist_3_sqr = ((a_3 - mean3)**2).mean().sqrt()\n",
    "dist_3_abs,dist_3_sqr"
   ]
  },
  {
   "cell_type": "markdown",
   "metadata": {},
   "source": [
    "Ci-dessous :\n",
    "- opérations élément par élément entre deux tensors\n",
    "- fonctions appliquées \"element-wise\" sur un tensor"
   ]
  },
  {
   "cell_type": "code",
   "execution_count": 25,
   "metadata": {},
   "outputs": [
    {
     "data": {
      "text/plain": [
       "(tensor(0.1586), tensor(0.3021))"
      ]
     },
     "execution_count": 25,
     "metadata": {},
     "output_type": "execute_result"
    }
   ],
   "source": [
    "dist_7_abs = (a_3 - mean7).abs().mean()\n",
    "dist_7_sqr = ((a_3 - mean7)**2).mean().sqrt()\n",
    "dist_7_abs,dist_7_sqr"
   ]
  },
  {
   "cell_type": "markdown",
   "metadata": {},
   "source": [
    "Ces fonctions de mesure de l'erreur (loss functions) font déjà définie par Pytorch dans le module :\n",
    "- import torch.nn.functional as F\n",
    "- norme L1 : F.l1_loss\n",
    "- norme L2 : F.mse_loss (mean squared error)"
   ]
  },
  {
   "cell_type": "code",
   "execution_count": 26,
   "metadata": {},
   "outputs": [
    {
     "data": {
      "text/plain": [
       "(tensor(0.1586), tensor(0.3021))"
      ]
     },
     "execution_count": 26,
     "metadata": {},
     "output_type": "execute_result"
    }
   ],
   "source": [
    "F.l1_loss(a_3.float(),mean7), F.mse_loss(a_3,mean7).sqrt()"
   ]
  },
  {
   "cell_type": "markdown",
   "metadata": {},
   "source": [
    "### NumPy arrays et PyTorch tensors"
   ]
  },
  {
   "cell_type": "code",
   "execution_count": 27,
   "metadata": {},
   "outputs": [],
   "source": [
    "data = [[1,2,3],\n",
    "        [4,5,6]]\n",
    "arr = array (data)\n",
    "tns = tensor(data)"
   ]
  },
  {
   "cell_type": "code",
   "execution_count": 28,
   "metadata": {},
   "outputs": [
    {
     "data": {
      "text/plain": [
       "array([[1, 2, 3],\n",
       "       [4, 5, 6]])"
      ]
     },
     "execution_count": 28,
     "metadata": {},
     "output_type": "execute_result"
    }
   ],
   "source": [
    "arr  # numpy"
   ]
  },
  {
   "cell_type": "markdown",
   "metadata": {},
   "source": [
    "Avantages des tableaux numpy par rapport aux listes Python\n",
    "- tableaux de tableaux de différentes tailles\n",
    "- CPU uniquement\n",
    "- exécution 10 000 x plus rapide que Python : algorithmes C optimisés, parallélisme"
   ]
  },
  {
   "cell_type": "code",
   "execution_count": 29,
   "metadata": {},
   "outputs": [
    {
     "data": {
      "text/plain": [
       "tensor([[1, 2, 3],\n",
       "        [4, 5, 6]])"
      ]
     },
     "execution_count": 29,
     "metadata": {},
     "output_type": "execute_result"
    }
   ],
   "source": [
    "tns  # pytorch"
   ]
  },
  {
   "cell_type": "markdown",
   "metadata": {},
   "source": [
    "Caractéristiques des tensors PyTorch\n",
    "- tableaux réguliers uniquement\n",
    "- CPU et GPU\n",
    "- exécution 1 000 000 x plus rapide que Python : algorithmes Cuda optimisés, parallélisme massif\n",
    "- calcul automatique des dérivées des fonctions appliquées (cf plus bas)"
   ]
  },
  {
   "cell_type": "markdown",
   "metadata": {},
   "source": [
    "Indexing & Slicing :"
   ]
  },
  {
   "cell_type": "code",
   "execution_count": 30,
   "metadata": {},
   "outputs": [
    {
     "data": {
      "text/plain": [
       "tensor([4, 5, 6])"
      ]
     },
     "execution_count": 30,
     "metadata": {},
     "output_type": "execute_result"
    }
   ],
   "source": [
    "# 1ère ligne\n",
    "tns[1]"
   ]
  },
  {
   "cell_type": "code",
   "execution_count": 31,
   "metadata": {},
   "outputs": [
    {
     "data": {
      "text/plain": [
       "tensor([2, 5])"
      ]
     },
     "execution_count": 31,
     "metadata": {},
     "output_type": "execute_result"
    }
   ],
   "source": [
    "# 1ère colonne\n",
    "tns[:,1]"
   ]
  },
  {
   "cell_type": "code",
   "execution_count": 32,
   "metadata": {},
   "outputs": [
    {
     "data": {
      "text/plain": [
       "tensor([5, 6])"
      ]
     },
     "execution_count": 32,
     "metadata": {},
     "output_type": "execute_result"
    }
   ],
   "source": [
    "# 1ère ligne, 2ème et 3ème colonnes\n",
    "tns[1,1:3]"
   ]
  },
  {
   "cell_type": "code",
   "execution_count": 33,
   "metadata": {},
   "outputs": [
    {
     "data": {
      "text/plain": [
       "tensor([[2, 3, 4],\n",
       "        [5, 6, 7]])"
      ]
     },
     "execution_count": 33,
     "metadata": {},
     "output_type": "execute_result"
    }
   ],
   "source": [
    "# Opérations element-wise\n",
    "tns+1"
   ]
  },
  {
   "cell_type": "code",
   "execution_count": 34,
   "metadata": {},
   "outputs": [
    {
     "data": {
      "text/plain": [
       "'torch.LongTensor'"
      ]
     },
     "execution_count": 34,
     "metadata": {},
     "output_type": "execute_result"
    }
   ],
   "source": [
    "tns.type()"
   ]
  },
  {
   "cell_type": "code",
   "execution_count": 35,
   "metadata": {},
   "outputs": [
    {
     "data": {
      "text/plain": [
       "tensor([[1.5000, 3.0000, 4.5000],\n",
       "        [6.0000, 7.5000, 9.0000]])"
      ]
     },
     "execution_count": 35,
     "metadata": {},
     "output_type": "execute_result"
    }
   ],
   "source": [
    "tns*1.5"
   ]
  },
  {
   "cell_type": "markdown",
   "metadata": {},
   "source": [
    "## Calculer des métriques efficacement en utilisant le broadcasting"
   ]
  },
  {
   "cell_type": "code",
   "execution_count": 36,
   "metadata": {},
   "outputs": [
    {
     "data": {
      "text/plain": [
       "(torch.Size([6131, 28, 28]), torch.Size([6265, 28, 28]))"
      ]
     },
     "execution_count": 36,
     "metadata": {},
     "output_type": "execute_result"
    }
   ],
   "source": [
    "# Images - training set\n",
    "train_3_tens=stacked_threes\n",
    "train_7_tens=stacked_sevens\n",
    "train_3_tens.shape,train_7_tens.shape"
   ]
  },
  {
   "cell_type": "code",
   "execution_count": 37,
   "metadata": {},
   "outputs": [
    {
     "data": {
      "text/plain": [
       "(torch.Size([1010, 28, 28]), torch.Size([1028, 28, 28]))"
      ]
     },
     "execution_count": 37,
     "metadata": {},
     "output_type": "execute_result"
    }
   ],
   "source": [
    "# Images - validation set\n",
    "valid_3_tens = torch.stack([tensor(Image.open(o)) for o in (path/'valid'/'3').ls()])\n",
    "valid_3_tens = valid_3_tens.float()/255\n",
    "valid_7_tens = torch.stack([tensor(Image.open(o)) for o in (path/'valid'/'7').ls()])\n",
    "valid_7_tens = valid_7_tens.float()/255\n",
    "valid_3_tens.shape,valid_7_tens.shape"
   ]
  },
  {
   "cell_type": "code",
   "execution_count": 38,
   "metadata": {},
   "outputs": [],
   "source": [
    "def mnist_distance(a,b): \n",
    "    return (a-b).abs().mean((-1,-2))"
   ]
  },
  {
   "cell_type": "code",
   "execution_count": 39,
   "metadata": {},
   "outputs": [
    {
     "data": {
      "text/plain": [
       "tensor(0.1114)"
      ]
     },
     "execution_count": 39,
     "metadata": {},
     "output_type": "execute_result"
    }
   ],
   "source": [
    "mnist_distance(a_3, mean3)"
   ]
  },
  {
   "cell_type": "code",
   "execution_count": 40,
   "metadata": {},
   "outputs": [
    {
     "data": {
      "text/plain": [
       "(torch.Size([28, 28]), torch.Size([28, 28]))"
      ]
     },
     "execution_count": 40,
     "metadata": {},
     "output_type": "execute_result"
    }
   ],
   "source": [
    "a_3.shape,mean3.shape"
   ]
  },
  {
   "cell_type": "code",
   "execution_count": 41,
   "metadata": {},
   "outputs": [],
   "source": [
    "valid_3_dist = mnist_distance(valid_3_tens, mean3)"
   ]
  },
  {
   "cell_type": "code",
   "execution_count": 42,
   "metadata": {},
   "outputs": [
    {
     "data": {
      "text/plain": [
       "(torch.Size([1010, 28, 28]), torch.Size([28, 28]))"
      ]
     },
     "execution_count": 42,
     "metadata": {},
     "output_type": "execute_result"
    }
   ],
   "source": [
    "valid_3_tens.shape, mean3.shape"
   ]
  },
  {
   "cell_type": "code",
   "execution_count": 43,
   "metadata": {},
   "outputs": [
    {
     "data": {
      "text/plain": [
       "(torch.Size([1010]),\n",
       " tensor([0.1280, 0.1623, 0.1242,  ..., 0.1508, 0.1263, 0.1260]))"
      ]
     },
     "execution_count": 43,
     "metadata": {},
     "output_type": "execute_result"
    }
   ],
   "source": [
    "valid_3_dist.shape, valid_3_dist"
   ]
  },
  {
   "cell_type": "code",
   "execution_count": 44,
   "metadata": {},
   "outputs": [
    {
     "data": {
      "text/plain": [
       "tensor([2, 3, 4])"
      ]
     },
     "execution_count": 44,
     "metadata": {},
     "output_type": "execute_result"
    }
   ],
   "source": [
    "tensor([1,2,3]) + tensor([1])"
   ]
  },
  {
   "cell_type": "code",
   "execution_count": 45,
   "metadata": {},
   "outputs": [
    {
     "data": {
      "text/plain": [
       "tensor([2, 3, 4])"
      ]
     },
     "execution_count": 45,
     "metadata": {},
     "output_type": "execute_result"
    }
   ],
   "source": [
    "tensor([1,2,3]) + tensor([1,1,1])"
   ]
  },
  {
   "cell_type": "code",
   "execution_count": 46,
   "metadata": {},
   "outputs": [
    {
     "data": {
      "text/plain": [
       "torch.Size([1010, 28, 28])"
      ]
     },
     "execution_count": 46,
     "metadata": {},
     "output_type": "execute_result"
    }
   ],
   "source": [
    "(valid_3_tens-mean3).shape"
   ]
  },
  {
   "cell_type": "markdown",
   "metadata": {},
   "source": [
    "**Règles du broadcasting** dans numpy et PyTorch :\n",
    "1. Si les tableaux n'ont pas le même rang, préfixer la forme du tableau de rang inférieur avec des 1 jusqu'à ce que les deux formes aient la même longueur.\n",
    "2. Les deux tableaux sont compatibles dans une dimension :\n",
    "   - s'ils ont la même taille dans la dimension\n",
    "   - ou si l'un des tableaux a la taille 1 dans cette dimension.\n",
    "3. Chaque tableau se comporte comme s'il avait une forme égale au maximum des formes des deux tableaux d'entrée. Dans toute dimension où un tableau a une taille de 1 et l'autre tableau a une taille supérieure à 1, le premier tableau se comporte comme s'il était copié dans cette dimension."
   ]
  },
  {
   "cell_type": "markdown",
   "metadata": {},
   "source": [
    "**Comparaison de performance**"
   ]
  },
  {
   "cell_type": "code",
   "execution_count": 47,
   "metadata": {},
   "outputs": [],
   "source": [
    "def mnist_distance_python():\n",
    "    distances = L()\n",
    "    for img_index in range(valid_3_tens.shape[0]):\n",
    "        img_tens = valid_3_tens[img_index]\n",
    "        differences = []\n",
    "        for x in range(img_tens.shape[0]):\n",
    "            for y in range(img_tens.shape[1]):\n",
    "                differences.append(img_tens[x,y]-mean3[x,y])\n",
    "        dist = 0\n",
    "        for diff in differences:\n",
    "            dist = dist + abs(diff)\n",
    "        mean = dist/len(differences)\n",
    "        distances.append(mean)\n",
    "    return distances"
   ]
  },
  {
   "cell_type": "code",
   "execution_count": 48,
   "metadata": {},
   "outputs": [
    {
     "name": "stdout",
     "output_type": "stream",
     "text": [
      "Wall time: 36.4 s\n"
     ]
    },
    {
     "data": {
      "text/plain": [
       "(#1010) [tensor(0.1280),tensor(0.1623),tensor(0.1242),tensor(0.1469),tensor(0.1202),tensor(0.1188),tensor(0.1700),tensor(0.1266),tensor(0.1337),tensor(0.1183)...]"
      ]
     },
     "execution_count": 48,
     "metadata": {},
     "output_type": "execute_result"
    }
   ],
   "source": [
    "%time mnist_distance_python()"
   ]
  },
  {
   "cell_type": "code",
   "execution_count": 49,
   "metadata": {},
   "outputs": [],
   "source": [
    "def mnist_distance(a,b): return (a-b).abs().mean((-1,-2))"
   ]
  },
  {
   "cell_type": "code",
   "execution_count": 55,
   "metadata": {},
   "outputs": [
    {
     "name": "stdout",
     "output_type": "stream",
     "text": [
      "Wall time: 4.46 ms\n"
     ]
    },
    {
     "data": {
      "text/plain": [
       "tensor([0.1280, 0.1623, 0.1242,  ..., 0.1508, 0.1263, 0.1260])"
      ]
     },
     "execution_count": 55,
     "metadata": {},
     "output_type": "execute_result"
    }
   ],
   "source": [
    "%time mnist_distance(valid_3_tens, mean3)"
   ]
  },
  {
   "cell_type": "markdown",
   "metadata": {},
   "source": [
    "Pytorch broadcasting :\n",
    "- 1 ligne de code flexible (forme des données passées) vs 13 lignes de code non adaptables\n",
    "- déjà **10 000 x plus rapide** sur CPU"
   ]
  },
  {
   "cell_type": "markdown",
   "metadata": {},
   "source": [
    "Prédiction du résultat :"
   ]
  },
  {
   "cell_type": "code",
   "execution_count": 51,
   "metadata": {},
   "outputs": [],
   "source": [
    "def is_3(x): return mnist_distance(x,mean3) < mnist_distance(x,mean7)"
   ]
  },
  {
   "cell_type": "code",
   "execution_count": 52,
   "metadata": {},
   "outputs": [
    {
     "data": {
      "text/plain": [
       "(tensor(True), tensor(1.))"
      ]
     },
     "execution_count": 52,
     "metadata": {},
     "output_type": "execute_result"
    }
   ],
   "source": [
    "is_3(a_3), is_3(a_3).float()"
   ]
  },
  {
   "cell_type": "code",
   "execution_count": 53,
   "metadata": {},
   "outputs": [
    {
     "name": "stdout",
     "output_type": "stream",
     "text": [
      "Wall time: 7.98 ms\n"
     ]
    },
    {
     "data": {
      "text/plain": [
       "tensor([ True,  True,  True,  ..., False,  True,  True])"
      ]
     },
     "execution_count": 53,
     "metadata": {},
     "output_type": "execute_result"
    }
   ],
   "source": [
    "%time is_3(valid_3_tens)"
   ]
  },
  {
   "cell_type": "markdown",
   "metadata": {},
   "source": [
    "Métrique **accuracy** : sur 100 prédictions, combien de fois la prédiction est-elle conforme au label attendu ?"
   ]
  },
  {
   "cell_type": "code",
   "execution_count": 54,
   "metadata": {},
   "outputs": [
    {
     "data": {
      "text/plain": [
       "(tensor(0.9168), tensor(0.9854), tensor(0.9511))"
      ]
     },
     "execution_count": 54,
     "metadata": {},
     "output_type": "execute_result"
    }
   ],
   "source": [
    "accuracy_3s =      is_3(valid_3_tens).float() .mean()\n",
    "accuracy_7s = (1 - is_3(valid_7_tens).float()).mean()\n",
    "\n",
    "accuracy_3s,accuracy_7s,(accuracy_3s+accuracy_7s)/2"
   ]
  },
  {
   "cell_type": "markdown",
   "metadata": {},
   "source": [
    "Importance d'une **baseline** simple : cette approche nous donne déjà un résultat correct dans 95% des cas.\n",
    "\n",
    "Attention, nous n'avions que deux chiffres bien différents à distinguer ..."
   ]
  },
  {
   "cell_type": "markdown",
   "metadata": {},
   "source": [
    "## Stochastic Gradient Descent (SGD)"
   ]
  },
  {
   "cell_type": "code",
   "execution_count": 75,
   "metadata": {},
   "outputs": [],
   "source": [
    "# Utilitaire\n",
    "def plot_function(f, tx=None, ty=None, title=None, min=-2, max=2, figsize=(6,4)):\n",
    "    x = torch.linspace(min,max)\n",
    "    fig,ax = plt.subplots(figsize=figsize)\n",
    "    ax.plot(x,f(x))\n",
    "    if tx is not None: ax.set_xlabel(tx)\n",
    "    if ty is not None: ax.set_ylabel(ty)\n",
    "    if title is not None: ax.set_title(title)"
   ]
  },
  {
   "cell_type": "markdown",
   "metadata": {},
   "source": [
    "Appliquons le principe du machine learning sur un cas simple d'abord.\n",
    "\n",
    "L'objectif est de **modifier progressivement les paramètres du modèle** pour **réduire l'erreur de prédiction**.\n",
    "\n",
    "On représente ci-dessous une vision simplifiée dont l'erreur de prédiction peut varier en fonction d'un paramètre x à ajuster."
   ]
  },
  {
   "cell_type": "code",
   "execution_count": 89,
   "metadata": {},
   "outputs": [],
   "source": [
    "def loss_function(x): return x**2"
   ]
  },
  {
   "cell_type": "code",
   "execution_count": 90,
   "metadata": {},
   "outputs": [
    {
     "data": {
      "image/png": "[encoded data removed]",
      "text/plain": [
       "<Figure size 432x288 with 1 Axes>"
      ]
     },
     "metadata": {
      "needs_background": "light"
     },
     "output_type": "display_data"
    }
   ],
   "source": [
    "plot_function(loss_function, 'x', 'erreur')"
   ]
  },
  {
   "cell_type": "markdown",
   "metadata": {},
   "source": [
    "A la fin de l'itération précédente, le paramètre x vaut -1,5.\n",
    "- faut-il l'augmenter (point vert) ou le réduire (point rouge) pour faire diminuer l'erreur de prédiction à l'itération suivante ?\n",
    "- de combien faut-il l'augmenter ou le réduire pour se rapprocher du minimum ?\n",
    "\n",
    "Nous avons besoin de savoir comment varie l'erreur de prédiction si on modifie légèrement le paramètre autour de la valeur -1.5."
   ]
  },
  {
   "cell_type": "code",
   "execution_count": 94,
   "metadata": {},
   "outputs": [
    {
     "data": {
      "text/plain": [
       "2.25"
      ]
     },
     "execution_count": 94,
     "metadata": {},
     "output_type": "execute_result"
    }
   ],
   "source": [
    "x_val = -1.5\n",
    "error_val = loss_function(x_val)\n",
    "error_val"
   ]
  },
  {
   "cell_type": "code",
   "execution_count": 92,
   "metadata": {},
   "outputs": [
    {
     "data": {
      "text/plain": [
       "(-1.6, -1.5, -1.4)"
      ]
     },
     "execution_count": 92,
     "metadata": {},
     "output_type": "execute_result"
    }
   ],
   "source": [
    "epsilon = 0.1\n",
    "x_val_plus = x_val+epsilon\n",
    "x_val_minus = x_val-epsilon\n",
    "x_val_minus,x_val,x_val_plus"
   ]
  },
  {
   "cell_type": "code",
   "execution_count": 93,
   "metadata": {},
   "outputs": [
    {
     "data": {
      "text/plain": [
       "(2.5600000000000005, 2.25, 1.9599999999999997)"
      ]
     },
     "execution_count": 93,
     "metadata": {},
     "output_type": "execute_result"
    }
   ],
   "source": [
    "error_val_plus = loss_function(x_val_plus)\n",
    "error_val_minus = loss_function(x_val_minus)\n",
    "error_val_minus,error_val,error_val_plus"
   ]
  },
  {
   "cell_type": "code",
   "execution_count": 95,
   "metadata": {},
   "outputs": [
    {
     "data": {
      "image/png": "[encoded data removed]",
      "text/plain": [
       "<Figure size 432x288 with 1 Axes>"
      ]
     },
     "metadata": {
      "needs_background": "light"
     },
     "output_type": "display_data"
    }
   ],
   "source": [
    "plot_function(f, 'x', 'erreur')\n",
    "plt.scatter(x_val, error_val, color='black');\n",
    "plt.scatter(x_val_minus, error_val_minus, color='red');\n",
    "plt.scatter(x_val_plus, error_val_plus, color='green');"
   ]
  },
  {
   "cell_type": "code",
   "execution_count": 99,
   "metadata": {},
   "outputs": [
    {
     "data": {
      "text/plain": [
       "-3.000000000000001"
      ]
     },
     "execution_count": 99,
     "metadata": {},
     "output_type": "execute_result"
    }
   ],
   "source": [
    "error_variation_when_x_changes = (error_val_plus - error_val_minus)/(x_val_plus - x_val_minus)\n",
    "error_variation_when_x_changes"
   ]
  },
  {
   "cell_type": "markdown",
   "metadata": {},
   "source": [
    "### Itérations (steps) pas à pas (learning rate)"
   ]
  },
  {
   "cell_type": "code",
   "execution_count": 107,
   "metadata": {},
   "outputs": [
    {
     "data": {
      "text/plain": [
       "(-1.5, -0.5999999999999998)"
      ]
     },
     "execution_count": 107,
     "metadata": {},
     "output_type": "execute_result"
    }
   ],
   "source": [
    "learning_rate = 0.3\n",
    "x_better_val = x_val - (error_variation_when_x_changes * learning_rate)\n",
    "x_val,x_better_val"
   ]
  },
  {
   "cell_type": "code",
   "execution_count": 108,
   "metadata": {},
   "outputs": [
    {
     "data": {
      "text/plain": [
       "(2.25, 0.3599999999999997)"
      ]
     },
     "execution_count": 108,
     "metadata": {},
     "output_type": "execute_result"
    }
   ],
   "source": [
    "error_better_val = loss_function(x_better_val)\n",
    "error_val,error_better_val"
   ]
  },
  {
   "cell_type": "markdown",
   "metadata": {},
   "source": [
    "Programme automatique pour trouver la valeur du paramètre x qui minimise l'erreur observée :"
   ]
  },
  {
   "cell_type": "code",
   "execution_count": 120,
   "metadata": {},
   "outputs": [],
   "source": [
    "def train_parameter(iterations_count=10, learning_rate=0.1):\n",
    "    plot_function(f, 'x', 'erreur')\n",
    "\n",
    "    # random init\n",
    "    x = -2.    \n",
    "    # initial error value\n",
    "    error = loss_function(x)\n",
    "    # plot starting point\n",
    "    plt.scatter(x, error, color='black');\n",
    "\n",
    "    for iteration in range(iterations_count):\n",
    "        x_p = x + 0.01\n",
    "        x_m = x - 0.01\n",
    "        error_p = loss_function(x_p)\n",
    "        error_m = loss_function(x_m)\n",
    "        error_variation_when_x_changes = (error_p - error_m)/(x_p - x_m)\n",
    "        x = x - (error_variation_when_x_changes * learning_rate)\n",
    "        error = loss_function(x)\n",
    "        # display current results\n",
    "        print(f\"#{iteration} : loss = {error:.3f}\")\n",
    "        plt.scatter(x, error, color='black');\n",
    "        \n",
    "    return x, error"
   ]
  },
  {
   "cell_type": "code",
   "execution_count": 121,
   "metadata": {},
   "outputs": [
    {
     "name": "stdout",
     "output_type": "stream",
     "text": [
      "#0 : loss = 2.560\n",
      "#1 : loss = 1.638\n",
      "#2 : loss = 1.049\n",
      "#3 : loss = 0.671\n",
      "#4 : loss = 0.429\n",
      "#5 : loss = 0.275\n",
      "#6 : loss = 0.176\n",
      "#7 : loss = 0.113\n",
      "#8 : loss = 0.072\n",
      "#9 : loss = 0.046\n"
     ]
    },
    {
     "data": {
      "text/plain": [
       "(-0.21474836480000026, 0.04611686018427399)"
      ]
     },
     "execution_count": 121,
     "metadata": {},
     "output_type": "execute_result"
    },
    {
     "data": {
      "image/png": "[encoded data removed]",
      "text/plain": [
       "<Figure size 432x288 with 1 Axes>"
      ]
     },
     "metadata": {
      "needs_background": "light"
     },
     "output_type": "display_data"
    }
   ],
   "source": [
    "train_parameter()"
   ]
  },
  {
   "cell_type": "code",
   "execution_count": 124,
   "metadata": {},
   "outputs": [
    {
     "name": "stdout",
     "output_type": "stream",
     "text": [
      "#0 : loss = 2.560\n",
      "#1 : loss = 1.638\n",
      "#2 : loss = 1.049\n",
      "#3 : loss = 0.671\n",
      "#4 : loss = 0.429\n",
      "#5 : loss = 0.275\n",
      "#6 : loss = 0.176\n",
      "#7 : loss = 0.113\n",
      "#8 : loss = 0.072\n",
      "#9 : loss = 0.046\n",
      "#10 : loss = 0.030\n",
      "#11 : loss = 0.019\n",
      "#12 : loss = 0.012\n",
      "#13 : loss = 0.008\n",
      "#14 : loss = 0.005\n",
      "#15 : loss = 0.003\n",
      "#16 : loss = 0.002\n",
      "#17 : loss = 0.001\n",
      "#18 : loss = 0.001\n",
      "#19 : loss = 0.001\n"
     ]
    },
    {
     "data": {
      "text/plain": [
       "(-0.023058430092136956, 0.0005316911983139671)"
      ]
     },
     "execution_count": 124,
     "metadata": {},
     "output_type": "execute_result"
    },
    {
     "data": {
      "image/png": "[encoded data removed]",
      "text/plain": [
       "<Figure size 432x288 with 1 Axes>"
      ]
     },
     "metadata": {
      "needs_background": "light"
     },
     "output_type": "display_data"
    }
   ],
   "source": [
    "train_parameter(iterations_count=20)"
   ]
  },
  {
   "cell_type": "code",
   "execution_count": 131,
   "metadata": {},
   "outputs": [
    {
     "name": "stdout",
     "output_type": "stream",
     "text": [
      "#0 : loss = 0.640\n",
      "#1 : loss = 0.102\n",
      "#2 : loss = 0.016\n",
      "#3 : loss = 0.003\n",
      "#4 : loss = 0.000\n"
     ]
    },
    {
     "data": {
      "text/plain": [
       "(-0.020480000000000075, 0.00041943040000000305)"
      ]
     },
     "execution_count": 131,
     "metadata": {},
     "output_type": "execute_result"
    },
    {
     "data": {
      "image/png": "[encoded data removed]",
      "text/plain": [
       "<Figure size 432x288 with 1 Axes>"
      ]
     },
     "metadata": {
      "needs_background": "light"
     },
     "output_type": "display_data"
    }
   ],
   "source": [
    "train_parameter(iterations_count=5,learning_rate=0.3)"
   ]
  },
  {
   "cell_type": "code",
   "execution_count": 129,
   "metadata": {},
   "outputs": [
    {
     "name": "stdout",
     "output_type": "stream",
     "text": [
      "#0 : loss = 5.760\n",
      "#1 : loss = 8.294\n",
      "#2 : loss = 11.944\n",
      "#3 : loss = 17.199\n",
      "#4 : loss = 24.767\n",
      "#5 : loss = 35.664\n",
      "#6 : loss = 51.357\n",
      "#7 : loss = 73.954\n",
      "#8 : loss = 106.493\n",
      "#9 : loss = 153.350\n"
     ]
    },
    {
     "data": {
      "text/plain": [
       "(-12.383472844799353, 153.35039969788298)"
      ]
     },
     "execution_count": 129,
     "metadata": {},
     "output_type": "execute_result"
    },
    {
     "data": {
      "image/png": "[encoded data removed]",
      "text/plain": [
       "<Figure size 432x288 with 1 Axes>"
      ]
     },
     "metadata": {
      "needs_background": "light"
     },
     "output_type": "display_data"
    }
   ],
   "source": [
    "train_parameter(learning_rate=1.1)"
   ]
  },
  {
   "cell_type": "markdown",
   "metadata": {},
   "source": [
    "### Gradient"
   ]
  },
  {
   "cell_type": "markdown",
   "metadata": {},
   "source": [
    "Comme dans l'exemple ci-dessus, on peut essayer d'augmenter ou diminuer chaque paramètre à tour de rôle, puis tout recalculer et voir comment l'erreur évolue : ça fonctionne mais c'est évidemment beaucoup trop lent en pratique si on a une fonction de prédiction avec des millions de paramètres.\n",
    "\n",
    "Dans le cadre du deep learning, on restreint en pratique le domaine recherche d'une fonction de prédiction infiniment flexible aux fonctions mathématiques *dérivables*, et on calcule la *dérivée partielle* de la fonction de mesure de l'erreur (loss function) par rapport à chacun de ses paramètres pour savoir comment les mettre à jour.\n",
    "\n",
    "Dans ce contexte, on appelle **gradient** l'ensemble des valeurs des dérivées partielles de la fonction de mesure de l'erreur par rapport à la valeur actuelle des paramètrès du modèle.\n",
    "\n",
    "Si vous avez oublié vos cours de lycée sur la dérivation des fonctions, ce n'est pas un problème : on va voir que le rôle de PyTorch est justement de calculer le gradient de la fonction de coût automatiquement."
   ]
  },
  {
   "cell_type": "code",
   "execution_count": 144,
   "metadata": {},
   "outputs": [],
   "source": [
    "x_val = tensor(-1.5).requires_grad_()"
   ]
  },
  {
   "cell_type": "code",
   "execution_count": 145,
   "metadata": {},
   "outputs": [
    {
     "data": {
      "text/plain": [
       "tensor(2.2500, grad_fn=<PowBackward0>)"
      ]
     },
     "execution_count": 145,
     "metadata": {},
     "output_type": "execute_result"
    }
   ],
   "source": [
    "error_val = loss_function(x_val)\n",
    "error_val"
   ]
  },
  {
   "cell_type": "code",
   "execution_count": 146,
   "metadata": {},
   "outputs": [],
   "source": [
    "# Calcul du gradient\n",
    "error_val.backward()"
   ]
  },
  {
   "cell_type": "code",
   "execution_count": 147,
   "metadata": {},
   "outputs": [
    {
     "data": {
      "text/plain": [
       "tensor(-3.)"
      ]
     },
     "execution_count": 147,
     "metadata": {},
     "output_type": "execute_result"
    }
   ],
   "source": [
    "# Récupération du gradient sur chaque paramètre\n",
    "x_val.grad"
   ]
  },
  {
   "cell_type": "markdown",
   "metadata": {},
   "source": [
    "On retrouve ici directement la valeur \"error_variation_when_x_changes\" sans avoir à réévaluer le modèle et la fonction de mesure de l'erreur trois fois."
   ]
  },
  {
   "cell_type": "code",
   "execution_count": 148,
   "metadata": {},
   "outputs": [
    {
     "data": {
      "text/plain": [
       "tensor([ 3.,  4., 10.], requires_grad=True)"
      ]
     },
     "execution_count": 148,
     "metadata": {},
     "output_type": "execute_result"
    }
   ],
   "source": [
    "xs_val = tensor([3.,4.,10.]).requires_grad_()\n",
    "xs_val"
   ]
  },
  {
   "cell_type": "markdown",
   "metadata": {},
   "source": [
    "Exemple similaire, mais cette fois avec une fonction de plusieurs paramètres :"
   ]
  },
  {
   "cell_type": "code",
   "execution_count": 153,
   "metadata": {},
   "outputs": [
    {
     "data": {
      "text/plain": [
       "tensor(125., grad_fn=<SumBackward0>)"
      ]
     },
     "execution_count": 153,
     "metadata": {},
     "output_type": "execute_result"
    }
   ],
   "source": [
    "def loss_func_vec(xs): return (xs**2).sum()\n",
    "\n",
    "error_vec_val = loss_func_vec(xs_val)\n",
    "error_vec_val"
   ]
  },
  {
   "cell_type": "code",
   "execution_count": 154,
   "metadata": {},
   "outputs": [
    {
     "data": {
      "text/plain": [
       "tensor([12., 16., 40.])"
      ]
     },
     "execution_count": 154,
     "metadata": {},
     "output_type": "execute_result"
    }
   ],
   "source": [
    "error_vec_val.backward()\n",
    "xs_val.grad"
   ]
  },
  {
   "cell_type": "markdown",
   "metadata": {},
   "source": [
    "IMPORTANT : utiliser Pytorch nécessite un changement de perspective => la dérivée / le gradient ne travaillent pas sur des fonctions, mais directement sur des variables qui ont une valeur. On ne calcule pas la fonction dérivée en général, mais sa valeur en un point précis."
   ]
  },
  {
   "cell_type": "markdown",
   "metadata": {},
   "source": [
    "### Exemple de SGD de bout en bout"
   ]
  },
  {
   "cell_type": "markdown",
   "metadata": {},
   "source": [
    "Retour sur l'exemple de prédiction de la vitesse d'un wagon de grand huit en fonction du temps.\n",
    "\n",
    "On génère ci-dessous des données de mesure fictive de ce phénomène."
   ]
  },
  {
   "cell_type": "code",
   "execution_count": 155,
   "metadata": {},
   "outputs": [
    {
     "data": {
      "text/plain": [
       "tensor([ 0.,  1.,  2.,  3.,  4.,  5.,  6.,  7.,  8.,  9., 10., 11., 12., 13.,\n",
       "        14., 15., 16., 17., 18., 19.])"
      ]
     },
     "execution_count": 155,
     "metadata": {},
     "output_type": "execute_result"
    }
   ],
   "source": [
    "time = torch.arange(0,20).float(); time"
   ]
  },
  {
   "cell_type": "code",
   "execution_count": 161,
   "metadata": {},
   "outputs": [
    {
     "data": {
      "text/plain": [
       "(tensor([-0.0979, -0.0635, -0.0535,  0.7813, -0.0706,  0.1595, -0.1556,  1.5899,\n",
       "          1.7567, -0.1262, -1.5276, -0.2620, -0.7876, -0.8350, -0.8353, -0.0914,\n",
       "         -0.1685, -0.0819,  0.2114,  0.5367]),\n",
       " tensor(-0.0060),\n",
       " tensor(0.7645))"
      ]
     },
     "execution_count": 161,
     "metadata": {},
     "output_type": "execute_result"
    }
   ],
   "source": [
    "# Introduction d'erreurs de mesures aléatoires pour avoir des données réalistes\n",
    "# Distribution normale : moyenne 0 / écart type 1\n",
    "measure_errors = torch.randn(20)\n",
    "measure_errors, measure_errors.mean(), measure_errors.std()"
   ]
  },
  {
   "cell_type": "code",
   "execution_count": 162,
   "metadata": {},
   "outputs": [
    {
     "data": {
      "image/png": "[encoded data removed]",
      "text/plain": [
       "<Figure size 432x288 with 1 Axes>"
      ]
     },
     "metadata": {
      "needs_background": "light"
     },
     "output_type": "display_data"
    }
   ],
   "source": [
    "speed = torch.randn(20)*3 + 0.75*(time-9.5)**2 + 1\n",
    "plt.scatter(time,speed);"
   ]
  },
  {
   "cell_type": "markdown",
   "metadata": {},
   "source": [
    "On suppose ci-dessous que la formule de calcul de la vitesse en fonction du temps n'est pas connue.\n",
    "\n",
    "On essaie de l'approximer avec une fonction mathématique de la forme : vitesse(temps) = a * temps^2 + b * temps + c.\n",
    "\n",
    "On va essayer de trouver les paramètres a,b,c qui permettent de mnimiser l'erreur de prédiction sur les points de mesure fictifs générés plus haut."
   ]
  },
  {
   "cell_type": "code",
   "execution_count": 163,
   "metadata": {},
   "outputs": [],
   "source": [
    "def model(time, params):\n",
    "    a,b,c = params\n",
    "    return a*(time**2) + (b*time) + c"
   ]
  },
  {
   "cell_type": "code",
   "execution_count": 164,
   "metadata": {},
   "outputs": [],
   "source": [
    "def mean_squared_error(preds, targets): return ((preds-targets)**2).mean()"
   ]
  },
  {
   "cell_type": "code",
   "execution_count": 166,
   "metadata": {},
   "outputs": [],
   "source": [
    "# Initialisation de 3 paramètres a,b,c au hasard\n",
    "params = torch.randn(3).requires_grad_()"
   ]
  },
  {
   "cell_type": "code",
   "execution_count": 167,
   "metadata": {},
   "outputs": [],
   "source": [
    "# Calcul des prédictions avec cette valeur initiale des paramètres\n",
    "preds = model(time, params)"
   ]
  },
  {
   "cell_type": "markdown",
   "metadata": {},
   "source": [
    "En bleu, la vitesse mesurée, en rouge la vitesse prédite :"
   ]
  },
  {
   "cell_type": "code",
   "execution_count": 170,
   "metadata": {},
   "outputs": [],
   "source": [
    "def show_preds(preds, ax=None):\n",
    "    if ax is None: ax=plt.subplots()[1]\n",
    "    ax.scatter(time, speed)\n",
    "    ax.scatter(time, to_np(preds), color='red')\n",
    "    ax.set_ylim(-300,100)"
   ]
  },
  {
   "cell_type": "code",
   "execution_count": 171,
   "metadata": {},
   "outputs": [
    {
     "data": {
      "image/png": "[encoded data removed]",
      "text/plain": [
       "<Figure size 432x288 with 1 Axes>"
      ]
     },
     "metadata": {
      "needs_background": "light"
     },
     "output_type": "display_data"
    }
   ],
   "source": [
    "show_preds(preds)"
   ]
  },
  {
   "cell_type": "code",
   "execution_count": 172,
   "metadata": {},
   "outputs": [
    {
     "data": {
      "text/plain": [
       "tensor(19456.7695, grad_fn=<MeanBackward0>)"
      ]
     },
     "execution_count": 172,
     "metadata": {},
     "output_type": "execute_result"
    }
   ],
   "source": [
    "# Calcul de l'erreur\n",
    "loss = mean_squared_error(preds, speed)\n",
    "loss"
   ]
  },
  {
   "cell_type": "code",
   "execution_count": 173,
   "metadata": {},
   "outputs": [
    {
     "data": {
      "text/plain": [
       "tensor([45999.6914,  2945.3848,   182.0449])"
      ]
     },
     "execution_count": 173,
     "metadata": {},
     "output_type": "execute_result"
    }
   ],
   "source": [
    "# Calcul automatique du gradient par Pytorch pour chacun des trois paramètres\n",
    "loss.backward()\n",
    "params.grad"
   ]
  },
  {
   "cell_type": "code",
   "execution_count": 175,
   "metadata": {},
   "outputs": [
    {
     "data": {
      "text/plain": [
       "tensor([ 0.9974, -0.6020,  0.4083], requires_grad=True)"
      ]
     },
     "execution_count": 175,
     "metadata": {},
     "output_type": "execute_result"
    }
   ],
   "source": [
    "params"
   ]
  },
  {
   "cell_type": "code",
   "execution_count": 176,
   "metadata": {},
   "outputs": [
    {
     "data": {
      "text/plain": [
       "tensor([0.4600, 0.0295, 0.0018])"
      ]
     },
     "execution_count": 176,
     "metadata": {},
     "output_type": "execute_result"
    }
   ],
   "source": [
    "params.grad * 1e-5"
   ]
  },
  {
   "cell_type": "code",
   "execution_count": 177,
   "metadata": {},
   "outputs": [],
   "source": [
    "# Faire un pas vers des meilleures valeurs de paramètres\n",
    "lr = 1e-5\n",
    "params.data = params.data - lr * params.grad.data\n",
    "params.grad = None"
   ]
  },
  {
   "cell_type": "code",
   "execution_count": 179,
   "metadata": {},
   "outputs": [
    {
     "data": {
      "text/plain": [
       "tensor(4212.1221, grad_fn=<MeanBackward0>)"
      ]
     },
     "execution_count": 179,
     "metadata": {},
     "output_type": "execute_result"
    }
   ],
   "source": [
    "# Vérifier l'amélioration de l'erreur\n",
    "preds = model(time,params)\n",
    "mean_squared_error(preds, speed)"
   ]
  },
  {
   "cell_type": "code",
   "execution_count": 180,
   "metadata": {},
   "outputs": [
    {
     "data": {
      "image/png": "[encoded data removed]",
      "text/plain": [
       "<Figure size 432x288 with 1 Axes>"
      ]
     },
     "metadata": {
      "needs_background": "light"
     },
     "output_type": "display_data"
    }
   ],
   "source": [
    "show_preds(preds)"
   ]
  },
  {
   "cell_type": "code",
   "execution_count": 181,
   "metadata": {},
   "outputs": [],
   "source": [
    "def apply_step(params, prn=True):\n",
    "    preds = model(time, params)\n",
    "    loss = mean_squared_error(preds, speed)\n",
    "    loss.backward()\n",
    "    params.data -= lr * params.grad.data\n",
    "    params.grad = None\n",
    "    if prn: print(loss.item())\n",
    "    return preds"
   ]
  },
  {
   "cell_type": "code",
   "execution_count": 182,
   "metadata": {},
   "outputs": [
    {
     "name": "stdout",
     "output_type": "stream",
     "text": [
      "4212.1220703125\n",
      "1327.363037109375\n",
      "781.4747314453125\n",
      "678.17236328125\n",
      "658.6209716796875\n",
      "654.9176025390625\n",
      "654.2131958007812\n",
      "654.0762939453125\n",
      "654.0467529296875\n",
      "654.0374755859375\n"
     ]
    }
   ],
   "source": [
    "for i in range(10): apply_step(params)"
   ]
  },
  {
   "cell_type": "code",
   "execution_count": 185,
   "metadata": {},
   "outputs": [
    {
     "data": {
      "image/png": "[encoded data removed]",
      "text/plain": [
       "<Figure size 864x216 with 4 Axes>"
      ]
     },
     "metadata": {
      "needs_background": "light"
     },
     "output_type": "display_data"
    }
   ],
   "source": [
    "params = torch.randn(3).requires_grad_()\n",
    "_,axs = plt.subplots(1,4,figsize=(12,3))\n",
    "for ax in axs: show_preds(apply_step(params, False), ax)\n",
    "plt.tight_layout()"
   ]
  },
  {
   "cell_type": "markdown",
   "metadata": {},
   "source": [
    "## Application au jeu de données MNIST"
   ]
  },
  {
   "cell_type": "markdown",
   "metadata": {},
   "source": [
    "### Préparation des datasets d'entrainement et de validation"
   ]
  },
  {
   "cell_type": "code",
   "execution_count": 187,
   "metadata": {},
   "outputs": [
    {
     "data": {
      "text/plain": [
       "(torch.Size([6131, 28, 28]), torch.Size([6265, 28, 28]))"
      ]
     },
     "execution_count": 187,
     "metadata": {},
     "output_type": "execute_result"
    }
   ],
   "source": [
    "stacked_threes.shape,stacked_sevens.shape"
   ]
  },
  {
   "cell_type": "markdown",
   "metadata": {},
   "source": [
    "[torch.cat(tensors, dim=0, out=None) → Tensor](https://pytorch.org/docs/stable/torch.html#torch.cat)\n",
    "\n",
    "Concatenates the given sequence of seq tensors in the given dimension. All tensors must either have the same shape (except in the concatenating dimension) or be empty."
   ]
  },
  {
   "cell_type": "code",
   "execution_count": 188,
   "metadata": {},
   "outputs": [
    {
     "data": {
      "text/plain": [
       "torch.Size([12396, 28, 28])"
      ]
     },
     "execution_count": 188,
     "metadata": {},
     "output_type": "execute_result"
    }
   ],
   "source": [
    "stacked_digits = torch.cat([stacked_threes, stacked_sevens])\n",
    "stacked_digits.shape"
   ]
  },
  {
   "cell_type": "markdown",
   "metadata": {},
   "source": [
    "[view(*shape) → Tensor](https://pytorch.org/docs/stable/tensors.html#torch.Tensor.view)\n",
    "                        \n",
    "Returns a new tensor with the same data as the self tensor but of a different shape."
   ]
  },
  {
   "cell_type": "code",
   "execution_count": 189,
   "metadata": {},
   "outputs": [
    {
     "data": {
      "text/plain": [
       "torch.Size([12396, 784])"
      ]
     },
     "execution_count": 189,
     "metadata": {},
     "output_type": "execute_result"
    }
   ],
   "source": [
    "train_x = stacked_digits.view(-1, 28*28) # the size -1 is inferred from other dimensions\n",
    "train_x.shape"
   ]
  },
  {
   "cell_type": "code",
   "execution_count": 190,
   "metadata": {},
   "outputs": [
    {
     "data": {
      "text/plain": [
       "torch.Size([12396])"
      ]
     },
     "execution_count": 190,
     "metadata": {},
     "output_type": "execute_result"
    }
   ],
   "source": [
    "stacked_labels = tensor([1]*len(threes) + [0]*len(sevens))\n",
    "stacked_labels.shape"
   ]
  },
  {
   "cell_type": "code",
   "execution_count": 210,
   "metadata": {},
   "outputs": [
    {
     "data": {
      "text/plain": [
       "(tensor(0.), tensor(0.))"
      ]
     },
     "execution_count": 210,
     "metadata": {},
     "output_type": "execute_result"
    }
   ],
   "source": [
    "train_x[0,0],train_x[0,783]"
   ]
  },
  {
   "cell_type": "code",
   "execution_count": 211,
   "metadata": {},
   "outputs": [
    {
     "ename": "IndexError",
     "evalue": "too many indices for tensor of dimension 1",
     "output_type": "error",
     "traceback": [
      "\u001b[1;31m---------------------------------------------------------------------------\u001b[0m",
      "\u001b[1;31mIndexError\u001b[0m                                Traceback (most recent call last)",
      "\u001b[1;32m<ipython-input-211-5aab5ea64dbf>\u001b[0m in \u001b[0;36m<module>\u001b[1;34m\u001b[0m\n\u001b[1;32m----> 1\u001b[1;33m \u001b[0mstacked_labels\u001b[0m\u001b[1;33m[\u001b[0m\u001b[1;36m0\u001b[0m\u001b[1;33m,\u001b[0m\u001b[1;36m0\u001b[0m\u001b[1;33m]\u001b[0m\u001b[1;33m\u001b[0m\u001b[1;33m\u001b[0m\u001b[0m\n\u001b[0m",
      "\u001b[1;31mIndexError\u001b[0m: too many indices for tensor of dimension 1"
     ]
    }
   ],
   "source": [
    "stacked_labels[0,0]"
   ]
  },
  {
   "cell_type": "markdown",
   "metadata": {},
   "source": [
    "[unsqueeze(dim) → Tensor](https://pytorch.org/docs/stable/torch.html#torch.unsqueeze)\n",
    "\n",
    "Returns a new tensor with a dimension of size one inserted at the specified position.\n",
    "The returned tensor shares the same underlying data with this tensor."
   ]
  },
  {
   "cell_type": "code",
   "execution_count": 202,
   "metadata": {},
   "outputs": [
    {
     "data": {
      "text/plain": [
       "torch.Size([12396, 1])"
      ]
     },
     "execution_count": 202,
     "metadata": {},
     "output_type": "execute_result"
    }
   ],
   "source": [
    "train_y = stacked_labels.unsqueeze(1)\n",
    "train_y.shape"
   ]
  },
  {
   "cell_type": "code",
   "execution_count": 212,
   "metadata": {},
   "outputs": [
    {
     "data": {
      "text/plain": [
       "tensor(1)"
      ]
     },
     "execution_count": 212,
     "metadata": {},
     "output_type": "execute_result"
    }
   ],
   "source": [
    "train_y[0,0]"
   ]
  },
  {
   "cell_type": "markdown",
   "metadata": {},
   "source": [
    "PyTorch définit un dataset comme une liste de couples (x,y).\n",
    "\n",
    "On utilise la fonction Python zip(xs,ys) pour itérer en parallèle sur les deux listes xs et ys, et retourner une liste de couples [(x1,y1),(x2,y2), ...]."
   ]
  },
  {
   "cell_type": "code",
   "execution_count": 216,
   "metadata": {},
   "outputs": [
    {
     "data": {
      "text/plain": [
       "<zip at 0x1138d986b08>"
      ]
     },
     "execution_count": 216,
     "metadata": {},
     "output_type": "execute_result"
    }
   ],
   "source": [
    "iterator = zip(train_x,train_y)\n",
    "iterator"
   ]
  },
  {
   "cell_type": "code",
   "execution_count": 221,
   "metadata": {},
   "outputs": [
    {
     "data": {
      "text/plain": [
       "(tuple,\n",
       " tuple,\n",
       " torch.Size([784]),\n",
       " torch.Size([1]),\n",
       " tensor(0.1387),\n",
       " tensor(0.1703))"
      ]
     },
     "execution_count": 221,
     "metadata": {},
     "output_type": "execute_result"
    }
   ],
   "source": [
    "couple1 = next(iterator)\n",
    "couple2 = next(iterator)\n",
    "type(couple1),type(couple2),couple1[0].shape,couple1[1].shape,couple1[0].mean(),couple2[0].mean()"
   ]
  },
  {
   "cell_type": "code",
   "execution_count": 224,
   "metadata": {},
   "outputs": [
    {
     "data": {
      "text/plain": [
       "(12396, torch.Size([784]), tensor([1]))"
      ]
     },
     "execution_count": 224,
     "metadata": {},
     "output_type": "execute_result"
    }
   ],
   "source": [
    "train_dataset = list(zip(train_x,train_y))\n",
    "x,y = train_dataset[0]\n",
    "len(train_dataset),x.shape,y"
   ]
  },
  {
   "cell_type": "markdown",
   "metadata": {},
   "source": [
    "On réalise la même mise en forme sur le **jeu de données de validation** :"
   ]
  },
  {
   "cell_type": "code",
   "execution_count": 225,
   "metadata": {},
   "outputs": [],
   "source": [
    "valid_x = torch.cat([valid_3_tens, valid_7_tens]).view(-1, 28*28)\n",
    "valid_y = tensor([1]*len(valid_3_tens) + [0]*len(valid_7_tens)).unsqueeze(1)\n",
    "valid_dataset = list(zip(valid_x,valid_y))"
   ]
  },
  {
   "cell_type": "markdown",
   "metadata": {},
   "source": [
    "### Initialisation des paramètres et définition du modèle"
   ]
  },
  {
   "cell_type": "code",
   "execution_count": 226,
   "metadata": {},
   "outputs": [],
   "source": [
    "def init_params(size, std=1.0): return (torch.randn(size)*std).requires_grad_()"
   ]
  },
  {
   "cell_type": "code",
   "execution_count": 227,
   "metadata": {},
   "outputs": [],
   "source": [
    "weights = init_params((28*28,1))"
   ]
  },
  {
   "cell_type": "code",
   "execution_count": 228,
   "metadata": {},
   "outputs": [],
   "source": [
    "bias = init_params(1)"
   ]
  },
  {
   "cell_type": "code",
   "execution_count": 232,
   "metadata": {},
   "outputs": [
    {
     "data": {
      "text/plain": [
       "(torch.Size([12396, 784]), torch.Size([784, 1]), torch.Size([1]))"
      ]
     },
     "execution_count": 232,
     "metadata": {},
     "output_type": "execute_result"
    }
   ],
   "source": [
    "train_x.shape,weights.shape,bias.shape"
   ]
  },
  {
   "cell_type": "markdown",
   "metadata": {},
   "source": [
    "Calcul d'une prédiction :"
   ]
  },
  {
   "cell_type": "code",
   "execution_count": 233,
   "metadata": {},
   "outputs": [
    {
     "data": {
      "text/plain": [
       "tensor([4.0719], grad_fn=<AddBackward0>)"
      ]
     },
     "execution_count": 233,
     "metadata": {},
     "output_type": "execute_result"
    }
   ],
   "source": [
    "(train_x[0]*weights.T).sum() + bias"
   ]
  },
  {
   "cell_type": "markdown",
   "metadata": {},
   "source": [
    "Intuitivement, on va essayer de trouver des paramètres avec une valeur très positive pour les pixels qui doivent être noirs dans un 3 et pas dans un 7, et une valeur très négative pour les pixels qui doivent être noirs dans un 7 et pas dans un 3.\n",
    "\n",
    "Ainsi, le résultat obtenu sera très positif pour un 3, et très négatif pour un 7. Plus le résultat sera grand, plus on sera confiants pour prédire un 3."
   ]
  },
  {
   "cell_type": "markdown",
   "metadata": {},
   "source": [
    "Dans une approche similaire au broadcasting plus haut, il est beaucoup plus performant d'appliquer cette opération en masse sur tout un batch d'images, plutôt que dans une boucle image par image.\n",
    "\n",
    "L'ajout de la dimension \"batch\" (prédiction pour plusieurs exemples en une opération) transforme le produit scalaire en un multiplication de matrices, opération optimisée par PyTorch et pour laquelle les GPUs ont été conçus.\n",
    "\n",
    "Même sur un CPU, on calcule ci-dessous 12 400 prédictions en 4 ms."
   ]
  },
  {
   "cell_type": "code",
   "execution_count": 236,
   "metadata": {},
   "outputs": [
    {
     "name": "stdout",
     "output_type": "stream",
     "text": [
      "Wall time: 4.8 ms\n"
     ]
    },
    {
     "data": {
      "text/plain": [
       "(12396,\n",
       " tensor([[  4.0719],\n",
       "         [-12.2712],\n",
       "         [  1.5993],\n",
       "         ...,\n",
       "         [ 20.3076],\n",
       "         [ -6.9911],\n",
       "         [  1.0647]], grad_fn=<AddBackward0>))"
      ]
     },
     "execution_count": 236,
     "metadata": {},
     "output_type": "execute_result"
    }
   ],
   "source": [
    "def linear1(xb): return xb@weights + bias\n",
    "%time preds = linear1(train_x)\n",
    "len(preds),preds"
   ]
  },
  {
   "cell_type": "markdown",
   "metadata": {},
   "source": [
    "On va prédire un 3 chaque fois que le résultat est > 0, et un 7 chaque fois qu'il est <= 0.\n",
    "\n",
    "Broadcasting à l'oeuvre ci-dessous :"
   ]
  },
  {
   "cell_type": "code",
   "execution_count": 237,
   "metadata": {},
   "outputs": [
    {
     "data": {
      "text/plain": [
       "tensor([[ True],\n",
       "        [False],\n",
       "        [ True],\n",
       "        ...,\n",
       "        [False],\n",
       "        [ True],\n",
       "        [False]])"
      ]
     },
     "execution_count": 237,
     "metadata": {},
     "output_type": "execute_result"
    }
   ],
   "source": [
    "corrects = (preds>0.0).float() == train_y\n",
    "corrects"
   ]
  },
  {
   "cell_type": "code",
   "execution_count": 238,
   "metadata": {},
   "outputs": [
    {
     "data": {
      "text/plain": [
       "0.46482735872268677"
      ]
     },
     "execution_count": 238,
     "metadata": {},
     "output_type": "execute_result"
    }
   ],
   "source": [
    "accuracy = corrects.float().mean().item()\n",
    "accuracy"
   ]
  },
  {
   "cell_type": "markdown",
   "metadata": {},
   "source": [
    "Puisqu'on a initialisé les paramètres au hasard, et qu'on avait une chance sur 2 de prédire le bon chiffre, on observe logiquement un taux de succès autour de 50% au départ."
   ]
  },
  {
   "cell_type": "markdown",
   "metadata": {},
   "source": [
    "Cette **métrique** accuracy est l'indicateur de performance qui nous intéresse.\n",
    "\n",
    "Mais elle n'est pas adaptée comme mesure de l'erreur pour ajuster progressivement les paramètres : en effet, une petite amélioration sur un des paramètres ne se traduit pas par une petite réduction de l'erreur. \n",
    "\n",
    "Il y a une bascule \"soudaine\" d'une prédiction de correct à incorrect si on franchit le seuil de confiance, mais tant qu'on reste en dessous ou au dessus du seuil de confiance, des petites améliorations des valeurs ne modifient pas l'erreur mesurée. "
   ]
  },
  {
   "cell_type": "code",
   "execution_count": 241,
   "metadata": {},
   "outputs": [],
   "source": [
    "weights[0] *= 1.0001"
   ]
  },
  {
   "cell_type": "code",
   "execution_count": 242,
   "metadata": {},
   "outputs": [
    {
     "data": {
      "text/plain": [
       "0.46482735872268677"
      ]
     },
     "execution_count": 242,
     "metadata": {},
     "output_type": "execute_result"
    }
   ],
   "source": [
    "preds = linear1(train_x)\n",
    "((preds>0.0).float() == train_y).float().mean().item()"
   ]
  },
  {
   "cell_type": "markdown",
   "metadata": {},
   "source": [
    "On n'a donc pas de signal, de gradient, pour guider l'amélioration progressive des paramètres.\n",
    "\n",
    "Pour cette raison on utilise généralement deux fonctions de mesure de l'erreur :\n",
    "- une **métrique** (metrics), indicateur de performance qui nous intéresse, juste affiché pour information\n",
    "- une **fonction de coût** (loss function), utilisée pour guider l'amélioration progressive des paramètres, qui doit refléter de manière aussi \"régulière\" que possible les légères améliorations des valeurs de de paramètres par une légère diminution de la fonction de coût"
   ]
  },
  {
   "cell_type": "markdown",
   "metadata": {},
   "source": [
    "Essayons de trouver une mesure de l'erreur plus \"continue\" pour notre jeu de données MNIST.\n",
    "\n",
    "On doit prédire des labels qui sont 1 (trois) ou 0 (pas trois).\n",
    "\n",
    "Supposons que notre modèle fournisse en sortie un nombre entre 0 et 1 : plus on est proche de 1, plus le modèle pense avoir reconnu un 3, plus on est proche de 0, moins le modèle pense avoir reconnu un 3.\n",
    "\n",
    "On pourrait mesurer de manière continue notre distance à l'objectif, en sommant la distance de nos prédictions à 1 ou à 0, selon le label à prédire.\n",
    "\n",
    "Exemple :"
   ]
  },
  {
   "cell_type": "code",
   "execution_count": 249,
   "metadata": {},
   "outputs": [],
   "source": [
    "labels  = tensor([1,0,1])\n",
    "preds   = tensor([0.9, 0.4, 0.2])"
   ]
  },
  {
   "cell_type": "markdown",
   "metadata": {},
   "source": [
    "- si le label à prédire est 1 : distance à l'objectif = 1 - prédiction\n",
    "- si le label à prédire est 0 : distance à l'objectif = prédiction - 0"
   ]
  },
  {
   "cell_type": "code",
   "execution_count": 247,
   "metadata": {},
   "outputs": [
    {
     "data": {
      "text/plain": [
       "tensor([ True, False,  True])"
      ]
     },
     "execution_count": 247,
     "metadata": {},
     "output_type": "execute_result"
    }
   ],
   "source": [
    "labels==1"
   ]
  },
  {
   "cell_type": "code",
   "execution_count": 248,
   "metadata": {},
   "outputs": [
    {
     "data": {
      "text/plain": [
       "tensor([0.1000, 0.4000, 0.8000])"
      ]
     },
     "execution_count": 248,
     "metadata": {},
     "output_type": "execute_result"
    }
   ],
   "source": [
    "torch.where(labels==1, 1-preds, preds)"
   ]
  },
  {
   "cell_type": "code",
   "execution_count": 250,
   "metadata": {},
   "outputs": [],
   "source": [
    "def mnist_loss(predictions, targets):\n",
    "    return torch.where(targets==1, 1-predictions, predictions).mean()"
   ]
  },
  {
   "cell_type": "markdown",
   "metadata": {},
   "source": [
    "Vérifions qu'une petite amélioration des prédictions se traduit bien de manière régulière par une petite amélioration de notre fonction de coût :"
   ]
  },
  {
   "cell_type": "code",
   "execution_count": 251,
   "metadata": {},
   "outputs": [
    {
     "data": {
      "text/plain": [
       "tensor(0.4333)"
      ]
     },
     "execution_count": 251,
     "metadata": {},
     "output_type": "execute_result"
    }
   ],
   "source": [
    "mnist_loss(preds,labels)"
   ]
  },
  {
   "cell_type": "code",
   "execution_count": 254,
   "metadata": {},
   "outputs": [
    {
     "data": {
      "text/plain": [
       "tensor(0.4000)"
      ]
     },
     "execution_count": 254,
     "metadata": {},
     "output_type": "execute_result"
    }
   ],
   "source": [
    "preds[2] += 0.1\n",
    "mnist_loss(preds,trgts)"
   ]
  },
  {
   "cell_type": "markdown",
   "metadata": {},
   "source": [
    "En l'état, notre modèle retourne des valeurs entre moins l'infini et plus l'inifini. \n",
    "\n",
    "Notre fonction de coût ne peut mesurer une distance au résultat attendu que si le modèle retourne des valeurs entre 0 et 1."
   ]
  },
  {
   "cell_type": "markdown",
   "metadata": {},
   "source": [
    "### Sigmoid"
   ]
  },
  {
   "cell_type": "code",
   "execution_count": null,
   "metadata": {},
   "outputs": [],
   "source": [
    "def sigmoid(x): return 1/(1+torch.exp(-x))"
   ]
  },
  {
   "cell_type": "code",
   "execution_count": null,
   "metadata": {},
   "outputs": [
    {
     "data": {
      "image/png": "[encoded data removed]",
      "text/plain": [
       "<Figure size 432x288 with 1 Axes>"
      ]
     },
     "metadata": {
      "needs_background": "light"
     },
     "output_type": "display_data"
    }
   ],
   "source": [
    "plot_function(torch.sigmoid, title='Sigmoid', min=-4, max=4)"
   ]
  },
  {
   "cell_type": "code",
   "execution_count": null,
   "metadata": {},
   "outputs": [],
   "source": [
    "def mnist_loss(predictions, targets):\n",
    "    predictions = predictions.sigmoid()\n",
    "    return torch.where(targets==1, 1-predictions, predictions).mean()"
   ]
  },
  {
   "cell_type": "markdown",
   "metadata": {},
   "source": [
    "### SGD and mini-batches"
   ]
  },
  {
   "cell_type": "code",
   "execution_count": null,
   "metadata": {},
   "outputs": [
    {
     "data": {
      "text/plain": [
       "[tensor([ 3, 12,  8, 10,  2]),\n",
       " tensor([ 9,  4,  7, 14,  5]),\n",
       " tensor([ 1, 13,  0,  6, 11])]"
      ]
     },
     "execution_count": null,
     "metadata": {},
     "output_type": "execute_result"
    }
   ],
   "source": [
    "coll = range(15)\n",
    "dl = DataLoader(coll, batch_size=5, shuffle=True)\n",
    "list(dl)"
   ]
  },
  {
   "cell_type": "code",
   "execution_count": null,
   "metadata": {},
   "outputs": [
    {
     "data": {
      "text/plain": [
       "(#26) [(0, 'a'),(1, 'b'),(2, 'c'),(3, 'd'),(4, 'e'),(5, 'f'),(6, 'g'),(7, 'h'),(8, 'i'),(9, 'j')...]"
      ]
     },
     "execution_count": null,
     "metadata": {},
     "output_type": "execute_result"
    }
   ],
   "source": [
    "ds = L(enumerate(string.ascii_lowercase))\n",
    "ds"
   ]
  },
  {
   "cell_type": "code",
   "execution_count": null,
   "metadata": {},
   "outputs": [
    {
     "data": {
      "text/plain": [
       "[(tensor([17, 18, 10, 22,  8, 14]), ('r', 's', 'k', 'w', 'i', 'o')),\n",
       " (tensor([20, 15,  9, 13, 21, 12]), ('u', 'p', 'j', 'n', 'v', 'm')),\n",
       " (tensor([ 7, 25,  6,  5, 11, 23]), ('h', 'z', 'g', 'f', 'l', 'x')),\n",
       " (tensor([ 1,  3,  0, 24, 19, 16]), ('b', 'd', 'a', 'y', 't', 'q')),\n",
       " (tensor([2, 4]), ('c', 'e'))]"
      ]
     },
     "execution_count": null,
     "metadata": {},
     "output_type": "execute_result"
    }
   ],
   "source": [
    "dl = DataLoader(ds, batch_size=6, shuffle=True)\n",
    "list(dl)"
   ]
  },
  {
   "cell_type": "markdown",
   "metadata": {},
   "source": [
    "## Putting it all together"
   ]
  },
  {
   "cell_type": "code",
   "execution_count": null,
   "metadata": {},
   "outputs": [],
   "source": [
    "weights = init_params((28*28,1))\n",
    "bias = init_params(1)"
   ]
  },
  {
   "cell_type": "code",
   "execution_count": null,
   "metadata": {},
   "outputs": [
    {
     "data": {
      "text/plain": [
       "(torch.Size([256, 784]), torch.Size([256, 1]))"
      ]
     },
     "execution_count": null,
     "metadata": {},
     "output_type": "execute_result"
    }
   ],
   "source": [
    "dl = DataLoader(dset, batch_size=256)\n",
    "xb,yb = first(dl)\n",
    "xb.shape,yb.shape"
   ]
  },
  {
   "cell_type": "code",
   "execution_count": null,
   "metadata": {},
   "outputs": [],
   "source": [
    "valid_dl = DataLoader(valid_dset, batch_size=256)"
   ]
  },
  {
   "cell_type": "code",
   "execution_count": null,
   "metadata": {},
   "outputs": [
    {
     "data": {
      "text/plain": [
       "torch.Size([4, 784])"
      ]
     },
     "execution_count": null,
     "metadata": {},
     "output_type": "execute_result"
    }
   ],
   "source": [
    "batch = train_x[:4]\n",
    "batch.shape"
   ]
  },
  {
   "cell_type": "code",
   "execution_count": null,
   "metadata": {},
   "outputs": [
    {
     "data": {
      "text/plain": [
       "tensor([[-11.1002],\n",
       "        [  5.9263],\n",
       "        [  9.9627],\n",
       "        [ -8.1484]], grad_fn=<AddBackward0>)"
      ]
     },
     "execution_count": null,
     "metadata": {},
     "output_type": "execute_result"
    }
   ],
   "source": [
    "preds = linear1(batch)\n",
    "preds"
   ]
  },
  {
   "cell_type": "code",
   "execution_count": null,
   "metadata": {},
   "outputs": [
    {
     "data": {
      "text/plain": [
       "tensor(0.5006, grad_fn=<MeanBackward0>)"
      ]
     },
     "execution_count": null,
     "metadata": {},
     "output_type": "execute_result"
    }
   ],
   "source": [
    "loss = mnist_loss(preds, train_y[:4])\n",
    "loss"
   ]
  },
  {
   "cell_type": "code",
   "execution_count": null,
   "metadata": {},
   "outputs": [
    {
     "data": {
      "text/plain": [
       "(torch.Size([784, 1]), tensor(-0.0001), tensor([-0.0008]))"
      ]
     },
     "execution_count": null,
     "metadata": {},
     "output_type": "execute_result"
    }
   ],
   "source": [
    "loss.backward()\n",
    "weights.grad.shape,weights.grad.mean(),bias.grad"
   ]
  },
  {
   "cell_type": "code",
   "execution_count": null,
   "metadata": {},
   "outputs": [],
   "source": [
    "def calc_grad(xb, yb, model):\n",
    "    preds = model(xb)\n",
    "    loss = mnist_loss(preds, yb)\n",
    "    loss.backward()"
   ]
  },
  {
   "cell_type": "code",
   "execution_count": null,
   "metadata": {},
   "outputs": [
    {
     "data": {
      "text/plain": [
       "(tensor(-0.0002), tensor([-0.0015]))"
      ]
     },
     "execution_count": null,
     "metadata": {},
     "output_type": "execute_result"
    }
   ],
   "source": [
    "calc_grad(batch, train_y[:4], linear1)\n",
    "weights.grad.mean(),bias.grad"
   ]
  },
  {
   "cell_type": "code",
   "execution_count": null,
   "metadata": {},
   "outputs": [
    {
     "data": {
      "text/plain": [
       "(tensor(-0.0003), tensor([-0.0023]))"
      ]
     },
     "execution_count": null,
     "metadata": {},
     "output_type": "execute_result"
    }
   ],
   "source": [
    "calc_grad(batch, train_y[:4], linear1)\n",
    "weights.grad.mean(),bias.grad"
   ]
  },
  {
   "cell_type": "code",
   "execution_count": null,
   "metadata": {},
   "outputs": [],
   "source": [
    "weights.grad.zero_()\n",
    "bias.grad.zero_();"
   ]
  },
  {
   "cell_type": "code",
   "execution_count": null,
   "metadata": {},
   "outputs": [],
   "source": [
    "def train_epoch(model, lr, params):\n",
    "    for xb,yb in dl:\n",
    "        calc_grad(xb, yb, model)\n",
    "        for p in params:\n",
    "            p.data -= p.grad*lr\n",
    "            p.grad.zero_()"
   ]
  },
  {
   "cell_type": "code",
   "execution_count": null,
   "metadata": {},
   "outputs": [
    {
     "data": {
      "text/plain": [
       "tensor([[False],\n",
       "        [ True],\n",
       "        [ True],\n",
       "        [False]])"
      ]
     },
     "execution_count": null,
     "metadata": {},
     "output_type": "execute_result"
    }
   ],
   "source": [
    "(preds>0.0).float() == train_y[:4]"
   ]
  },
  {
   "cell_type": "code",
   "execution_count": null,
   "metadata": {},
   "outputs": [],
   "source": [
    "def batch_accuracy(xb, yb):\n",
    "    preds = xb.sigmoid()\n",
    "    correct = (preds>0.5) == yb\n",
    "    return correct.float().mean()"
   ]
  },
  {
   "cell_type": "code",
   "execution_count": null,
   "metadata": {},
   "outputs": [
    {
     "data": {
      "text/plain": [
       "tensor(0.5000)"
      ]
     },
     "execution_count": null,
     "metadata": {},
     "output_type": "execute_result"
    }
   ],
   "source": [
    "batch_accuracy(linear1(batch), train_y[:4])"
   ]
  },
  {
   "cell_type": "code",
   "execution_count": null,
   "metadata": {},
   "outputs": [],
   "source": [
    "def validate_epoch(model):\n",
    "    accs = [batch_accuracy(model(xb), yb) for xb,yb in valid_dl]\n",
    "    return round(torch.stack(accs).mean().item(), 4)"
   ]
  },
  {
   "cell_type": "code",
   "execution_count": null,
   "metadata": {},
   "outputs": [
    {
     "data": {
      "text/plain": [
       "0.5219"
      ]
     },
     "execution_count": null,
     "metadata": {},
     "output_type": "execute_result"
    }
   ],
   "source": [
    "validate_epoch(linear1)"
   ]
  },
  {
   "cell_type": "code",
   "execution_count": null,
   "metadata": {},
   "outputs": [
    {
     "data": {
      "text/plain": [
       "0.6883"
      ]
     },
     "execution_count": null,
     "metadata": {},
     "output_type": "execute_result"
    }
   ],
   "source": [
    "lr = 1.\n",
    "params = weights,bias\n",
    "train_epoch(linear1, lr, params)\n",
    "validate_epoch(linear1)"
   ]
  },
  {
   "cell_type": "code",
   "execution_count": null,
   "metadata": {},
   "outputs": [
    {
     "name": "stdout",
     "output_type": "stream",
     "text": [
      "0.8314 0.9017 0.9227 0.9349 0.9438 0.9501 0.9535 0.9564 0.9594 0.9618 0.9613 0.9638 0.9643 0.9652 0.9662 0.9677 0.9687 0.9691 0.9691 0.9696 "
     ]
    }
   ],
   "source": [
    "for i in range(20):\n",
    "    train_epoch(linear1, lr, params)\n",
    "    print(validate_epoch(linear1), end=' ')"
   ]
  },
  {
   "cell_type": "markdown",
   "metadata": {},
   "source": [
    "### Creating an optimizer"
   ]
  },
  {
   "cell_type": "code",
   "execution_count": null,
   "metadata": {},
   "outputs": [],
   "source": [
    "linear_model = nn.Linear(28*28,1)"
   ]
  },
  {
   "cell_type": "code",
   "execution_count": null,
   "metadata": {},
   "outputs": [
    {
     "data": {
      "text/plain": [
       "(torch.Size([1, 784]), torch.Size([1]))"
      ]
     },
     "execution_count": null,
     "metadata": {},
     "output_type": "execute_result"
    }
   ],
   "source": [
    "w,b = linear_model.parameters()\n",
    "w.shape,b.shape"
   ]
  },
  {
   "cell_type": "code",
   "execution_count": null,
   "metadata": {},
   "outputs": [],
   "source": [
    "class BasicOptim:\n",
    "    def __init__(self,params,lr): self.params,self.lr = list(params),lr\n",
    "\n",
    "    def step(self, *args, **kwargs):\n",
    "        for p in self.params: p.data -= p.grad.data * self.lr\n",
    "\n",
    "    def zero_grad(self, *args, **kwargs):\n",
    "        for p in self.params: p.grad = None"
   ]
  },
  {
   "cell_type": "code",
   "execution_count": null,
   "metadata": {},
   "outputs": [],
   "source": [
    "opt = BasicOptim(linear_model.parameters(), lr)"
   ]
  },
  {
   "cell_type": "code",
   "execution_count": null,
   "metadata": {},
   "outputs": [],
   "source": [
    "def train_epoch(model):\n",
    "    for xb,yb in dl:\n",
    "        calc_grad(xb, yb, model)\n",
    "        opt.step()\n",
    "        opt.zero_grad()"
   ]
  },
  {
   "cell_type": "code",
   "execution_count": null,
   "metadata": {},
   "outputs": [
    {
     "data": {
      "text/plain": [
       "0.4157"
      ]
     },
     "execution_count": null,
     "metadata": {},
     "output_type": "execute_result"
    }
   ],
   "source": [
    "validate_epoch(linear_model)"
   ]
  },
  {
   "cell_type": "code",
   "execution_count": null,
   "metadata": {},
   "outputs": [],
   "source": [
    "def train_model(model, epochs):\n",
    "    for i in range(epochs):\n",
    "        train_epoch(model)\n",
    "        print(validate_epoch(model), end=' ')"
   ]
  },
  {
   "cell_type": "code",
   "execution_count": null,
   "metadata": {},
   "outputs": [
    {
     "name": "stdout",
     "output_type": "stream",
     "text": [
      "0.4932 0.8618 0.8203 0.9102 0.9331 0.9468 0.9555 0.9629 0.9658 0.9673 0.9687 0.9707 0.9726 0.9751 0.9761 0.9761 0.9775 0.978 0.9785 0.9785 "
     ]
    }
   ],
   "source": [
    "train_model(linear_model, 20)"
   ]
  },
  {
   "cell_type": "code",
   "execution_count": null,
   "metadata": {},
   "outputs": [
    {
     "name": "stdout",
     "output_type": "stream",
     "text": [
      "0.4932 0.852 0.8335 0.9116 0.9326 0.9473 0.9555 0.9624 0.9648 0.9668 0.9692 0.9712 0.9731 0.9746 0.9761 0.9765 0.9775 0.978 0.9785 0.9785 "
     ]
    }
   ],
   "source": [
    "linear_model = nn.Linear(28*28,1)\n",
    "opt = SGD(linear_model.parameters(), lr)\n",
    "train_model(linear_model, 20)"
   ]
  },
  {
   "cell_type": "code",
   "execution_count": null,
   "metadata": {},
   "outputs": [],
   "source": [
    "dls = DataLoaders(dl, valid_dl)"
   ]
  },
  {
   "cell_type": "code",
   "execution_count": null,
   "metadata": {},
   "outputs": [],
   "source": [
    "learn = Learner(dls, nn.Linear(28*28,1), opt_func=SGD,\n",
    "                loss_func=mnist_loss, metrics=batch_accuracy)"
   ]
  },
  {
   "cell_type": "code",
   "execution_count": null,
   "metadata": {},
   "outputs": [
    {
     "data": {
      "text/html": [
       "<table border=\"1\" class=\"dataframe\">\n",
       "  <thead>\n",
       "    <tr style=\"text-align: left;\">\n",
       "      <th>epoch</th>\n",
       "      <th>train_loss</th>\n",
       "      <th>valid_loss</th>\n",
       "      <th>batch_accuracy</th>\n",
       "      <th>time</th>\n",
       "    </tr>\n",
       "  </thead>\n",
       "  <tbody>\n",
       "    <tr>\n",
       "      <td>0</td>\n",
       "      <td>0.636857</td>\n",
       "      <td>0.503549</td>\n",
       "      <td>0.495584</td>\n",
       "      <td>00:00</td>\n",
       "    </tr>\n",
       "    <tr>\n",
       "      <td>1</td>\n",
       "      <td>0.545725</td>\n",
       "      <td>0.170281</td>\n",
       "      <td>0.866045</td>\n",
       "      <td>00:00</td>\n",
       "    </tr>\n",
       "    <tr>\n",
       "      <td>2</td>\n",
       "      <td>0.199223</td>\n",
       "      <td>0.184893</td>\n",
       "      <td>0.831207</td>\n",
       "      <td>00:00</td>\n",
       "    </tr>\n",
       "    <tr>\n",
       "      <td>3</td>\n",
       "      <td>0.086580</td>\n",
       "      <td>0.107836</td>\n",
       "      <td>0.911187</td>\n",
       "      <td>00:00</td>\n",
       "    </tr>\n",
       "    <tr>\n",
       "      <td>4</td>\n",
       "      <td>0.045185</td>\n",
       "      <td>0.078481</td>\n",
       "      <td>0.932777</td>\n",
       "      <td>00:00</td>\n",
       "    </tr>\n",
       "    <tr>\n",
       "      <td>5</td>\n",
       "      <td>0.029108</td>\n",
       "      <td>0.062792</td>\n",
       "      <td>0.946516</td>\n",
       "      <td>00:00</td>\n",
       "    </tr>\n",
       "    <tr>\n",
       "      <td>6</td>\n",
       "      <td>0.022560</td>\n",
       "      <td>0.053017</td>\n",
       "      <td>0.955348</td>\n",
       "      <td>00:00</td>\n",
       "    </tr>\n",
       "    <tr>\n",
       "      <td>7</td>\n",
       "      <td>0.019687</td>\n",
       "      <td>0.046500</td>\n",
       "      <td>0.962218</td>\n",
       "      <td>00:00</td>\n",
       "    </tr>\n",
       "    <tr>\n",
       "      <td>8</td>\n",
       "      <td>0.018252</td>\n",
       "      <td>0.041929</td>\n",
       "      <td>0.965162</td>\n",
       "      <td>00:00</td>\n",
       "    </tr>\n",
       "    <tr>\n",
       "      <td>9</td>\n",
       "      <td>0.017402</td>\n",
       "      <td>0.038573</td>\n",
       "      <td>0.967615</td>\n",
       "      <td>00:00</td>\n",
       "    </tr>\n",
       "  </tbody>\n",
       "</table>"
      ],
      "text/plain": [
       "<IPython.core.display.HTML object>"
      ]
     },
     "metadata": {},
     "output_type": "display_data"
    }
   ],
   "source": [
    "learn.fit(10, lr=lr)"
   ]
  },
  {
   "cell_type": "markdown",
   "metadata": {},
   "source": [
    "## Adding a non-linearity"
   ]
  },
  {
   "cell_type": "code",
   "execution_count": null,
   "metadata": {},
   "outputs": [],
   "source": [
    "def simple_net(xb): \n",
    "    res = xb@w1 + b1\n",
    "    res = res.max(tensor(0.0))\n",
    "    res = res@w2 + b2\n",
    "    return res"
   ]
  },
  {
   "cell_type": "code",
   "execution_count": null,
   "metadata": {},
   "outputs": [],
   "source": [
    "w1 = init_params((28*28,30))\n",
    "b1 = init_params(30)\n",
    "w2 = init_params((30,1))\n",
    "b2 = init_params(1)"
   ]
  },
  {
   "cell_type": "code",
   "execution_count": null,
   "metadata": {},
   "outputs": [
    {
     "data": {
      "image/png": "[encoded data removed]",
      "text/plain": [
       "<Figure size 432x288 with 1 Axes>"
      ]
     },
     "metadata": {
      "needs_background": "light"
     },
     "output_type": "display_data"
    }
   ],
   "source": [
    "plot_function(F.relu)"
   ]
  },
  {
   "cell_type": "code",
   "execution_count": null,
   "metadata": {},
   "outputs": [],
   "source": [
    "simple_net = nn.Sequential(\n",
    "    nn.Linear(28*28,30),\n",
    "    nn.ReLU(),\n",
    "    nn.Linear(30,1)\n",
    ")"
   ]
  },
  {
   "cell_type": "code",
   "execution_count": null,
   "metadata": {},
   "outputs": [],
   "source": [
    "learn = Learner(dls, simple_net, opt_func=SGD,\n",
    "                loss_func=mnist_loss, metrics=batch_accuracy)"
   ]
  },
  {
   "cell_type": "code",
   "execution_count": null,
   "metadata": {},
   "outputs": [
    {
     "data": {
      "text/html": [
       "<table border=\"1\" class=\"dataframe\">\n",
       "  <thead>\n",
       "    <tr style=\"text-align: left;\">\n",
       "      <th>epoch</th>\n",
       "      <th>train_loss</th>\n",
       "      <th>valid_loss</th>\n",
       "      <th>batch_accuracy</th>\n",
       "      <th>time</th>\n",
       "    </tr>\n",
       "  </thead>\n",
       "  <tbody>\n",
       "    <tr>\n",
       "      <td>0</td>\n",
       "      <td>0.305828</td>\n",
       "      <td>0.399663</td>\n",
       "      <td>0.508341</td>\n",
       "      <td>00:00</td>\n",
       "    </tr>\n",
       "    <tr>\n",
       "      <td>1</td>\n",
       "      <td>0.142960</td>\n",
       "      <td>0.225702</td>\n",
       "      <td>0.807655</td>\n",
       "      <td>00:00</td>\n",
       "    </tr>\n",
       "    <tr>\n",
       "      <td>2</td>\n",
       "      <td>0.079516</td>\n",
       "      <td>0.113519</td>\n",
       "      <td>0.919529</td>\n",
       "      <td>00:00</td>\n",
       "    </tr>\n",
       "    <tr>\n",
       "      <td>3</td>\n",
       "      <td>0.052391</td>\n",
       "      <td>0.076792</td>\n",
       "      <td>0.943081</td>\n",
       "      <td>00:00</td>\n",
       "    </tr>\n",
       "    <tr>\n",
       "      <td>4</td>\n",
       "      <td>0.039796</td>\n",
       "      <td>0.060083</td>\n",
       "      <td>0.956330</td>\n",
       "      <td>00:00</td>\n",
       "    </tr>\n",
       "    <tr>\n",
       "      <td>5</td>\n",
       "      <td>0.033368</td>\n",
       "      <td>0.050713</td>\n",
       "      <td>0.963690</td>\n",
       "      <td>00:00</td>\n",
       "    </tr>\n",
       "    <tr>\n",
       "      <td>6</td>\n",
       "      <td>0.029680</td>\n",
       "      <td>0.044797</td>\n",
       "      <td>0.965653</td>\n",
       "      <td>00:00</td>\n",
       "    </tr>\n",
       "    <tr>\n",
       "      <td>7</td>\n",
       "      <td>0.027290</td>\n",
       "      <td>0.040729</td>\n",
       "      <td>0.968106</td>\n",
       "      <td>00:00</td>\n",
       "    </tr>\n",
       "    <tr>\n",
       "      <td>8</td>\n",
       "      <td>0.025568</td>\n",
       "      <td>0.037771</td>\n",
       "      <td>0.968597</td>\n",
       "      <td>00:00</td>\n",
       "    </tr>\n",
       "    <tr>\n",
       "      <td>9</td>\n",
       "      <td>0.024233</td>\n",
       "      <td>0.035508</td>\n",
       "      <td>0.970559</td>\n",
       "      <td>00:00</td>\n",
       "    </tr>\n",
       "    <tr>\n",
       "      <td>10</td>\n",
       "      <td>0.023149</td>\n",
       "      <td>0.033714</td>\n",
       "      <td>0.972031</td>\n",
       "      <td>00:00</td>\n",
       "    </tr>\n",
       "    <tr>\n",
       "      <td>11</td>\n",
       "      <td>0.022242</td>\n",
       "      <td>0.032243</td>\n",
       "      <td>0.972522</td>\n",
       "      <td>00:00</td>\n",
       "    </tr>\n",
       "    <tr>\n",
       "      <td>12</td>\n",
       "      <td>0.021468</td>\n",
       "      <td>0.031006</td>\n",
       "      <td>0.973503</td>\n",
       "      <td>00:00</td>\n",
       "    </tr>\n",
       "    <tr>\n",
       "      <td>13</td>\n",
       "      <td>0.020796</td>\n",
       "      <td>0.029944</td>\n",
       "      <td>0.974485</td>\n",
       "      <td>00:00</td>\n",
       "    </tr>\n",
       "    <tr>\n",
       "      <td>14</td>\n",
       "      <td>0.020207</td>\n",
       "      <td>0.029016</td>\n",
       "      <td>0.975466</td>\n",
       "      <td>00:00</td>\n",
       "    </tr>\n",
       "    <tr>\n",
       "      <td>15</td>\n",
       "      <td>0.019683</td>\n",
       "      <td>0.028196</td>\n",
       "      <td>0.976448</td>\n",
       "      <td>00:00</td>\n",
       "    </tr>\n",
       "    <tr>\n",
       "      <td>16</td>\n",
       "      <td>0.019215</td>\n",
       "      <td>0.027463</td>\n",
       "      <td>0.976448</td>\n",
       "      <td>00:00</td>\n",
       "    </tr>\n",
       "    <tr>\n",
       "      <td>17</td>\n",
       "      <td>0.018791</td>\n",
       "      <td>0.026806</td>\n",
       "      <td>0.976938</td>\n",
       "      <td>00:00</td>\n",
       "    </tr>\n",
       "    <tr>\n",
       "      <td>18</td>\n",
       "      <td>0.018405</td>\n",
       "      <td>0.026212</td>\n",
       "      <td>0.977920</td>\n",
       "      <td>00:00</td>\n",
       "    </tr>\n",
       "    <tr>\n",
       "      <td>19</td>\n",
       "      <td>0.018051</td>\n",
       "      <td>0.025671</td>\n",
       "      <td>0.977920</td>\n",
       "      <td>00:00</td>\n",
       "    </tr>\n",
       "    <tr>\n",
       "      <td>20</td>\n",
       "      <td>0.017725</td>\n",
       "      <td>0.025179</td>\n",
       "      <td>0.977920</td>\n",
       "      <td>00:00</td>\n",
       "    </tr>\n",
       "    <tr>\n",
       "      <td>21</td>\n",
       "      <td>0.017422</td>\n",
       "      <td>0.024728</td>\n",
       "      <td>0.978410</td>\n",
       "      <td>00:00</td>\n",
       "    </tr>\n",
       "    <tr>\n",
       "      <td>22</td>\n",
       "      <td>0.017141</td>\n",
       "      <td>0.024313</td>\n",
       "      <td>0.978901</td>\n",
       "      <td>00:00</td>\n",
       "    </tr>\n",
       "    <tr>\n",
       "      <td>23</td>\n",
       "      <td>0.016878</td>\n",
       "      <td>0.023932</td>\n",
       "      <td>0.979392</td>\n",
       "      <td>00:00</td>\n",
       "    </tr>\n",
       "    <tr>\n",
       "      <td>24</td>\n",
       "      <td>0.016632</td>\n",
       "      <td>0.023580</td>\n",
       "      <td>0.979882</td>\n",
       "      <td>00:00</td>\n",
       "    </tr>\n",
       "    <tr>\n",
       "      <td>25</td>\n",
       "      <td>0.016400</td>\n",
       "      <td>0.023254</td>\n",
       "      <td>0.979882</td>\n",
       "      <td>00:00</td>\n",
       "    </tr>\n",
       "    <tr>\n",
       "      <td>26</td>\n",
       "      <td>0.016181</td>\n",
       "      <td>0.022952</td>\n",
       "      <td>0.979882</td>\n",
       "      <td>00:00</td>\n",
       "    </tr>\n",
       "    <tr>\n",
       "      <td>27</td>\n",
       "      <td>0.015975</td>\n",
       "      <td>0.022672</td>\n",
       "      <td>0.980864</td>\n",
       "      <td>00:00</td>\n",
       "    </tr>\n",
       "    <tr>\n",
       "      <td>28</td>\n",
       "      <td>0.015779</td>\n",
       "      <td>0.022411</td>\n",
       "      <td>0.980864</td>\n",
       "      <td>00:00</td>\n",
       "    </tr>\n",
       "    <tr>\n",
       "      <td>29</td>\n",
       "      <td>0.015593</td>\n",
       "      <td>0.022168</td>\n",
       "      <td>0.981845</td>\n",
       "      <td>00:00</td>\n",
       "    </tr>\n",
       "    <tr>\n",
       "      <td>30</td>\n",
       "      <td>0.015417</td>\n",
       "      <td>0.021941</td>\n",
       "      <td>0.981845</td>\n",
       "      <td>00:00</td>\n",
       "    </tr>\n",
       "    <tr>\n",
       "      <td>31</td>\n",
       "      <td>0.015249</td>\n",
       "      <td>0.021728</td>\n",
       "      <td>0.981845</td>\n",
       "      <td>00:00</td>\n",
       "    </tr>\n",
       "    <tr>\n",
       "      <td>32</td>\n",
       "      <td>0.015088</td>\n",
       "      <td>0.021529</td>\n",
       "      <td>0.981845</td>\n",
       "      <td>00:00</td>\n",
       "    </tr>\n",
       "    <tr>\n",
       "      <td>33</td>\n",
       "      <td>0.014935</td>\n",
       "      <td>0.021341</td>\n",
       "      <td>0.981845</td>\n",
       "      <td>00:00</td>\n",
       "    </tr>\n",
       "    <tr>\n",
       "      <td>34</td>\n",
       "      <td>0.014788</td>\n",
       "      <td>0.021164</td>\n",
       "      <td>0.981845</td>\n",
       "      <td>00:00</td>\n",
       "    </tr>\n",
       "    <tr>\n",
       "      <td>35</td>\n",
       "      <td>0.014647</td>\n",
       "      <td>0.020998</td>\n",
       "      <td>0.982336</td>\n",
       "      <td>00:00</td>\n",
       "    </tr>\n",
       "    <tr>\n",
       "      <td>36</td>\n",
       "      <td>0.014512</td>\n",
       "      <td>0.020840</td>\n",
       "      <td>0.982826</td>\n",
       "      <td>00:00</td>\n",
       "    </tr>\n",
       "    <tr>\n",
       "      <td>37</td>\n",
       "      <td>0.014382</td>\n",
       "      <td>0.020691</td>\n",
       "      <td>0.982826</td>\n",
       "      <td>00:00</td>\n",
       "    </tr>\n",
       "    <tr>\n",
       "      <td>38</td>\n",
       "      <td>0.014257</td>\n",
       "      <td>0.020550</td>\n",
       "      <td>0.982826</td>\n",
       "      <td>00:00</td>\n",
       "    </tr>\n",
       "    <tr>\n",
       "      <td>39</td>\n",
       "      <td>0.014136</td>\n",
       "      <td>0.020415</td>\n",
       "      <td>0.982826</td>\n",
       "      <td>00:00</td>\n",
       "    </tr>\n",
       "  </tbody>\n",
       "</table>"
      ],
      "text/plain": [
       "<IPython.core.display.HTML object>"
      ]
     },
     "metadata": {},
     "output_type": "display_data"
    }
   ],
   "source": [
    "learn.fit(40, 0.1)"
   ]
  },
  {
   "cell_type": "code",
   "execution_count": null,
   "metadata": {},
   "outputs": [
    {
     "data": {
      "image/png": "[encoded data removed]",
      "text/plain": [
       "<Figure size 432x288 with 1 Axes>"
      ]
     },
     "metadata": {
      "needs_background": "light"
     },
     "output_type": "display_data"
    }
   ],
   "source": [
    "plt.plot(L(learn.recorder.values).itemgot(2));"
   ]
  },
  {
   "cell_type": "code",
   "execution_count": null,
   "metadata": {},
   "outputs": [
    {
     "data": {
      "text/plain": [
       "0.982826292514801"
      ]
     },
     "execution_count": null,
     "metadata": {},
     "output_type": "execute_result"
    }
   ],
   "source": [
    "learn.recorder.values[-1][2]"
   ]
  },
  {
   "cell_type": "code",
   "execution_count": null,
   "metadata": {},
   "outputs": [
    {
     "data": {
      "text/html": [
       "<table border=\"1\" class=\"dataframe\">\n",
       "  <thead>\n",
       "    <tr style=\"text-align: left;\">\n",
       "      <th>epoch</th>\n",
       "      <th>train_loss</th>\n",
       "      <th>valid_loss</th>\n",
       "      <th>accuracy</th>\n",
       "      <th>time</th>\n",
       "    </tr>\n",
       "  </thead>\n",
       "  <tbody>\n",
       "    <tr>\n",
       "      <td>0</td>\n",
       "      <td>0.082089</td>\n",
       "      <td>0.009578</td>\n",
       "      <td>0.997056</td>\n",
       "      <td>00:11</td>\n",
       "    </tr>\n",
       "  </tbody>\n",
       "</table>"
      ],
      "text/plain": [
       "<IPython.core.display.HTML object>"
      ]
     },
     "metadata": {},
     "output_type": "display_data"
    }
   ],
   "source": [
    "dls = ImageDataLoaders.from_folder(path)\n",
    "learn = cnn_learner(dls, resnet18, pretrained=False,\n",
    "                    loss_func=F.cross_entropy, metrics=accuracy)\n",
    "learn.fit_one_cycle(1, 0.1)"
   ]
  },
  {
   "cell_type": "markdown",
   "metadata": {},
   "source": [
    "## Jargon recap"
   ]
  },
  {
   "cell_type": "markdown",
   "metadata": {},
   "source": [
    "#### _Choose Your Own Adventure_ reminder"
   ]
  },
  {
   "cell_type": "markdown",
   "metadata": {},
   "source": [
    "## Questionnaire"
   ]
  },
  {
   "cell_type": "markdown",
   "metadata": {},
   "source": [
    "1. How is a greyscale image represented on a computer? How about a color image?\n",
    "1. How are the files and folders in the `MNIST_SAMPLE` dataset structured? Why?\n",
    "1. Explain how the \"pixel similarity\" approach to classifying digits works.\n",
    "1. What is a list comprehension? Create one now that selects odd numbers from a list and doubles them.\n",
    "1. What is a \"rank 3 tensor\"?\n",
    "1. What is the difference between tensor rank and shape? How do you get the rank from the shape?\n",
    "1. What are RMSE and L1 norm?\n",
    "1. How can you apply a calculation on thousands of numbers at once, many thousands of times faster than a Python loop?\n",
    "1. Create a 3x3 tensor or array containing the numbers from 1 to 9. Double it. Select the bottom right 4 numbers.\n",
    "1. What is broadcasting?\n",
    "1. Are metrics generally calculated using the training set, or the validation set? Why?\n",
    "1. What is SGD?\n",
    "1. Why does SGD use mini batches?\n",
    "1. What are the 7 steps in SGD for machine learning?\n",
    "1. How do we initialize the weights in a model?\n",
    "1. What is \"loss\"?\n",
    "1. Why can't we always use a high learning rate?\n",
    "1. What is a \"gradient\"?\n",
    "1. Do you need to know how to calculate gradients yourself?\n",
    "1. Why can't we use accuracy as a loss function?\n",
    "1. Draw the sigmoid function. What is special about its shape?\n",
    "1. What is the difference between loss and metric?\n",
    "1. What is the function to calculate new weights using a learning rate?\n",
    "1. What does the `DataLoader` class do?\n",
    "1. Write pseudo-code showing the basic steps taken each epoch for SGD.\n",
    "1. Create a function which, if passed two arguments `[1,2,3,4]` and `'abcd'`, returns `[(1, 'a'), (2, 'b'), (3, 'c'), (4, 'd')]`. What is special about that output data structure?\n",
    "1. What does `view` do in PyTorch?\n",
    "1. What are the \"bias\" parameters in a neural network? Why do we need them?\n",
    "1. What does the `@` operator do in python?\n",
    "1. What does the `backward` method do?\n",
    "1. Why do we have to zero the gradients?\n",
    "1. What information do we have to pass to `Learner`?\n",
    "1. Show python or pseudo-code for the basic steps of a training loop.\n",
    "1. What is \"ReLU\"? Draw a plot of it for values from `-2` to `+2`.\n",
    "1. What is an \"activation function\"?\n",
    "1. What's the difference between `F.relu` and `nn.ReLU`?\n",
    "1. The universal approximation theorem shows that any function can be approximated as closely as needed using just one nonlinearity. So why do we normally use more?"
   ]
  },
  {
   "cell_type": "markdown",
   "metadata": {},
   "source": [
    "### Further research"
   ]
  },
  {
   "cell_type": "markdown",
   "metadata": {},
   "source": [
    "1. Create your own implementation of `Learner` from scratch, based on the training loop shown in this chapter.\n",
    "1. Complete all the steps in this chapter using the full MNIST datasets (that is, for all digits, not just threes and sevens). This is a significant project and will take you quite a bit of time to complete! You'll need to do some of your own research to figure out how to overcome some obstacles you'll meet on the way."
   ]
  },
  {
   "cell_type": "code",
   "execution_count": null,
   "metadata": {},
   "outputs": [],
   "source": []
  }
 ],
 "metadata": {
  "jupytext": {
   "split_at_heading": true
  },
  "kernelspec": {
   "display_name": "Python 3",
   "language": "python",
   "name": "python3"
  },
  "language_info": {
   "codemirror_mode": {
    "name": "ipython",
    "version": 3
   },
   "file_extension": ".py",
   "mimetype": "text/x-python",
   "name": "python",
   "nbconvert_exporter": "python",
   "pygments_lexer": "ipython3",
   "version": "3.7.7"
  }
 },
 "nbformat": 4,
 "nbformat_minor": 4
}
